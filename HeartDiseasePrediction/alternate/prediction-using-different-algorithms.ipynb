{
 "cells": [
  {
   "cell_type": "markdown",
   "id": "e968aef3",
   "metadata": {
    "id": "cuaI-xoAkj3q",
    "papermill": {
     "duration": 0.05054,
     "end_time": "2022-01-27T10:30:27.242741",
     "exception": false,
     "start_time": "2022-01-27T10:30:27.192201",
     "status": "completed"
    },
    "tags": []
   },
   "source": [
    "<center><h1> Heart Disease Diagnosis </h1></center>"
   ]
  },
  {
   "cell_type": "markdown",
   "id": "60509d5e",
   "metadata": {},
   "source": [
    "<img src='UML-Diagram.png'>"
   ]
  },
  {
   "cell_type": "markdown",
   "id": "54df1f3a",
   "metadata": {
    "id": "zf1z4ySDm1v9",
    "papermill": {
     "duration": 0.048968,
     "end_time": "2022-01-27T10:30:27.477769",
     "exception": false,
     "start_time": "2022-01-27T10:30:27.428801",
     "status": "completed"
    },
    "tags": []
   },
   "source": [
    "### Problem Statemtent"
   ]
  },
  {
   "cell_type": "markdown",
   "id": "c831fe07",
   "metadata": {
    "id": "I8eEhkc6m1v9",
    "papermill": {
     "duration": 0.048813,
     "end_time": "2022-01-27T10:30:27.575787",
     "exception": false,
     "start_time": "2022-01-27T10:30:27.526974",
     "status": "completed"
    },
    "tags": []
   },
   "source": [
    "<b> By using these data we have to Predict wheather a patient is suffering from heart disease or not based on different parameters</b>"
   ]
  },
  {
   "cell_type": "markdown",
   "id": "62fc5813",
   "metadata": {
    "id": "opXAGD661dDj",
    "papermill": {
     "duration": 0.056932,
     "end_time": "2022-01-27T10:30:27.681788",
     "exception": false,
     "start_time": "2022-01-27T10:30:27.624856",
     "status": "completed"
    },
    "tags": []
   },
   "source": [
    "## Importing Necessary Libraries"
   ]
  },
  {
   "cell_type": "code",
   "execution_count": 1,
   "id": "2d355877",
   "metadata": {
    "_cell_guid": "79c7e3d0-c299-4dcb-8224-4455121ee9b0",
    "_uuid": "d629ff2d2480ee46fbb7e2d37f6b5fab8052498a",
    "execution": {
     "iopub.execute_input": "2022-01-27T10:30:27.790485Z",
     "iopub.status.busy": "2022-01-27T10:30:27.788820Z",
     "iopub.status.idle": "2022-01-27T10:30:38.318412Z",
     "shell.execute_reply": "2022-01-27T10:30:38.317799Z",
     "shell.execute_reply.started": "2022-01-27T10:13:27.488831Z"
    },
    "executionInfo": {
     "elapsed": 4213,
     "status": "ok",
     "timestamp": 1602071853570,
     "user": {
      "displayName": "Pianalytix Vrec",
      "photoUrl": "",
      "userId": "08286299111597749388"
     },
     "user_tz": -330
    },
    "id": "FeuDtXG81dDk",
    "outputId": "d502c9bd-cbb3-4b97-f832-1eb7c43e977c",
    "papermill": {
     "duration": 10.584352,
     "end_time": "2022-01-27T10:30:38.318592",
     "exception": false,
     "start_time": "2022-01-27T10:30:27.734240",
     "status": "completed"
    },
    "tags": []
   },
   "outputs": [
    {
     "name": "stdout",
     "output_type": "stream",
     "text": [
      "Requirement already satisfied: catboost in c:\\users\\rachi\\appdata\\local\\programs\\python\\python39\\lib\\site-packages (1.0.4)\n",
      "Requirement already satisfied: six in c:\\users\\rachi\\appdata\\local\\programs\\python\\python39\\lib\\site-packages (from catboost) (1.15.0)\n",
      "Requirement already satisfied: graphviz in c:\\users\\rachi\\appdata\\local\\programs\\python\\python39\\lib\\site-packages (from catboost) (0.19.1)\n",
      "Requirement already satisfied: matplotlib in c:\\users\\rachi\\appdata\\local\\programs\\python\\python39\\lib\\site-packages (from catboost) (3.4.1)\n",
      "Requirement already satisfied: plotly in c:\\users\\rachi\\appdata\\local\\programs\\python\\python39\\lib\\site-packages (from catboost) (5.1.0)\n",
      "Requirement already satisfied: numpy>=1.16.0 in c:\\users\\rachi\\appdata\\local\\programs\\python\\python39\\lib\\site-packages (from catboost) (1.19.5)\n",
      "Requirement already satisfied: pandas>=0.24.0 in c:\\users\\rachi\\appdata\\local\\programs\\python\\python39\\lib\\site-packages (from catboost) (1.2.1)\n",
      "Requirement already satisfied: scipy in c:\\users\\rachi\\appdata\\local\\programs\\python\\python39\\lib\\site-packages (from catboost) (1.6.2)\n",
      "Requirement already satisfied: python-dateutil>=2.7.3 in c:\\users\\rachi\\appdata\\roaming\\python\\python39\\site-packages (from pandas>=0.24.0->catboost) (2.8.1)\n",
      "Requirement already satisfied: pytz>=2017.3 in c:\\users\\rachi\\appdata\\local\\programs\\python\\python39\\lib\\site-packages (from pandas>=0.24.0->catboost) (2020.5)\n",
      "Requirement already satisfied: pyparsing>=2.2.1 in c:\\users\\rachi\\appdata\\local\\programs\\python\\python39\\lib\\site-packages (from matplotlib->catboost) (2.4.7)\n",
      "Requirement already satisfied: pillow>=6.2.0 in c:\\users\\rachi\\appdata\\local\\programs\\python\\python39\\lib\\site-packages (from matplotlib->catboost) (8.2.0)\n",
      "Requirement already satisfied: cycler>=0.10 in c:\\users\\rachi\\appdata\\local\\programs\\python\\python39\\lib\\site-packages (from matplotlib->catboost) (0.10.0)\n",
      "Requirement already satisfied: kiwisolver>=1.0.1 in c:\\users\\rachi\\appdata\\local\\programs\\python\\python39\\lib\\site-packages (from matplotlib->catboost) (1.3.1)\n",
      "Requirement already satisfied: tenacity>=6.2.0 in c:\\users\\rachi\\appdata\\local\\programs\\python\\python39\\lib\\site-packages (from plotly->catboost) (8.0.1)\n"
     ]
    },
    {
     "name": "stderr",
     "output_type": "stream",
     "text": [
      "WARNING: You are using pip version 22.0.3; however, version 22.0.4 is available.\n",
      "You should consider upgrading via the 'c:\\users\\rachi\\appdata\\local\\programs\\python\\python39\\python.exe -m pip install --upgrade pip' command.\n"
     ]
    }
   ],
   "source": [
    "# Plotting Libraries\n",
    "import pandas as pd\n",
    "import numpy as np\n",
    "import matplotlib.pyplot as plt\n",
    "import seaborn as sns\n",
    "#import cufflinks as cf\n",
    "%matplotlib inline\n",
    "\n",
    "# Metrics for Classification technique\n",
    "from sklearn.metrics import classification_report,confusion_matrix,accuracy_score\n",
    "\n",
    "# Scaler\n",
    "from sklearn.preprocessing import StandardScaler\n",
    "from sklearn.model_selection import  RandomizedSearchCV, train_test_split\n",
    "\n",
    "from xgboost import XGBClassifier\n",
    "# !pip install catboost\n",
    "from catboost import CatBoostClassifier\n",
    "from sklearn.ensemble import RandomForestClassifier\n",
    "from sklearn.neighbors import KNeighborsClassifier\n",
    "from sklearn.svm import SVC"
   ]
  },
  {
   "cell_type": "markdown",
   "id": "8dd73ddd",
   "metadata": {
    "id": "kzcYSXvA1dDt",
    "papermill": {
     "duration": 0.049678,
     "end_time": "2022-01-27T10:30:38.420663",
     "exception": false,
     "start_time": "2022-01-27T10:30:38.370985",
     "status": "completed"
    },
    "tags": []
   },
   "source": [
    "## Data Loading\n",
    "\n",
    "Our first step is to extract train and test data. We will be extracting data using pandas function read_csv. Specify the location to the dataset and import them."
   ]
  },
  {
   "cell_type": "code",
   "execution_count": 2,
   "id": "a95c3af7",
   "metadata": {
    "execution": {
     "iopub.execute_input": "2022-01-27T10:30:38.528504Z",
     "iopub.status.busy": "2022-01-27T10:30:38.527890Z",
     "iopub.status.idle": "2022-01-27T10:30:38.569218Z",
     "shell.execute_reply": "2022-01-27T10:30:38.569717Z",
     "shell.execute_reply.started": "2022-01-27T10:13:40.566661Z"
    },
    "executionInfo": {
     "elapsed": 1210,
     "status": "ok",
     "timestamp": 1602071887780,
     "user": {
      "displayName": "Pianalytix Vrec",
      "photoUrl": "",
      "userId": "08286299111597749388"
     },
     "user_tz": -330
    },
    "id": "fB0OED_01dDw",
    "outputId": "94dfadf8-c6e7-4686-b74c-123200c6d54e",
    "papermill": {
     "duration": 0.099298,
     "end_time": "2022-01-27T10:30:38.569892",
     "exception": false,
     "start_time": "2022-01-27T10:30:38.470594",
     "status": "completed"
    },
    "tags": []
   },
   "outputs": [
    {
     "data": {
      "text/html": [
       "<div>\n",
       "<style scoped>\n",
       "    .dataframe tbody tr th:only-of-type {\n",
       "        vertical-align: middle;\n",
       "    }\n",
       "\n",
       "    .dataframe tbody tr th {\n",
       "        vertical-align: top;\n",
       "    }\n",
       "\n",
       "    .dataframe thead th {\n",
       "        text-align: right;\n",
       "    }\n",
       "</style>\n",
       "<table border=\"1\" class=\"dataframe\">\n",
       "  <thead>\n",
       "    <tr style=\"text-align: right;\">\n",
       "      <th></th>\n",
       "      <th>age</th>\n",
       "      <th>sex</th>\n",
       "      <th>cp</th>\n",
       "      <th>trestbps</th>\n",
       "      <th>chol</th>\n",
       "      <th>fbs</th>\n",
       "      <th>restecg</th>\n",
       "      <th>thalach</th>\n",
       "      <th>exang</th>\n",
       "      <th>oldpeak</th>\n",
       "      <th>slope</th>\n",
       "      <th>ca</th>\n",
       "      <th>thal</th>\n",
       "      <th>target</th>\n",
       "    </tr>\n",
       "  </thead>\n",
       "  <tbody>\n",
       "    <tr>\n",
       "      <th>0</th>\n",
       "      <td>52</td>\n",
       "      <td>1</td>\n",
       "      <td>0</td>\n",
       "      <td>125</td>\n",
       "      <td>212</td>\n",
       "      <td>0</td>\n",
       "      <td>1</td>\n",
       "      <td>168</td>\n",
       "      <td>0</td>\n",
       "      <td>1.0</td>\n",
       "      <td>2</td>\n",
       "      <td>2</td>\n",
       "      <td>3</td>\n",
       "      <td>0</td>\n",
       "    </tr>\n",
       "    <tr>\n",
       "      <th>1</th>\n",
       "      <td>53</td>\n",
       "      <td>1</td>\n",
       "      <td>0</td>\n",
       "      <td>140</td>\n",
       "      <td>203</td>\n",
       "      <td>1</td>\n",
       "      <td>0</td>\n",
       "      <td>155</td>\n",
       "      <td>1</td>\n",
       "      <td>3.1</td>\n",
       "      <td>0</td>\n",
       "      <td>0</td>\n",
       "      <td>3</td>\n",
       "      <td>0</td>\n",
       "    </tr>\n",
       "    <tr>\n",
       "      <th>2</th>\n",
       "      <td>70</td>\n",
       "      <td>1</td>\n",
       "      <td>0</td>\n",
       "      <td>145</td>\n",
       "      <td>174</td>\n",
       "      <td>0</td>\n",
       "      <td>1</td>\n",
       "      <td>125</td>\n",
       "      <td>1</td>\n",
       "      <td>2.6</td>\n",
       "      <td>0</td>\n",
       "      <td>0</td>\n",
       "      <td>3</td>\n",
       "      <td>0</td>\n",
       "    </tr>\n",
       "    <tr>\n",
       "      <th>3</th>\n",
       "      <td>61</td>\n",
       "      <td>1</td>\n",
       "      <td>0</td>\n",
       "      <td>148</td>\n",
       "      <td>203</td>\n",
       "      <td>0</td>\n",
       "      <td>1</td>\n",
       "      <td>161</td>\n",
       "      <td>0</td>\n",
       "      <td>0.0</td>\n",
       "      <td>2</td>\n",
       "      <td>1</td>\n",
       "      <td>3</td>\n",
       "      <td>0</td>\n",
       "    </tr>\n",
       "    <tr>\n",
       "      <th>4</th>\n",
       "      <td>62</td>\n",
       "      <td>0</td>\n",
       "      <td>0</td>\n",
       "      <td>138</td>\n",
       "      <td>294</td>\n",
       "      <td>1</td>\n",
       "      <td>1</td>\n",
       "      <td>106</td>\n",
       "      <td>0</td>\n",
       "      <td>1.9</td>\n",
       "      <td>1</td>\n",
       "      <td>3</td>\n",
       "      <td>2</td>\n",
       "      <td>0</td>\n",
       "    </tr>\n",
       "    <tr>\n",
       "      <th>5</th>\n",
       "      <td>58</td>\n",
       "      <td>0</td>\n",
       "      <td>0</td>\n",
       "      <td>100</td>\n",
       "      <td>248</td>\n",
       "      <td>0</td>\n",
       "      <td>0</td>\n",
       "      <td>122</td>\n",
       "      <td>0</td>\n",
       "      <td>1.0</td>\n",
       "      <td>1</td>\n",
       "      <td>0</td>\n",
       "      <td>2</td>\n",
       "      <td>1</td>\n",
       "    </tr>\n",
       "  </tbody>\n",
       "</table>\n",
       "</div>"
      ],
      "text/plain": [
       "   age  sex  cp  trestbps  chol  fbs  restecg  thalach  exang  oldpeak  slope  \\\n",
       "0   52    1   0       125   212    0        1      168      0      1.0      2   \n",
       "1   53    1   0       140   203    1        0      155      1      3.1      0   \n",
       "2   70    1   0       145   174    0        1      125      1      2.6      0   \n",
       "3   61    1   0       148   203    0        1      161      0      0.0      2   \n",
       "4   62    0   0       138   294    1        1      106      0      1.9      1   \n",
       "5   58    0   0       100   248    0        0      122      0      1.0      1   \n",
       "\n",
       "   ca  thal  target  \n",
       "0   2     3       0  \n",
       "1   0     3       0  \n",
       "2   0     3       0  \n",
       "3   1     3       0  \n",
       "4   3     2       0  \n",
       "5   0     2       1  "
      ]
     },
     "execution_count": 2,
     "metadata": {},
     "output_type": "execute_result"
    }
   ],
   "source": [
    "# Importing Data\n",
    "# This Python 3 environment comes with many helpful analytics libraries installed\n",
    "# It is defined by the kaggle/python Docker image: https://github.com/kaggle/docker-python\n",
    "# For example, here's several helpful packages to load\n",
    "\n",
    "import numpy as np # linear algebra\n",
    "import pandas as pd # data processing, CSV file I/O (e.g. pd.read_csv)\n",
    "import matplotlib.pyplot as plt\n",
    "import seaborn as sns\n",
    "from sklearn.preprocessing import StandardScaler\n",
    "\n",
    "import xgboost as xgb\n",
    "\n",
    "\n",
    "\n",
    "data = pd.read_csv('heart.csv')\n",
    "data.head(6) # Mention no of rows to be displayed from the top in the argument"
   ]
  },
  {
   "cell_type": "markdown",
   "id": "2156d770",
   "metadata": {
    "id": "eMD_gPVO1dD6",
    "papermill": {
     "duration": 0.050895,
     "end_time": "2022-01-27T10:30:38.671872",
     "exception": false,
     "start_time": "2022-01-27T10:30:38.620977",
     "status": "completed"
    },
    "tags": []
   },
   "source": [
    "# Exploratory Data Analysis "
   ]
  },
  {
   "cell_type": "code",
   "execution_count": 3,
   "id": "cb66ee51",
   "metadata": {
    "execution": {
     "iopub.execute_input": "2022-01-27T10:30:38.779152Z",
     "iopub.status.busy": "2022-01-27T10:30:38.778356Z",
     "iopub.status.idle": "2022-01-27T10:30:38.781648Z",
     "shell.execute_reply": "2022-01-27T10:30:38.782042Z",
     "shell.execute_reply.started": "2022-01-27T10:13:40.624814Z"
    },
    "executionInfo": {
     "elapsed": 1077,
     "status": "ok",
     "timestamp": 1602072346342,
     "user": {
      "displayName": "Pianalytix Vrec",
      "photoUrl": "",
      "userId": "08286299111597749388"
     },
     "user_tz": -330
    },
    "id": "mjxutqJx1dD8",
    "outputId": "fa1ee719-eeef-4176-9084-f8d4eca9477f",
    "papermill": {
     "duration": 0.059466,
     "end_time": "2022-01-27T10:30:38.782212",
     "exception": false,
     "start_time": "2022-01-27T10:30:38.722746",
     "status": "completed"
    },
    "tags": []
   },
   "outputs": [
    {
     "data": {
      "text/plain": [
       "(1025, 14)"
      ]
     },
     "execution_count": 3,
     "metadata": {},
     "output_type": "execute_result"
    }
   ],
   "source": [
    "#Size of the dataset\n",
    "data.shape"
   ]
  },
  {
   "cell_type": "markdown",
   "id": "e7cdaed4",
   "metadata": {
    "id": "RDOCjked1dEG",
    "papermill": {
     "duration": 0.051086,
     "end_time": "2022-01-27T10:30:38.884748",
     "exception": false,
     "start_time": "2022-01-27T10:30:38.833662",
     "status": "completed"
    },
    "tags": []
   },
   "source": [
    "**We have a dataset with 303 rows which indicates a smaller set of data.**"
   ]
  },
  {
   "cell_type": "code",
   "execution_count": 4,
   "id": "3e731f55",
   "metadata": {
    "execution": {
     "iopub.execute_input": "2022-01-27T10:30:38.998078Z",
     "iopub.status.busy": "2022-01-27T10:30:38.997130Z",
     "iopub.status.idle": "2022-01-27T10:30:39.017657Z",
     "shell.execute_reply": "2022-01-27T10:30:39.018079Z",
     "shell.execute_reply.started": "2022-01-27T10:13:40.636011Z"
    },
    "executionInfo": {
     "elapsed": 1465,
     "status": "ok",
     "timestamp": 1602072376603,
     "user": {
      "displayName": "Pianalytix Vrec",
      "photoUrl": "",
      "userId": "08286299111597749388"
     },
     "user_tz": -330
    },
    "id": "9r-LoDPi1dEH",
    "outputId": "54f13192-1d39-43fd-c2dd-e760cae156f3",
    "papermill": {
     "duration": 0.081479,
     "end_time": "2022-01-27T10:30:39.018250",
     "exception": false,
     "start_time": "2022-01-27T10:30:38.936771",
     "status": "completed"
    },
    "tags": []
   },
   "outputs": [
    {
     "name": "stdout",
     "output_type": "stream",
     "text": [
      "<class 'pandas.core.frame.DataFrame'>\n",
      "RangeIndex: 1025 entries, 0 to 1024\n",
      "Data columns (total 14 columns):\n",
      " #   Column    Non-Null Count  Dtype  \n",
      "---  ------    --------------  -----  \n",
      " 0   age       1025 non-null   int64  \n",
      " 1   sex       1025 non-null   int64  \n",
      " 2   cp        1025 non-null   int64  \n",
      " 3   trestbps  1025 non-null   int64  \n",
      " 4   chol      1025 non-null   int64  \n",
      " 5   fbs       1025 non-null   int64  \n",
      " 6   restecg   1025 non-null   int64  \n",
      " 7   thalach   1025 non-null   int64  \n",
      " 8   exang     1025 non-null   int64  \n",
      " 9   oldpeak   1025 non-null   float64\n",
      " 10  slope     1025 non-null   int64  \n",
      " 11  ca        1025 non-null   int64  \n",
      " 12  thal      1025 non-null   int64  \n",
      " 13  target    1025 non-null   int64  \n",
      "dtypes: float64(1), int64(13)\n",
      "memory usage: 112.2 KB\n"
     ]
    }
   ],
   "source": [
    "data.info()"
   ]
  },
  {
   "cell_type": "markdown",
   "id": "6938da17",
   "metadata": {
    "id": "8cfV43U-1dEO",
    "papermill": {
     "duration": 0.052291,
     "end_time": "2022-01-27T10:30:39.122085",
     "exception": false,
     "start_time": "2022-01-27T10:30:39.069794",
     "status": "completed"
    },
    "tags": []
   },
   "source": [
    "* Out of 14 features, we have 13 int type and only one with float data type.\n",
    "* Woah! We have no missing values in our dataset."
   ]
  },
  {
   "cell_type": "code",
   "execution_count": 5,
   "id": "98b4c6ff",
   "metadata": {
    "execution": {
     "iopub.execute_input": "2022-01-27T10:30:39.229381Z",
     "iopub.status.busy": "2022-01-27T10:30:39.228815Z",
     "iopub.status.idle": "2022-01-27T10:30:39.274349Z",
     "shell.execute_reply": "2022-01-27T10:30:39.273833Z",
     "shell.execute_reply.started": "2022-01-27T10:13:40.671541Z"
    },
    "executionInfo": {
     "elapsed": 4638,
     "status": "ok",
     "timestamp": 1602072432908,
     "user": {
      "displayName": "Pianalytix Vrec",
      "photoUrl": "",
      "userId": "08286299111597749388"
     },
     "user_tz": -330
    },
    "id": "x2EaSar59QiJ",
    "outputId": "9156cede-ade1-45df-eff9-f65d7dd81a88",
    "papermill": {
     "duration": 0.100263,
     "end_time": "2022-01-27T10:30:39.274495",
     "exception": false,
     "start_time": "2022-01-27T10:30:39.174232",
     "status": "completed"
    },
    "tags": []
   },
   "outputs": [
    {
     "data": {
      "text/html": [
       "<div>\n",
       "<style scoped>\n",
       "    .dataframe tbody tr th:only-of-type {\n",
       "        vertical-align: middle;\n",
       "    }\n",
       "\n",
       "    .dataframe tbody tr th {\n",
       "        vertical-align: top;\n",
       "    }\n",
       "\n",
       "    .dataframe thead th {\n",
       "        text-align: right;\n",
       "    }\n",
       "</style>\n",
       "<table border=\"1\" class=\"dataframe\">\n",
       "  <thead>\n",
       "    <tr style=\"text-align: right;\">\n",
       "      <th></th>\n",
       "      <th>age</th>\n",
       "      <th>sex</th>\n",
       "      <th>cp</th>\n",
       "      <th>trestbps</th>\n",
       "      <th>chol</th>\n",
       "      <th>fbs</th>\n",
       "      <th>restecg</th>\n",
       "      <th>thalach</th>\n",
       "      <th>exang</th>\n",
       "      <th>oldpeak</th>\n",
       "      <th>slope</th>\n",
       "      <th>ca</th>\n",
       "      <th>thal</th>\n",
       "      <th>target</th>\n",
       "    </tr>\n",
       "  </thead>\n",
       "  <tbody>\n",
       "    <tr>\n",
       "      <th>count</th>\n",
       "      <td>1025.000000</td>\n",
       "      <td>1025.000000</td>\n",
       "      <td>1025.000000</td>\n",
       "      <td>1025.000000</td>\n",
       "      <td>1025.00000</td>\n",
       "      <td>1025.000000</td>\n",
       "      <td>1025.000000</td>\n",
       "      <td>1025.000000</td>\n",
       "      <td>1025.000000</td>\n",
       "      <td>1025.000000</td>\n",
       "      <td>1025.000000</td>\n",
       "      <td>1025.000000</td>\n",
       "      <td>1025.000000</td>\n",
       "      <td>1025.000000</td>\n",
       "    </tr>\n",
       "    <tr>\n",
       "      <th>mean</th>\n",
       "      <td>54.434146</td>\n",
       "      <td>0.695610</td>\n",
       "      <td>0.942439</td>\n",
       "      <td>131.611707</td>\n",
       "      <td>246.00000</td>\n",
       "      <td>0.149268</td>\n",
       "      <td>0.529756</td>\n",
       "      <td>149.114146</td>\n",
       "      <td>0.336585</td>\n",
       "      <td>1.071512</td>\n",
       "      <td>1.385366</td>\n",
       "      <td>0.754146</td>\n",
       "      <td>2.323902</td>\n",
       "      <td>0.513171</td>\n",
       "    </tr>\n",
       "    <tr>\n",
       "      <th>std</th>\n",
       "      <td>9.072290</td>\n",
       "      <td>0.460373</td>\n",
       "      <td>1.029641</td>\n",
       "      <td>17.516718</td>\n",
       "      <td>51.59251</td>\n",
       "      <td>0.356527</td>\n",
       "      <td>0.527878</td>\n",
       "      <td>23.005724</td>\n",
       "      <td>0.472772</td>\n",
       "      <td>1.175053</td>\n",
       "      <td>0.617755</td>\n",
       "      <td>1.030798</td>\n",
       "      <td>0.620660</td>\n",
       "      <td>0.500070</td>\n",
       "    </tr>\n",
       "    <tr>\n",
       "      <th>min</th>\n",
       "      <td>29.000000</td>\n",
       "      <td>0.000000</td>\n",
       "      <td>0.000000</td>\n",
       "      <td>94.000000</td>\n",
       "      <td>126.00000</td>\n",
       "      <td>0.000000</td>\n",
       "      <td>0.000000</td>\n",
       "      <td>71.000000</td>\n",
       "      <td>0.000000</td>\n",
       "      <td>0.000000</td>\n",
       "      <td>0.000000</td>\n",
       "      <td>0.000000</td>\n",
       "      <td>0.000000</td>\n",
       "      <td>0.000000</td>\n",
       "    </tr>\n",
       "    <tr>\n",
       "      <th>25%</th>\n",
       "      <td>48.000000</td>\n",
       "      <td>0.000000</td>\n",
       "      <td>0.000000</td>\n",
       "      <td>120.000000</td>\n",
       "      <td>211.00000</td>\n",
       "      <td>0.000000</td>\n",
       "      <td>0.000000</td>\n",
       "      <td>132.000000</td>\n",
       "      <td>0.000000</td>\n",
       "      <td>0.000000</td>\n",
       "      <td>1.000000</td>\n",
       "      <td>0.000000</td>\n",
       "      <td>2.000000</td>\n",
       "      <td>0.000000</td>\n",
       "    </tr>\n",
       "    <tr>\n",
       "      <th>50%</th>\n",
       "      <td>56.000000</td>\n",
       "      <td>1.000000</td>\n",
       "      <td>1.000000</td>\n",
       "      <td>130.000000</td>\n",
       "      <td>240.00000</td>\n",
       "      <td>0.000000</td>\n",
       "      <td>1.000000</td>\n",
       "      <td>152.000000</td>\n",
       "      <td>0.000000</td>\n",
       "      <td>0.800000</td>\n",
       "      <td>1.000000</td>\n",
       "      <td>0.000000</td>\n",
       "      <td>2.000000</td>\n",
       "      <td>1.000000</td>\n",
       "    </tr>\n",
       "    <tr>\n",
       "      <th>75%</th>\n",
       "      <td>61.000000</td>\n",
       "      <td>1.000000</td>\n",
       "      <td>2.000000</td>\n",
       "      <td>140.000000</td>\n",
       "      <td>275.00000</td>\n",
       "      <td>0.000000</td>\n",
       "      <td>1.000000</td>\n",
       "      <td>166.000000</td>\n",
       "      <td>1.000000</td>\n",
       "      <td>1.800000</td>\n",
       "      <td>2.000000</td>\n",
       "      <td>1.000000</td>\n",
       "      <td>3.000000</td>\n",
       "      <td>1.000000</td>\n",
       "    </tr>\n",
       "    <tr>\n",
       "      <th>max</th>\n",
       "      <td>77.000000</td>\n",
       "      <td>1.000000</td>\n",
       "      <td>3.000000</td>\n",
       "      <td>200.000000</td>\n",
       "      <td>564.00000</td>\n",
       "      <td>1.000000</td>\n",
       "      <td>2.000000</td>\n",
       "      <td>202.000000</td>\n",
       "      <td>1.000000</td>\n",
       "      <td>6.200000</td>\n",
       "      <td>2.000000</td>\n",
       "      <td>4.000000</td>\n",
       "      <td>3.000000</td>\n",
       "      <td>1.000000</td>\n",
       "    </tr>\n",
       "  </tbody>\n",
       "</table>\n",
       "</div>"
      ],
      "text/plain": [
       "               age          sex           cp     trestbps        chol  \\\n",
       "count  1025.000000  1025.000000  1025.000000  1025.000000  1025.00000   \n",
       "mean     54.434146     0.695610     0.942439   131.611707   246.00000   \n",
       "std       9.072290     0.460373     1.029641    17.516718    51.59251   \n",
       "min      29.000000     0.000000     0.000000    94.000000   126.00000   \n",
       "25%      48.000000     0.000000     0.000000   120.000000   211.00000   \n",
       "50%      56.000000     1.000000     1.000000   130.000000   240.00000   \n",
       "75%      61.000000     1.000000     2.000000   140.000000   275.00000   \n",
       "max      77.000000     1.000000     3.000000   200.000000   564.00000   \n",
       "\n",
       "               fbs      restecg      thalach        exang      oldpeak  \\\n",
       "count  1025.000000  1025.000000  1025.000000  1025.000000  1025.000000   \n",
       "mean      0.149268     0.529756   149.114146     0.336585     1.071512   \n",
       "std       0.356527     0.527878    23.005724     0.472772     1.175053   \n",
       "min       0.000000     0.000000    71.000000     0.000000     0.000000   \n",
       "25%       0.000000     0.000000   132.000000     0.000000     0.000000   \n",
       "50%       0.000000     1.000000   152.000000     0.000000     0.800000   \n",
       "75%       0.000000     1.000000   166.000000     1.000000     1.800000   \n",
       "max       1.000000     2.000000   202.000000     1.000000     6.200000   \n",
       "\n",
       "             slope           ca         thal       target  \n",
       "count  1025.000000  1025.000000  1025.000000  1025.000000  \n",
       "mean      1.385366     0.754146     2.323902     0.513171  \n",
       "std       0.617755     1.030798     0.620660     0.500070  \n",
       "min       0.000000     0.000000     0.000000     0.000000  \n",
       "25%       1.000000     0.000000     2.000000     0.000000  \n",
       "50%       1.000000     0.000000     2.000000     1.000000  \n",
       "75%       2.000000     1.000000     3.000000     1.000000  \n",
       "max       2.000000     4.000000     3.000000     1.000000  "
      ]
     },
     "execution_count": 5,
     "metadata": {},
     "output_type": "execute_result"
    }
   ],
   "source": [
    "data.describe()"
   ]
  },
  {
   "cell_type": "markdown",
   "id": "a821b8c8",
   "metadata": {
    "id": "Z0DeWz3t1dEV",
    "papermill": {
     "duration": 0.051891,
     "end_time": "2022-01-27T10:30:39.378270",
     "exception": false,
     "start_time": "2022-01-27T10:30:39.326379",
     "status": "completed"
    },
    "tags": []
   },
   "source": [
    "**Let's check correleation between various features.**"
   ]
  },
  {
   "cell_type": "code",
   "execution_count": 6,
   "id": "35d68edd",
   "metadata": {
    "execution": {
     "iopub.execute_input": "2022-01-27T10:30:39.489274Z",
     "iopub.status.busy": "2022-01-27T10:30:39.488596Z",
     "iopub.status.idle": "2022-01-27T10:30:40.967361Z",
     "shell.execute_reply": "2022-01-27T10:30:40.967891Z",
     "shell.execute_reply.started": "2022-01-27T10:13:40.732315Z"
    },
    "executionInfo": {
     "elapsed": 8524,
     "status": "ok",
     "timestamp": 1602072506844,
     "user": {
      "displayName": "Pianalytix Vrec",
      "photoUrl": "",
      "userId": "08286299111597749388"
     },
     "user_tz": -330
    },
    "id": "wJcC8hMu1dEW",
    "outputId": "402d4da6-e9a6-49d6-8b25-1b5fac9396ce",
    "papermill": {
     "duration": 1.537506,
     "end_time": "2022-01-27T10:30:40.968057",
     "exception": false,
     "start_time": "2022-01-27T10:30:39.430551",
     "status": "completed"
    },
    "tags": []
   },
   "outputs": [
    {
     "data": {
      "image/png": "[encoded data removed]",
      "text/plain": [
       "<Figure size 1440x864 with 2 Axes>"
      ]
     },
     "metadata": {
      "needs_background": "light"
     },
     "output_type": "display_data"
    }
   ],
   "source": [
    "plt.figure(figsize=(20,12))\n",
    "sns.set_context('notebook',font_scale = 1.3)\n",
    "sns.heatmap(data.corr(),annot=True,linewidth =2)\n",
    "plt.tight_layout()"
   ]
  },
  {
   "cell_type": "markdown",
   "id": "60750500",
   "metadata": {
    "id": "muUGaqKX1dEd",
    "papermill": {
     "duration": 0.05859,
     "end_time": "2022-01-27T10:30:41.084416",
     "exception": false,
     "start_time": "2022-01-27T10:30:41.025826",
     "status": "completed"
    },
    "tags": []
   },
   "source": [
    "**Let's check the correlation of various features with the target feature.**"
   ]
  },
  {
   "cell_type": "code",
   "execution_count": 7,
   "id": "9acb41be",
   "metadata": {
    "execution": {
     "iopub.execute_input": "2022-01-27T10:30:41.207229Z",
     "iopub.status.busy": "2022-01-27T10:30:41.206647Z",
     "iopub.status.idle": "2022-01-27T10:30:41.634053Z",
     "shell.execute_reply": "2022-01-27T10:30:41.633602Z",
     "shell.execute_reply.started": "2022-01-27T10:13:42.391463Z"
    },
    "executionInfo": {
     "elapsed": 1822,
     "status": "ok",
     "timestamp": 1602072560783,
     "user": {
      "displayName": "Pianalytix Vrec",
      "photoUrl": "",
      "userId": "08286299111597749388"
     },
     "user_tz": -330
    },
    "id": "W3Hjg66H1dEe",
    "outputId": "2f4add69-2c06-4716-b064-732b256e92dd",
    "papermill": {
     "duration": 0.491739,
     "end_time": "2022-01-27T10:30:41.634184",
     "exception": false,
     "start_time": "2022-01-27T10:30:41.142445",
     "status": "completed"
    },
    "tags": []
   },
   "outputs": [
    {
     "data": {
      "image/png": "[encoded data removed]",
      "text/plain": [
       "<Figure size 1440x720 with 1 Axes>"
      ]
     },
     "metadata": {
      "needs_background": "light"
     },
     "output_type": "display_data"
    }
   ],
   "source": [
    "# plt.figure(figsize=(20,12))\n",
    "sns.set_context('notebook',font_scale = 2.3)\n",
    "data.drop('target', axis=1).corrwith(data.target).plot(kind='bar', grid=True, figsize=(20, 10), \n",
    "                                                   title=\"Correlation with the target feature\")\n",
    "plt.tight_layout()"
   ]
  },
  {
   "cell_type": "markdown",
   "id": "7e1b6623",
   "metadata": {
    "id": "4ifG2KfF1dEj",
    "papermill": {
     "duration": 0.058948,
     "end_time": "2022-01-27T10:30:41.752678",
     "exception": false,
     "start_time": "2022-01-27T10:30:41.693730",
     "status": "completed"
    },
    "tags": []
   },
   "source": [
    "* Four feature( \"cp\", \"restecg\", \"thalach\", \"slope\" ) are positively correlated with the target feature.\n",
    "* Other features are negatively correlated with the target feature."
   ]
  },
  {
   "cell_type": "markdown",
   "id": "71521ab7",
   "metadata": {
    "id": "vqH04Dga1dEk",
    "papermill": {
     "duration": 0.058854,
     "end_time": "2022-01-27T10:30:41.870691",
     "exception": false,
     "start_time": "2022-01-27T10:30:41.811837",
     "status": "completed"
    },
    "tags": []
   },
   "source": [
    "**Individual Feature Analysis**"
   ]
  },
  {
   "cell_type": "markdown",
   "id": "263f3bb1",
   "metadata": {
    "id": "2QAedck41dEl",
    "papermill": {
     "duration": 0.058902,
     "end_time": "2022-01-27T10:30:41.988750",
     "exception": false,
     "start_time": "2022-01-27T10:30:41.929848",
     "status": "completed"
    },
    "tags": []
   },
   "source": [
    "## Age Analysis"
   ]
  },
  {
   "cell_type": "code",
   "execution_count": 8,
   "id": "c0aca870",
   "metadata": {
    "execution": {
     "iopub.execute_input": "2022-01-27T10:30:42.116559Z",
     "iopub.status.busy": "2022-01-27T10:30:42.115903Z",
     "iopub.status.idle": "2022-01-27T10:30:42.388986Z",
     "shell.execute_reply": "2022-01-27T10:30:42.388507Z",
     "shell.execute_reply.started": "2022-01-27T10:13:42.967214Z"
    },
    "executionInfo": {
     "elapsed": 2000,
     "status": "ok",
     "timestamp": 1602072646444,
     "user": {
      "displayName": "Pianalytix Vrec",
      "photoUrl": "",
      "userId": "08286299111597749388"
     },
     "user_tz": -330
    },
    "id": "qbMx8-iw1dEl",
    "outputId": "3a986dfe-77e1-4b78-ceb6-4f247060eae1",
    "papermill": {
     "duration": 0.34126,
     "end_time": "2022-01-27T10:30:42.389122",
     "exception": false,
     "start_time": "2022-01-27T10:30:42.047862",
     "status": "completed"
    },
    "tags": []
   },
   "outputs": [
    {
     "data": {
      "image/png": "[encoded data removed]",
      "text/plain": [
       "<Figure size 1800x864 with 1 Axes>"
      ]
     },
     "metadata": {
      "needs_background": "light"
     },
     "output_type": "display_data"
    }
   ],
   "source": [
    "# Let's check 10 ages and their count\n",
    "\n",
    "plt.figure(figsize=(25,12))\n",
    "sns.set_context('notebook',font_scale = 1.5)\n",
    "sns.barplot(x=data.age.value_counts()[:10].index,y=data.age.value_counts()[:10].values)\n",
    "plt.tight_layout()"
   ]
  },
  {
   "cell_type": "markdown",
   "id": "ecfae653",
   "metadata": {
    "id": "6OMMD0l51dEp",
    "papermill": {
     "duration": 0.05953,
     "end_time": "2022-01-27T10:30:42.507815",
     "exception": false,
     "start_time": "2022-01-27T10:30:42.448285",
     "status": "completed"
    },
    "tags": []
   },
   "source": [
    "**Let's check the range of age in the dataset.**"
   ]
  },
  {
   "cell_type": "code",
   "execution_count": 9,
   "id": "4a0ffa68",
   "metadata": {
    "execution": {
     "iopub.execute_input": "2022-01-27T10:30:42.634223Z",
     "iopub.status.busy": "2022-01-27T10:30:42.630357Z",
     "iopub.status.idle": "2022-01-27T10:30:42.637608Z",
     "shell.execute_reply": "2022-01-27T10:30:42.637092Z",
     "shell.execute_reply.started": "2022-01-27T10:13:43.366102Z"
    },
    "executionInfo": {
     "elapsed": 970,
     "status": "ok",
     "timestamp": 1602072735648,
     "user": {
      "displayName": "Pianalytix Vrec",
      "photoUrl": "",
      "userId": "08286299111597749388"
     },
     "user_tz": -330
    },
    "id": "da1EuKDo1dEq",
    "outputId": "f9f45334-d46f-4362-c98f-7d643b506b41",
    "papermill": {
     "duration": 0.07084,
     "end_time": "2022-01-27T10:30:42.637751",
     "exception": false,
     "start_time": "2022-01-27T10:30:42.566911",
     "status": "completed"
    },
    "tags": []
   },
   "outputs": [
    {
     "name": "stdout",
     "output_type": "stream",
     "text": [
      "Min Age : 29\n",
      "Max Age : 77\n",
      "Mean Age : 54.43414634146342\n"
     ]
    }
   ],
   "source": [
    "minAge=min(data.age)\n",
    "maxAge=max(data.age)\n",
    "meanAge=data.age.mean()\n",
    "print('Min Age :',minAge)\n",
    "print('Max Age :',maxAge)\n",
    "print('Mean Age :',meanAge)"
   ]
  },
  {
   "cell_type": "markdown",
   "id": "3a20878f",
   "metadata": {
    "id": "BUtF1p8b1dEw",
    "papermill": {
     "duration": 0.059423,
     "end_time": "2022-01-27T10:30:42.756876",
     "exception": false,
     "start_time": "2022-01-27T10:30:42.697453",
     "status": "completed"
    },
    "tags": []
   },
   "source": [
    "**We should divide the Age feature into three parts - \"Young\", \"Middle\" and \"Elder\"**"
   ]
  },
  {
   "cell_type": "code",
   "execution_count": 10,
   "id": "6c4e4c3e",
   "metadata": {
    "execution": {
     "iopub.execute_input": "2022-01-27T10:30:42.883098Z",
     "iopub.status.busy": "2022-01-27T10:30:42.882415Z",
     "iopub.status.idle": "2022-01-27T10:30:42.886602Z",
     "shell.execute_reply": "2022-01-27T10:30:42.887077Z",
     "shell.execute_reply.started": "2022-01-27T10:13:43.379628Z"
    },
    "executionInfo": {
     "elapsed": 1625,
     "status": "ok",
     "timestamp": 1602072787506,
     "user": {
      "displayName": "Pianalytix Vrec",
      "photoUrl": "",
      "userId": "08286299111597749388"
     },
     "user_tz": -330
    },
    "id": "b8nprWOe1dEx",
    "papermill": {
     "duration": 0.070223,
     "end_time": "2022-01-27T10:30:42.887241",
     "exception": false,
     "start_time": "2022-01-27T10:30:42.817018",
     "status": "completed"
    },
    "tags": []
   },
   "outputs": [],
   "source": [
    "Young = data[(data.age>=29)&(data.age<40)]\n",
    "Middle = data[(data.age>=40)&(data.age<55)]\n",
    "Elder = data[(data.age>55)]"
   ]
  },
  {
   "cell_type": "code",
   "execution_count": 11,
   "id": "bdf4e6a5",
   "metadata": {
    "execution": {
     "iopub.execute_input": "2022-01-27T10:30:43.009733Z",
     "iopub.status.busy": "2022-01-27T10:30:43.009086Z",
     "iopub.status.idle": "2022-01-27T10:30:43.191909Z",
     "shell.execute_reply": "2022-01-27T10:30:43.192390Z",
     "shell.execute_reply.started": "2022-01-27T10:13:43.393997Z"
    },
    "executionInfo": {
     "elapsed": 3517,
     "status": "ok",
     "timestamp": 1602072796891,
     "user": {
      "displayName": "Pianalytix Vrec",
      "photoUrl": "",
      "userId": "08286299111597749388"
     },
     "user_tz": -330
    },
    "id": "7YZ8viQh1dEz",
    "outputId": "9f5ae3b8-2427-48f5-bcd7-3466bc338d11",
    "papermill": {
     "duration": 0.245577,
     "end_time": "2022-01-27T10:30:43.192572",
     "exception": false,
     "start_time": "2022-01-27T10:30:42.946995",
     "status": "completed"
    },
    "tags": []
   },
   "outputs": [
    {
     "data": {
      "image/png": "[encoded data removed]",
      "text/plain": [
       "<Figure size 1656x720 with 1 Axes>"
      ]
     },
     "metadata": {
      "needs_background": "light"
     },
     "output_type": "display_data"
    }
   ],
   "source": [
    "plt.figure(figsize=(23,10))\n",
    "sns.set_context('notebook',font_scale = 1.5)\n",
    "sns.barplot(x=['young ages','middle ages','elderly ages'],y=[len(Young),len(Middle),len(Elder)])\n",
    "plt.tight_layout()"
   ]
  },
  {
   "cell_type": "markdown",
   "id": "68b2e5b5",
   "metadata": {
    "id": "hcqhP-Sp1dE2",
    "papermill": {
     "duration": 0.059999,
     "end_time": "2022-01-27T10:30:43.313491",
     "exception": false,
     "start_time": "2022-01-27T10:30:43.253492",
     "status": "completed"
    },
    "tags": []
   },
   "source": [
    "**A large proportion of dataset contains Elder people.**"
   ]
  },
  {
   "cell_type": "markdown",
   "id": "415781d4",
   "metadata": {
    "id": "hUyREdvI1dFC",
    "papermill": {
     "duration": 0.06013,
     "end_time": "2022-01-27T10:30:43.434316",
     "exception": false,
     "start_time": "2022-01-27T10:30:43.374186",
     "status": "completed"
    },
    "tags": []
   },
   "source": [
    "**Elderly people are more likely to suffer from heart disease.**"
   ]
  },
  {
   "cell_type": "code",
   "execution_count": 12,
   "id": "1846a5c4",
   "metadata": {
    "execution": {
     "iopub.execute_input": "2022-01-27T10:30:43.558453Z",
     "iopub.status.busy": "2022-01-27T10:30:43.557884Z",
     "iopub.status.idle": "2022-01-27T10:30:43.703163Z",
     "shell.execute_reply": "2022-01-27T10:30:43.703952Z",
     "shell.execute_reply.started": "2022-01-27T10:13:43.67206Z"
    },
    "executionInfo": {
     "elapsed": 1669,
     "status": "ok",
     "timestamp": 1602073082293,
     "user": {
      "displayName": "Pianalytix Vrec",
      "photoUrl": "",
      "userId": "08286299111597749388"
     },
     "user_tz": -330
    },
    "id": "PKpEPFBi_i3B",
    "outputId": "4af1c1f4-4e5f-4455-a51f-f31b01dd2de9",
    "papermill": {
     "duration": 0.209331,
     "end_time": "2022-01-27T10:30:43.704215",
     "exception": false,
     "start_time": "2022-01-27T10:30:43.494884",
     "status": "completed"
    },
    "tags": []
   },
   "outputs": [
    {
     "data": {
      "image/png": "[encoded data removed]",
      "text/plain": [
       "<Figure size 720x720 with 1 Axes>"
      ]
     },
     "metadata": {},
     "output_type": "display_data"
    }
   ],
   "source": [
    "colors = ['blue','green','yellow']\n",
    "explode = [0,0,0.1]\n",
    "plt.figure(figsize=(10,10))\n",
    "sns.set_context('notebook',font_scale = 1.2)\n",
    "plt.pie([len(Young),len(Middle),len(Elder)],labels=['young ages','middle ages','elderly ages'],explode=explode,colors=colors, autopct='%1.1f%%')\n",
    "plt.tight_layout()"
   ]
  },
  {
   "cell_type": "markdown",
   "id": "faeeb8e1",
   "metadata": {
    "id": "qEfi6azz1dFE",
    "papermill": {
     "duration": 0.061308,
     "end_time": "2022-01-27T10:30:43.859165",
     "exception": false,
     "start_time": "2022-01-27T10:30:43.797857",
     "status": "completed"
    },
    "tags": []
   },
   "source": [
    "## Sex(\"sex\") Feature Analysis"
   ]
  },
  {
   "cell_type": "code",
   "execution_count": 13,
   "id": "89f11a94",
   "metadata": {
    "execution": {
     "iopub.execute_input": "2022-01-27T10:30:43.985647Z",
     "iopub.status.busy": "2022-01-27T10:30:43.985052Z",
     "iopub.status.idle": "2022-01-27T10:30:44.217446Z",
     "shell.execute_reply": "2022-01-27T10:30:44.217907Z",
     "shell.execute_reply.started": "2022-01-27T10:13:43.936762Z"
    },
    "executionInfo": {
     "elapsed": 1268,
     "status": "ok",
     "timestamp": 1602073293999,
     "user": {
      "displayName": "Pianalytix Vrec",
      "photoUrl": "",
      "userId": "08286299111597749388"
     },
     "user_tz": -330
    },
    "id": "Ckgx-LKu1dFE",
    "outputId": "733c5c82-3e8d-4e57-9198-a56dfdb1fca9",
    "papermill": {
     "duration": 0.297101,
     "end_time": "2022-01-27T10:30:44.218074",
     "exception": false,
     "start_time": "2022-01-27T10:30:43.920973",
     "status": "completed"
    },
    "tags": []
   },
   "outputs": [
    {
     "name": "stderr",
     "output_type": "stream",
     "text": [
      "C:\\Users\\rachi\\AppData\\Local\\Programs\\Python\\Python39\\lib\\site-packages\\seaborn\\_decorators.py:36: FutureWarning: Pass the following variable as a keyword arg: x. From version 0.12, the only valid positional argument will be `data`, and passing other arguments without an explicit keyword will result in an error or misinterpretation.\n",
      "  warnings.warn(\n"
     ]
    },
    {
     "data": {
      "image/png": "[encoded data removed]",
      "text/plain": [
       "<Figure size 1296x648 with 1 Axes>"
      ]
     },
     "metadata": {
      "needs_background": "light"
     },
     "output_type": "display_data"
    }
   ],
   "source": [
    "plt.figure(figsize=(18,9))\n",
    "sns.set_context('notebook',font_scale = 1.5)\n",
    "sns.countplot(data['sex'])\n",
    "plt.tight_layout()"
   ]
  },
  {
   "cell_type": "markdown",
   "id": "5923383f",
   "metadata": {
    "id": "aOvqOFEY1dFG",
    "papermill": {
     "duration": 0.062042,
     "end_time": "2022-01-27T10:30:44.342393",
     "exception": false,
     "start_time": "2022-01-27T10:30:44.280351",
     "status": "completed"
    },
    "tags": []
   },
   "source": [
    "**Ratio of Male to Female is approx 2:1**"
   ]
  },
  {
   "cell_type": "code",
   "execution_count": 14,
   "id": "298978b8",
   "metadata": {
    "execution": {
     "iopub.execute_input": "2022-01-27T10:30:44.473712Z",
     "iopub.status.busy": "2022-01-27T10:30:44.472774Z",
     "iopub.status.idle": "2022-01-27T10:30:44.747782Z",
     "shell.execute_reply": "2022-01-27T10:30:44.748194Z",
     "shell.execute_reply.started": "2022-01-27T10:13:44.201371Z"
    },
    "executionInfo": {
     "elapsed": 1509,
     "status": "ok",
     "timestamp": 1602073345240,
     "user": {
      "displayName": "Pianalytix Vrec",
      "photoUrl": "",
      "userId": "08286299111597749388"
     },
     "user_tz": -330
    },
    "id": "AqQTC4Hm1dFH",
    "outputId": "6ea73424-8226-49c6-f5ac-5f6f1f09fd6b",
    "papermill": {
     "duration": 0.342369,
     "end_time": "2022-01-27T10:30:44.748362",
     "exception": false,
     "start_time": "2022-01-27T10:30:44.405993",
     "status": "completed"
    },
    "tags": []
   },
   "outputs": [
    {
     "name": "stderr",
     "output_type": "stream",
     "text": [
      "C:\\Users\\rachi\\AppData\\Local\\Programs\\Python\\Python39\\lib\\site-packages\\seaborn\\_decorators.py:36: FutureWarning: Pass the following variable as a keyword arg: x. From version 0.12, the only valid positional argument will be `data`, and passing other arguments without an explicit keyword will result in an error or misinterpretation.\n",
      "  warnings.warn(\n"
     ]
    },
    {
     "data": {
      "image/png": "[encoded data removed]",
      "text/plain": [
       "<Figure size 1296x648 with 1 Axes>"
      ]
     },
     "metadata": {
      "needs_background": "light"
     },
     "output_type": "display_data"
    }
   ],
   "source": [
    "# Let's plot the relation between sex and slope.\n",
    "\n",
    "plt.figure(figsize=(18,9))\n",
    "sns.set_context('notebook',font_scale = 1.5)\n",
    "sns.countplot(data['sex'],hue=data[\"slope\"])\n",
    "plt.tight_layout()"
   ]
  },
  {
   "cell_type": "code",
   "execution_count": 15,
   "id": "436d9a0b",
   "metadata": {
    "execution": {
     "iopub.execute_input": "2022-01-27T10:30:44.885213Z",
     "iopub.status.busy": "2022-01-27T10:30:44.884254Z",
     "iopub.status.idle": "2022-01-27T10:30:45.163740Z",
     "shell.execute_reply": "2022-01-27T10:30:45.163224Z",
     "shell.execute_reply.started": "2022-01-27T10:13:44.513868Z"
    },
    "executionInfo": {
     "elapsed": 1484,
     "status": "ok",
     "timestamp": 1602073461599,
     "user": {
      "displayName": "Pianalytix Vrec",
      "photoUrl": "",
      "userId": "08286299111597749388"
     },
     "user_tz": -330
    },
    "id": "QlwvuaVr1dFL",
    "outputId": "399d3e81-e987-4e71-ac85-ef848f3c576e",
    "papermill": {
     "duration": 0.347168,
     "end_time": "2022-01-27T10:30:45.163877",
     "exception": false,
     "start_time": "2022-01-27T10:30:44.816709",
     "status": "completed"
    },
    "tags": []
   },
   "outputs": [
    {
     "name": "stderr",
     "output_type": "stream",
     "text": [
      "C:\\Users\\rachi\\AppData\\Local\\Programs\\Python\\Python39\\lib\\site-packages\\seaborn\\_decorators.py:36: FutureWarning: Pass the following variable as a keyword arg: x. From version 0.12, the only valid positional argument will be `data`, and passing other arguments without an explicit keyword will result in an error or misinterpretation.\n",
      "  warnings.warn(\n"
     ]
    },
    {
     "data": {
      "image/png": "[encoded data removed]",
      "text/plain": [
       "<Figure size 1296x648 with 1 Axes>"
      ]
     },
     "metadata": {
      "needs_background": "light"
     },
     "output_type": "display_data"
    }
   ],
   "source": [
    "# Let's plot the relation between sex and target.\n",
    "\n",
    "plt.figure(figsize=(18,9))\n",
    "sns.set_context('notebook',font_scale = 1.5)\n",
    "sns.countplot(data['sex'],hue=data[\"target\"])\n",
    "plt.tight_layout()"
   ]
  },
  {
   "cell_type": "markdown",
   "id": "601d2475",
   "metadata": {
    "id": "3tpqNNrP1dFP",
    "papermill": {
     "duration": 0.064737,
     "end_time": "2022-01-27T10:30:45.293550",
     "exception": false,
     "start_time": "2022-01-27T10:30:45.228813",
     "status": "completed"
    },
    "tags": []
   },
   "source": [
    "**Males are more likely to have heart disease than Female.**"
   ]
  },
  {
   "cell_type": "markdown",
   "id": "49bc806c",
   "metadata": {
    "id": "EQjqoS0n1dFP",
    "papermill": {
     "duration": 0.064127,
     "end_time": "2022-01-27T10:30:45.423078",
     "exception": false,
     "start_time": "2022-01-27T10:30:45.358951",
     "status": "completed"
    },
    "tags": []
   },
   "source": [
    "## Chest Pain Type(\"cp\") Analysis"
   ]
  },
  {
   "cell_type": "code",
   "execution_count": 16,
   "id": "650ee1a7",
   "metadata": {
    "execution": {
     "iopub.execute_input": "2022-01-27T10:30:45.556989Z",
     "iopub.status.busy": "2022-01-27T10:30:45.556013Z",
     "iopub.status.idle": "2022-01-27T10:30:45.784292Z",
     "shell.execute_reply": "2022-01-27T10:30:45.783831Z",
     "shell.execute_reply.started": "2022-01-27T10:13:44.818569Z"
    },
    "executionInfo": {
     "elapsed": 6759,
     "status": "ok",
     "timestamp": 1602073595312,
     "user": {
      "displayName": "Pianalytix Vrec",
      "photoUrl": "",
      "userId": "08286299111597749388"
     },
     "user_tz": -330
    },
    "id": "BdHNsJw01dFQ",
    "outputId": "ff5550ac-221c-4b1d-f3e9-c1f7d383af63",
    "papermill": {
     "duration": 0.295903,
     "end_time": "2022-01-27T10:30:45.784426",
     "exception": false,
     "start_time": "2022-01-27T10:30:45.488523",
     "status": "completed"
    },
    "tags": []
   },
   "outputs": [
    {
     "name": "stderr",
     "output_type": "stream",
     "text": [
      "C:\\Users\\rachi\\AppData\\Local\\Programs\\Python\\Python39\\lib\\site-packages\\seaborn\\_decorators.py:36: FutureWarning: Pass the following variable as a keyword arg: x. From version 0.12, the only valid positional argument will be `data`, and passing other arguments without an explicit keyword will result in an error or misinterpretation.\n",
      "  warnings.warn(\n"
     ]
    },
    {
     "data": {
      "image/png": "[encoded data removed]",
      "text/plain": [
       "<Figure size 1296x648 with 1 Axes>"
      ]
     },
     "metadata": {
      "needs_background": "light"
     },
     "output_type": "display_data"
    }
   ],
   "source": [
    "plt.figure(figsize=(18,9))\n",
    "sns.set_context('notebook',font_scale = 1.5)\n",
    "sns.countplot(data['cp'])\n",
    "plt.tight_layout()"
   ]
  },
  {
   "cell_type": "markdown",
   "id": "bbfa1bad",
   "metadata": {
    "id": "QB-wFjVI1dFS",
    "papermill": {
     "duration": 0.065626,
     "end_time": "2022-01-27T10:30:45.915968",
     "exception": false,
     "start_time": "2022-01-27T10:30:45.850342",
     "status": "completed"
    },
    "tags": []
   },
   "source": [
    "**As seen, there are 4 types of chest pain**\n",
    "\n",
    "1. status at least\n",
    "2. condition slightly distressed\n",
    "3. condition medium problem\n",
    "4. condition too bad"
   ]
  },
  {
   "cell_type": "code",
   "execution_count": 17,
   "id": "e3a067d5",
   "metadata": {
    "execution": {
     "iopub.execute_input": "2022-01-27T10:30:46.051602Z",
     "iopub.status.busy": "2022-01-27T10:30:46.050938Z",
     "iopub.status.idle": "2022-01-27T10:30:46.334115Z",
     "shell.execute_reply": "2022-01-27T10:30:46.333601Z",
     "shell.execute_reply.started": "2022-01-27T10:13:45.082409Z"
    },
    "executionInfo": {
     "elapsed": 4531,
     "status": "ok",
     "timestamp": 1602073708132,
     "user": {
      "displayName": "Pianalytix Vrec",
      "photoUrl": "",
      "userId": "08286299111597749388"
     },
     "user_tz": -330
    },
    "id": "2U5S_w931dFS",
    "outputId": "5a8c1714-1ed1-4030-b979-704a78cb8a3d",
    "papermill": {
     "duration": 0.352414,
     "end_time": "2022-01-27T10:30:46.334247",
     "exception": false,
     "start_time": "2022-01-27T10:30:45.981833",
     "status": "completed"
    },
    "tags": []
   },
   "outputs": [
    {
     "name": "stderr",
     "output_type": "stream",
     "text": [
      "C:\\Users\\rachi\\AppData\\Local\\Programs\\Python\\Python39\\lib\\site-packages\\seaborn\\_decorators.py:36: FutureWarning: Pass the following variable as a keyword arg: x. From version 0.12, the only valid positional argument will be `data`, and passing other arguments without an explicit keyword will result in an error or misinterpretation.\n",
      "  warnings.warn(\n"
     ]
    },
    {
     "data": {
      "image/png": "[encoded data removed]",
      "text/plain": [
       "<Figure size 1296x648 with 1 Axes>"
      ]
     },
     "metadata": {
      "needs_background": "light"
     },
     "output_type": "display_data"
    }
   ],
   "source": [
    "plt.figure(figsize=(18,9))\n",
    "sns.set_context('notebook',font_scale = 1.5)\n",
    "sns.countplot(data['cp'],hue=data[\"sex\"])\n",
    "plt.tight_layout()"
   ]
  },
  {
   "cell_type": "code",
   "execution_count": 18,
   "id": "8b77da2f",
   "metadata": {
    "execution": {
     "iopub.execute_input": "2022-01-27T10:30:46.474406Z",
     "iopub.status.busy": "2022-01-27T10:30:46.470870Z",
     "iopub.status.idle": "2022-01-27T10:30:46.760054Z",
     "shell.execute_reply": "2022-01-27T10:30:46.759576Z",
     "shell.execute_reply.started": "2022-01-27T10:13:45.39999Z"
    },
    "executionInfo": {
     "elapsed": 1492,
     "status": "ok",
     "timestamp": 1602073762406,
     "user": {
      "displayName": "Pianalytix Vrec",
      "photoUrl": "",
      "userId": "08286299111597749388"
     },
     "user_tz": -330
    },
    "id": "tpe7BVLr1dFU",
    "outputId": "c76bb3a5-b920-441d-b194-6069fcd2ba82",
    "papermill": {
     "duration": 0.359303,
     "end_time": "2022-01-27T10:30:46.760180",
     "exception": false,
     "start_time": "2022-01-27T10:30:46.400877",
     "status": "completed"
    },
    "tags": []
   },
   "outputs": [
    {
     "name": "stderr",
     "output_type": "stream",
     "text": [
      "C:\\Users\\rachi\\AppData\\Local\\Programs\\Python\\Python39\\lib\\site-packages\\seaborn\\_decorators.py:36: FutureWarning: Pass the following variable as a keyword arg: x. From version 0.12, the only valid positional argument will be `data`, and passing other arguments without an explicit keyword will result in an error or misinterpretation.\n",
      "  warnings.warn(\n"
     ]
    },
    {
     "data": {
      "image/png": "[encoded data removed]",
      "text/plain": [
       "<Figure size 1296x648 with 1 Axes>"
      ]
     },
     "metadata": {
      "needs_background": "light"
     },
     "output_type": "display_data"
    }
   ],
   "source": [
    "plt.figure(figsize=(18,9))\n",
    "sns.set_context('notebook',font_scale = 1.5)\n",
    "sns.countplot(data['cp'],hue=data[\"target\"])\n",
    "plt.tight_layout()"
   ]
  },
  {
   "cell_type": "markdown",
   "id": "bb94a9d9",
   "metadata": {
    "id": "4TzFucW31dFW",
    "papermill": {
     "duration": 0.068498,
     "end_time": "2022-01-27T10:30:46.896114",
     "exception": false,
     "start_time": "2022-01-27T10:30:46.827616",
     "status": "completed"
    },
    "tags": []
   },
   "source": [
    "* People having least chest pain are not likely to heart disease.\n",
    "* People having severe chest pain are  likely to heart disease."
   ]
  },
  {
   "cell_type": "markdown",
   "id": "204fe0fc",
   "metadata": {
    "id": "2lwL2CRr1dFY",
    "papermill": {
     "duration": 0.073503,
     "end_time": "2022-01-27T10:30:47.038709",
     "exception": false,
     "start_time": "2022-01-27T10:30:46.965206",
     "status": "completed"
    },
    "tags": []
   },
   "source": [
    "**Elderly people are more likely to have chest pain.**"
   ]
  },
  {
   "cell_type": "markdown",
   "id": "c356aad5",
   "metadata": {
    "id": "KI3RwvMY1dFY",
    "papermill": {
     "duration": 0.068435,
     "end_time": "2022-01-27T10:30:47.174737",
     "exception": false,
     "start_time": "2022-01-27T10:30:47.106302",
     "status": "completed"
    },
    "tags": []
   },
   "source": [
    "# Thal Analysis"
   ]
  },
  {
   "cell_type": "code",
   "execution_count": 19,
   "id": "ecc69bac",
   "metadata": {
    "execution": {
     "iopub.execute_input": "2022-01-27T10:30:47.316788Z",
     "iopub.status.busy": "2022-01-27T10:30:47.315849Z",
     "iopub.status.idle": "2022-01-27T10:30:47.540883Z",
     "shell.execute_reply": "2022-01-27T10:30:47.541342Z",
     "shell.execute_reply.started": "2022-01-27T10:13:45.720034Z"
    },
    "executionInfo": {
     "elapsed": 5352,
     "status": "ok",
     "timestamp": 1602073883087,
     "user": {
      "displayName": "Pianalytix Vrec",
      "photoUrl": "",
      "userId": "08286299111597749388"
     },
     "user_tz": -330
    },
    "id": "Uy0fvVEr1dFZ",
    "outputId": "40aa8170-c403-4a36-ce37-29a3782792a2",
    "papermill": {
     "duration": 0.299223,
     "end_time": "2022-01-27T10:30:47.541523",
     "exception": false,
     "start_time": "2022-01-27T10:30:47.242300",
     "status": "completed"
    },
    "tags": []
   },
   "outputs": [
    {
     "name": "stderr",
     "output_type": "stream",
     "text": [
      "C:\\Users\\rachi\\AppData\\Local\\Programs\\Python\\Python39\\lib\\site-packages\\seaborn\\_decorators.py:36: FutureWarning: Pass the following variable as a keyword arg: x. From version 0.12, the only valid positional argument will be `data`, and passing other arguments without an explicit keyword will result in an error or misinterpretation.\n",
      "  warnings.warn(\n"
     ]
    },
    {
     "data": {
      "image/png": "[encoded data removed]",
      "text/plain": [
       "<Figure size 1296x648 with 1 Axes>"
      ]
     },
     "metadata": {
      "needs_background": "light"
     },
     "output_type": "display_data"
    }
   ],
   "source": [
    "plt.figure(figsize=(18,9))\n",
    "sns.set_context('notebook',font_scale = 1.5)\n",
    "sns.countplot(data['thal'])\n",
    "plt.tight_layout()"
   ]
  },
  {
   "cell_type": "code",
   "execution_count": 20,
   "id": "9c6d15ac",
   "metadata": {
    "execution": {
     "iopub.execute_input": "2022-01-27T10:30:47.691303Z",
     "iopub.status.busy": "2022-01-27T10:30:47.690395Z",
     "iopub.status.idle": "2022-01-27T10:30:47.693982Z",
     "shell.execute_reply": "2022-01-27T10:30:47.693444Z",
     "shell.execute_reply.started": "2022-01-27T10:13:45.981459Z"
    },
    "executionInfo": {
     "elapsed": 1478,
     "status": "ok",
     "timestamp": 1602073985960,
     "user": {
      "displayName": "Pianalytix Vrec",
      "photoUrl": "",
      "userId": "08286299111597749388"
     },
     "user_tz": -330
    },
    "id": "NwAe5-Q9DNhw",
    "outputId": "dd368b56-60b0-4dab-cde1-6aefcc1353ec",
    "papermill": {
     "duration": 0.084111,
     "end_time": "2022-01-27T10:30:47.694121",
     "exception": false,
     "start_time": "2022-01-27T10:30:47.610010",
     "status": "completed"
    },
    "tags": []
   },
   "outputs": [
    {
     "data": {
      "text/html": [
       "<div>\n",
       "<style scoped>\n",
       "    .dataframe tbody tr th:only-of-type {\n",
       "        vertical-align: middle;\n",
       "    }\n",
       "\n",
       "    .dataframe tbody tr th {\n",
       "        vertical-align: top;\n",
       "    }\n",
       "\n",
       "    .dataframe thead th {\n",
       "        text-align: right;\n",
       "    }\n",
       "</style>\n",
       "<table border=\"1\" class=\"dataframe\">\n",
       "  <thead>\n",
       "    <tr style=\"text-align: right;\">\n",
       "      <th></th>\n",
       "      <th>age</th>\n",
       "      <th>sex</th>\n",
       "      <th>cp</th>\n",
       "      <th>trestbps</th>\n",
       "      <th>chol</th>\n",
       "      <th>fbs</th>\n",
       "      <th>restecg</th>\n",
       "      <th>thalach</th>\n",
       "      <th>exang</th>\n",
       "      <th>oldpeak</th>\n",
       "      <th>slope</th>\n",
       "      <th>ca</th>\n",
       "      <th>thal</th>\n",
       "      <th>target</th>\n",
       "    </tr>\n",
       "  </thead>\n",
       "  <tbody>\n",
       "    <tr>\n",
       "      <th>0</th>\n",
       "      <td>52</td>\n",
       "      <td>1</td>\n",
       "      <td>0</td>\n",
       "      <td>125</td>\n",
       "      <td>212</td>\n",
       "      <td>0</td>\n",
       "      <td>1</td>\n",
       "      <td>168</td>\n",
       "      <td>0</td>\n",
       "      <td>1.0</td>\n",
       "      <td>2</td>\n",
       "      <td>2</td>\n",
       "      <td>3</td>\n",
       "      <td>0</td>\n",
       "    </tr>\n",
       "    <tr>\n",
       "      <th>1</th>\n",
       "      <td>53</td>\n",
       "      <td>1</td>\n",
       "      <td>0</td>\n",
       "      <td>140</td>\n",
       "      <td>203</td>\n",
       "      <td>1</td>\n",
       "      <td>0</td>\n",
       "      <td>155</td>\n",
       "      <td>1</td>\n",
       "      <td>3.1</td>\n",
       "      <td>0</td>\n",
       "      <td>0</td>\n",
       "      <td>3</td>\n",
       "      <td>0</td>\n",
       "    </tr>\n",
       "    <tr>\n",
       "      <th>2</th>\n",
       "      <td>70</td>\n",
       "      <td>1</td>\n",
       "      <td>0</td>\n",
       "      <td>145</td>\n",
       "      <td>174</td>\n",
       "      <td>0</td>\n",
       "      <td>1</td>\n",
       "      <td>125</td>\n",
       "      <td>1</td>\n",
       "      <td>2.6</td>\n",
       "      <td>0</td>\n",
       "      <td>0</td>\n",
       "      <td>3</td>\n",
       "      <td>0</td>\n",
       "    </tr>\n",
       "    <tr>\n",
       "      <th>3</th>\n",
       "      <td>61</td>\n",
       "      <td>1</td>\n",
       "      <td>0</td>\n",
       "      <td>148</td>\n",
       "      <td>203</td>\n",
       "      <td>0</td>\n",
       "      <td>1</td>\n",
       "      <td>161</td>\n",
       "      <td>0</td>\n",
       "      <td>0.0</td>\n",
       "      <td>2</td>\n",
       "      <td>1</td>\n",
       "      <td>3</td>\n",
       "      <td>0</td>\n",
       "    </tr>\n",
       "    <tr>\n",
       "      <th>4</th>\n",
       "      <td>62</td>\n",
       "      <td>0</td>\n",
       "      <td>0</td>\n",
       "      <td>138</td>\n",
       "      <td>294</td>\n",
       "      <td>1</td>\n",
       "      <td>1</td>\n",
       "      <td>106</td>\n",
       "      <td>0</td>\n",
       "      <td>1.9</td>\n",
       "      <td>1</td>\n",
       "      <td>3</td>\n",
       "      <td>2</td>\n",
       "      <td>0</td>\n",
       "    </tr>\n",
       "  </tbody>\n",
       "</table>\n",
       "</div>"
      ],
      "text/plain": [
       "   age  sex  cp  trestbps  chol  fbs  restecg  thalach  exang  oldpeak  slope  \\\n",
       "0   52    1   0       125   212    0        1      168      0      1.0      2   \n",
       "1   53    1   0       140   203    1        0      155      1      3.1      0   \n",
       "2   70    1   0       145   174    0        1      125      1      2.6      0   \n",
       "3   61    1   0       148   203    0        1      161      0      0.0      2   \n",
       "4   62    0   0       138   294    1        1      106      0      1.9      1   \n",
       "\n",
       "   ca  thal  target  \n",
       "0   2     3       0  \n",
       "1   0     3       0  \n",
       "2   0     3       0  \n",
       "3   1     3       0  \n",
       "4   3     2       0  "
      ]
     },
     "execution_count": 20,
     "metadata": {},
     "output_type": "execute_result"
    }
   ],
   "source": [
    "data.head()"
   ]
  },
  {
   "cell_type": "markdown",
   "id": "f028a44a",
   "metadata": {
    "id": "dZDUxzNA1dFb",
    "papermill": {
     "duration": 0.068661,
     "end_time": "2022-01-27T10:30:47.832197",
     "exception": false,
     "start_time": "2022-01-27T10:30:47.763536",
     "status": "completed"
    },
    "tags": []
   },
   "source": [
    "1. 3 = normal\n",
    "2. 6 = fixed defect\n",
    "3. 7 = reversable defect"
   ]
  },
  {
   "cell_type": "code",
   "execution_count": 21,
   "id": "ee6db391",
   "metadata": {
    "execution": {
     "iopub.execute_input": "2022-01-27T10:30:47.979253Z",
     "iopub.status.busy": "2022-01-27T10:30:47.978571Z",
     "iopub.status.idle": "2022-01-27T10:30:48.268921Z",
     "shell.execute_reply": "2022-01-27T10:30:48.269385Z",
     "shell.execute_reply.started": "2022-01-27T10:13:46.001294Z"
    },
    "executionInfo": {
     "elapsed": 3376,
     "status": "ok",
     "timestamp": 1602074035697,
     "user": {
      "displayName": "Pianalytix Vrec",
      "photoUrl": "",
      "userId": "08286299111597749388"
     },
     "user_tz": -330
    },
    "id": "MKAGzXsX1dFb",
    "outputId": "2e924758-0e5c-4afe-b416-353baf1c0246",
    "papermill": {
     "duration": 0.367943,
     "end_time": "2022-01-27T10:30:48.269569",
     "exception": false,
     "start_time": "2022-01-27T10:30:47.901626",
     "status": "completed"
    },
    "tags": []
   },
   "outputs": [
    {
     "name": "stderr",
     "output_type": "stream",
     "text": [
      "C:\\Users\\rachi\\AppData\\Local\\Programs\\Python\\Python39\\lib\\site-packages\\seaborn\\_decorators.py:36: FutureWarning: Pass the following variable as a keyword arg: x. From version 0.12, the only valid positional argument will be `data`, and passing other arguments without an explicit keyword will result in an error or misinterpretation.\n",
      "  warnings.warn(\n"
     ]
    },
    {
     "data": {
      "image/png": "[encoded data removed]",
      "text/plain": [
       "<Figure size 1296x648 with 1 Axes>"
      ]
     },
     "metadata": {
      "needs_background": "light"
     },
     "output_type": "display_data"
    }
   ],
   "source": [
    "plt.figure(figsize=(18,9))\n",
    "sns.set_context('notebook',font_scale = 1.5)\n",
    "sns.countplot(data['thal'],hue=data[\"target\"])\n",
    "plt.tight_layout()"
   ]
  },
  {
   "cell_type": "code",
   "execution_count": 22,
   "id": "226df669",
   "metadata": {
    "execution": {
     "iopub.execute_input": "2022-01-27T10:30:48.420331Z",
     "iopub.status.busy": "2022-01-27T10:30:48.419744Z",
     "iopub.status.idle": "2022-01-27T10:30:48.421484Z",
     "shell.execute_reply": "2022-01-27T10:30:48.421885Z",
     "shell.execute_reply.started": "2022-01-27T10:13:46.340683Z"
    },
    "papermill": {
     "duration": 0.081699,
     "end_time": "2022-01-27T10:30:48.422051",
     "exception": false,
     "start_time": "2022-01-27T10:30:48.340352",
     "status": "completed"
    },
    "tags": []
   },
   "outputs": [],
   "source": [
    "Young = data[(data.age>=29)&(data.age<40)]\n",
    "Middle = data[(data.age>=40)&(data.age<55)]\n",
    "Elder = data[(data.age>55)]"
   ]
  },
  {
   "cell_type": "markdown",
   "id": "91caeb63",
   "metadata": {
    "id": "l_-G0ec41dFf",
    "papermill": {
     "duration": 0.069484,
     "end_time": "2022-01-27T10:30:48.561970",
     "exception": false,
     "start_time": "2022-01-27T10:30:48.492486",
     "status": "completed"
    },
    "tags": []
   },
   "source": [
    "**People with fixed defect are more likely to have heart disease.**"
   ]
  },
  {
   "cell_type": "code",
   "execution_count": 23,
   "id": "36fa8b67",
   "metadata": {
    "execution": {
     "iopub.execute_input": "2022-01-27T10:30:48.709660Z",
     "iopub.status.busy": "2022-01-27T10:30:48.705441Z",
     "iopub.status.idle": "2022-01-27T10:30:48.950478Z",
     "shell.execute_reply": "2022-01-27T10:30:48.950943Z",
     "shell.execute_reply.started": "2022-01-27T10:13:46.352544Z"
    },
    "id": "V2K_OmHz1dFf",
    "papermill": {
     "duration": 0.317837,
     "end_time": "2022-01-27T10:30:48.951107",
     "exception": false,
     "start_time": "2022-01-27T10:30:48.633270",
     "status": "completed"
    },
    "tags": []
   },
   "outputs": [
    {
     "data": {
      "image/png": "[encoded data removed]",
      "text/plain": [
       "<Figure size 1656x720 with 1 Axes>"
      ]
     },
     "metadata": {
      "needs_background": "light"
     },
     "output_type": "display_data"
    }
   ],
   "source": [
    "plt.figure(figsize=(23,10))\n",
    "sns.set_context('notebook',font_scale = 1.5)\n",
    "sns.barplot(x=['young ages','middle ages','elderly ages'],y=[len(Young),len(Middle),len(Elder)])\n",
    "plt.tight_layout()"
   ]
  },
  {
   "cell_type": "markdown",
   "id": "24c9fca6",
   "metadata": {
    "id": "_F1eHCuF1dFh",
    "papermill": {
     "duration": 0.0715,
     "end_time": "2022-01-27T10:30:49.093099",
     "exception": false,
     "start_time": "2022-01-27T10:30:49.021599",
     "status": "completed"
    },
    "tags": []
   },
   "source": [
    "## Target "
   ]
  },
  {
   "cell_type": "code",
   "execution_count": 24,
   "id": "e0464d9b",
   "metadata": {
    "execution": {
     "iopub.execute_input": "2022-01-27T10:30:49.243144Z",
     "iopub.status.busy": "2022-01-27T10:30:49.242185Z",
     "iopub.status.idle": "2022-01-27T10:30:49.456520Z",
     "shell.execute_reply": "2022-01-27T10:30:49.455979Z",
     "shell.execute_reply.started": "2022-01-27T10:13:46.576197Z"
    },
    "executionInfo": {
     "elapsed": 1115,
     "status": "ok",
     "timestamp": 1602074071861,
     "user": {
      "displayName": "Pianalytix Vrec",
      "photoUrl": "",
      "userId": "08286299111597749388"
     },
     "user_tz": -330
    },
    "id": "afovqLLA1dFi",
    "outputId": "92e75762-9466-46cc-e6df-367ddd37227d",
    "papermill": {
     "duration": 0.292162,
     "end_time": "2022-01-27T10:30:49.456653",
     "exception": false,
     "start_time": "2022-01-27T10:30:49.164491",
     "status": "completed"
    },
    "tags": []
   },
   "outputs": [
    {
     "name": "stderr",
     "output_type": "stream",
     "text": [
      "C:\\Users\\rachi\\AppData\\Local\\Programs\\Python\\Python39\\lib\\site-packages\\seaborn\\_decorators.py:36: FutureWarning: Pass the following variable as a keyword arg: x. From version 0.12, the only valid positional argument will be `data`, and passing other arguments without an explicit keyword will result in an error or misinterpretation.\n",
      "  warnings.warn(\n"
     ]
    },
    {
     "data": {
      "image/png": "[encoded data removed]",
      "text/plain": [
       "<Figure size 1296x648 with 1 Axes>"
      ]
     },
     "metadata": {
      "needs_background": "light"
     },
     "output_type": "display_data"
    }
   ],
   "source": [
    "plt.figure(figsize=(18,9))\n",
    "sns.set_context('notebook',font_scale = 1.5)\n",
    "sns.countplot(data['target'])\n",
    "plt.tight_layout()"
   ]
  },
  {
   "cell_type": "markdown",
   "id": "c0fe346e",
   "metadata": {
    "id": "feLqmHqs1dFk",
    "papermill": {
     "duration": 0.07178,
     "end_time": "2022-01-27T10:30:49.600890",
     "exception": false,
     "start_time": "2022-01-27T10:30:49.529110",
     "status": "completed"
    },
    "tags": []
   },
   "source": [
    "**The ratio between 1 and 0 is much less than 1.5 which indicates that target feature is not imbalanced. So for a balanced dataset, we can use accuracy_score as evaluation metrics for our model.**"
   ]
  },
  {
   "cell_type": "code",
   "execution_count": 25,
   "id": "d6dabb5f",
   "metadata": {
    "execution": {
     "iopub.execute_input": "2022-01-27T10:30:49.748841Z",
     "iopub.status.busy": "2022-01-27T10:30:49.747934Z",
     "iopub.status.idle": "2022-01-27T10:30:49.761742Z",
     "shell.execute_reply": "2022-01-27T10:30:49.762212Z",
     "shell.execute_reply.started": "2022-01-27T10:13:46.747594Z"
    },
    "executionInfo": {
     "elapsed": 1484,
     "status": "ok",
     "timestamp": 1602074325814,
     "user": {
      "displayName": "Pianalytix Vrec",
      "photoUrl": "",
      "userId": "08286299111597749388"
     },
     "user_tz": -330
    },
    "id": "kHzJc_wQEhBi",
    "outputId": "cdd122b9-98af-4e73-dd25-4983a133f01c",
    "papermill": {
     "duration": 0.089426,
     "end_time": "2022-01-27T10:30:49.762378",
     "exception": false,
     "start_time": "2022-01-27T10:30:49.672952",
     "status": "completed"
    },
    "tags": []
   },
   "outputs": [
    {
     "data": {
      "text/html": [
       "<div>\n",
       "<style scoped>\n",
       "    .dataframe tbody tr th:only-of-type {\n",
       "        vertical-align: middle;\n",
       "    }\n",
       "\n",
       "    .dataframe tbody tr th {\n",
       "        vertical-align: top;\n",
       "    }\n",
       "\n",
       "    .dataframe thead th {\n",
       "        text-align: right;\n",
       "    }\n",
       "</style>\n",
       "<table border=\"1\" class=\"dataframe\">\n",
       "  <thead>\n",
       "    <tr style=\"text-align: right;\">\n",
       "      <th></th>\n",
       "      <th>age</th>\n",
       "      <th>sex</th>\n",
       "      <th>cp</th>\n",
       "      <th>trestbps</th>\n",
       "      <th>chol</th>\n",
       "      <th>fbs</th>\n",
       "      <th>restecg</th>\n",
       "      <th>thalach</th>\n",
       "      <th>exang</th>\n",
       "      <th>oldpeak</th>\n",
       "      <th>slope</th>\n",
       "      <th>ca</th>\n",
       "      <th>thal</th>\n",
       "      <th>target</th>\n",
       "    </tr>\n",
       "  </thead>\n",
       "  <tbody>\n",
       "    <tr>\n",
       "      <th>0</th>\n",
       "      <td>52</td>\n",
       "      <td>1</td>\n",
       "      <td>0</td>\n",
       "      <td>125</td>\n",
       "      <td>212</td>\n",
       "      <td>0</td>\n",
       "      <td>1</td>\n",
       "      <td>168</td>\n",
       "      <td>0</td>\n",
       "      <td>1.0</td>\n",
       "      <td>2</td>\n",
       "      <td>2</td>\n",
       "      <td>3</td>\n",
       "      <td>0</td>\n",
       "    </tr>\n",
       "    <tr>\n",
       "      <th>1</th>\n",
       "      <td>53</td>\n",
       "      <td>1</td>\n",
       "      <td>0</td>\n",
       "      <td>140</td>\n",
       "      <td>203</td>\n",
       "      <td>1</td>\n",
       "      <td>0</td>\n",
       "      <td>155</td>\n",
       "      <td>1</td>\n",
       "      <td>3.1</td>\n",
       "      <td>0</td>\n",
       "      <td>0</td>\n",
       "      <td>3</td>\n",
       "      <td>0</td>\n",
       "    </tr>\n",
       "    <tr>\n",
       "      <th>2</th>\n",
       "      <td>70</td>\n",
       "      <td>1</td>\n",
       "      <td>0</td>\n",
       "      <td>145</td>\n",
       "      <td>174</td>\n",
       "      <td>0</td>\n",
       "      <td>1</td>\n",
       "      <td>125</td>\n",
       "      <td>1</td>\n",
       "      <td>2.6</td>\n",
       "      <td>0</td>\n",
       "      <td>0</td>\n",
       "      <td>3</td>\n",
       "      <td>0</td>\n",
       "    </tr>\n",
       "    <tr>\n",
       "      <th>3</th>\n",
       "      <td>61</td>\n",
       "      <td>1</td>\n",
       "      <td>0</td>\n",
       "      <td>148</td>\n",
       "      <td>203</td>\n",
       "      <td>0</td>\n",
       "      <td>1</td>\n",
       "      <td>161</td>\n",
       "      <td>0</td>\n",
       "      <td>0.0</td>\n",
       "      <td>2</td>\n",
       "      <td>1</td>\n",
       "      <td>3</td>\n",
       "      <td>0</td>\n",
       "    </tr>\n",
       "    <tr>\n",
       "      <th>4</th>\n",
       "      <td>62</td>\n",
       "      <td>0</td>\n",
       "      <td>0</td>\n",
       "      <td>138</td>\n",
       "      <td>294</td>\n",
       "      <td>1</td>\n",
       "      <td>1</td>\n",
       "      <td>106</td>\n",
       "      <td>0</td>\n",
       "      <td>1.9</td>\n",
       "      <td>1</td>\n",
       "      <td>3</td>\n",
       "      <td>2</td>\n",
       "      <td>0</td>\n",
       "    </tr>\n",
       "  </tbody>\n",
       "</table>\n",
       "</div>"
      ],
      "text/plain": [
       "   age  sex  cp  trestbps  chol  fbs  restecg  thalach  exang  oldpeak  slope  \\\n",
       "0   52    1   0       125   212    0        1      168      0      1.0      2   \n",
       "1   53    1   0       140   203    1        0      155      1      3.1      0   \n",
       "2   70    1   0       145   174    0        1      125      1      2.6      0   \n",
       "3   61    1   0       148   203    0        1      161      0      0.0      2   \n",
       "4   62    0   0       138   294    1        1      106      0      1.9      1   \n",
       "\n",
       "   ca  thal  target  \n",
       "0   2     3       0  \n",
       "1   0     3       0  \n",
       "2   0     3       0  \n",
       "3   1     3       0  \n",
       "4   3     2       0  "
      ]
     },
     "execution_count": 25,
     "metadata": {},
     "output_type": "execute_result"
    }
   ],
   "source": [
    "data.head()"
   ]
  },
  {
   "cell_type": "markdown",
   "id": "664c6f95",
   "metadata": {
    "id": "B38aanUI1dF0",
    "papermill": {
     "duration": 0.072353,
     "end_time": "2022-01-27T10:30:49.907527",
     "exception": false,
     "start_time": "2022-01-27T10:30:49.835174",
     "status": "completed"
    },
    "tags": []
   },
   "source": [
    "# Feature Engineering"
   ]
  },
  {
   "cell_type": "code",
   "execution_count": 26,
   "id": "2147cc43",
   "metadata": {
    "execution": {
     "iopub.execute_input": "2022-01-27T10:30:50.059251Z",
     "iopub.status.busy": "2022-01-27T10:30:50.058321Z",
     "iopub.status.idle": "2022-01-27T10:30:50.075246Z",
     "shell.execute_reply": "2022-01-27T10:30:50.075808Z",
     "shell.execute_reply.started": "2022-01-27T10:13:46.764217Z"
    },
    "executionInfo": {
     "elapsed": 1020,
     "status": "ok",
     "timestamp": 1602074437887,
     "user": {
      "displayName": "Pianalytix Vrec",
      "photoUrl": "",
      "userId": "08286299111597749388"
     },
     "user_tz": -330
    },
    "id": "Pk62h5SD1dF1",
    "outputId": "0f57a165-a79b-440f-8ab8-97e7e493d8be",
    "papermill": {
     "duration": 0.093912,
     "end_time": "2022-01-27T10:30:50.075985",
     "exception": false,
     "start_time": "2022-01-27T10:30:49.982073",
     "status": "completed"
    },
    "tags": []
   },
   "outputs": [
    {
     "name": "stdout",
     "output_type": "stream",
     "text": [
      "--------------------\n",
      "age : [52 53 70 61 62 58 55 46 54 71 43 34 51 50 60 67 45 63 42 44 56 57 59 64\n",
      " 65 41 66 38 49 48 29 37 47 68 76 40 39 77 69 35 74]\n",
      "--------------------\n",
      "sex : [1 0]\n",
      "--------------------\n",
      "cp : [0 1 2 3]\n",
      "--------------------\n",
      "trestbps : [125 140 145 148 138 100 114 160 120 122 112 132 118 128 124 106 104 135\n",
      " 130 136 180 129 150 178 146 117 152 154 170 134 174 144 108 123 110 142\n",
      " 126 192 115  94 200 165 102 105 155 172 164 156 101]\n",
      "--------------------\n",
      "chol : [212 203 174 294 248 318 289 249 286 149 341 210 298 204 308 266 244 211\n",
      " 185 223 208 252 209 307 233 319 256 327 169 131 269 196 231 213 271 263\n",
      " 229 360 258 330 342 226 228 278 230 283 241 175 188 217 193 245 232 299\n",
      " 288 197 315 215 164 326 207 177 257 255 187 201 220 268 267 236 303 282\n",
      " 126 309 186 275 281 206 335 218 254 295 417 260 240 302 192 225 325 235\n",
      " 274 234 182 167 172 321 300 199 564 157 304 222 184 354 160 247 239 246\n",
      " 409 293 180 250 221 200 227 243 311 261 242 205 306 219 353 198 394 183\n",
      " 237 224 265 313 340 259 270 216 264 276 322 214 273 253 176 284 305 168\n",
      " 407 290 277 262 195 166 178 141]\n",
      "--------------------\n",
      "fbs : [0 1]\n",
      "--------------------\n",
      "restecg : [1 0 2]\n",
      "--------------------\n",
      "thalach : [168 155 125 161 106 122 140 145 144 116 136 192 156 142 109 162 165 148\n",
      " 172 173 146 179 152 117 115 112 163 147 182 105 150 151 169 166 178 132\n",
      " 160 123 139 111 180 164 202 157 159 170 138 175 158 126 143 141 167  95\n",
      " 190 118 103 181 108 177 134 120 171 149 154 153  88 174 114 195 133  96\n",
      " 124 131 185 194 128 127 186 184 188 130  71 137  99 121 187  97  90 129\n",
      " 113]\n",
      "--------------------\n",
      "exang : [0 1]\n",
      "--------------------\n",
      "oldpeak : [1.  3.1 2.6 0.  1.9 4.4 0.8 3.2 1.6 3.  0.7 4.2 1.5 2.2 1.1 0.3 0.4 0.6\n",
      " 3.4 2.8 1.2 2.9 3.6 1.4 0.2 2.  5.6 0.9 1.8 6.2 4.  2.5 0.5 0.1 2.1 2.4\n",
      " 3.8 2.3 1.3 3.5]\n",
      "--------------------\n",
      "slope : [2 0 1]\n",
      "--------------------\n",
      "ca : [2 0 1 3 4]\n",
      "--------------------\n",
      "thal : [3 2 1 0]\n",
      "--------------------\n",
      "target : [0 1]\n"
     ]
    }
   ],
   "source": [
    "categorical_val = []\n",
    "continous_val = []\n",
    "for column in data.columns:\n",
    "    print(\"--------------------\")\n",
    "    print(f\"{column} : {data[column].unique()}\")\n",
    "    if len(data[column].unique()) <= 10:\n",
    "        categorical_val.append(column)\n",
    "    else:\n",
    "        continous_val.append(column)"
   ]
  },
  {
   "cell_type": "code",
   "execution_count": 27,
   "id": "7716a948",
   "metadata": {
    "execution": {
     "iopub.execute_input": "2022-01-27T10:30:50.226721Z",
     "iopub.status.busy": "2022-01-27T10:30:50.226101Z",
     "iopub.status.idle": "2022-01-27T10:30:50.237539Z",
     "shell.execute_reply": "2022-01-27T10:30:50.238042Z",
     "shell.execute_reply.started": "2022-01-27T10:13:46.78832Z"
    },
    "executionInfo": {
     "elapsed": 1125,
     "status": "ok",
     "timestamp": 1602074519938,
     "user": {
      "displayName": "Pianalytix Vrec",
      "photoUrl": "",
      "userId": "08286299111597749388"
     },
     "user_tz": -330
    },
    "id": "b7HsLUVH1dF4",
    "papermill": {
     "duration": 0.088591,
     "end_time": "2022-01-27T10:30:50.238221",
     "exception": false,
     "start_time": "2022-01-27T10:30:50.149630",
     "status": "completed"
    },
    "tags": []
   },
   "outputs": [],
   "source": [
    "categorical_val.remove('target')\n",
    "dfs = pd.get_dummies(data, columns = categorical_val)"
   ]
  },
  {
   "cell_type": "code",
   "execution_count": 28,
   "id": "1d035ed0",
   "metadata": {
    "execution": {
     "iopub.execute_input": "2022-01-27T10:30:50.389967Z",
     "iopub.status.busy": "2022-01-27T10:30:50.389333Z",
     "iopub.status.idle": "2022-01-27T10:30:50.405008Z",
     "shell.execute_reply": "2022-01-27T10:30:50.404475Z",
     "shell.execute_reply.started": "2022-01-27T10:13:46.80795Z"
    },
    "executionInfo": {
     "elapsed": 1344,
     "status": "ok",
     "timestamp": 1602074524184,
     "user": {
      "displayName": "Pianalytix Vrec",
      "photoUrl": "",
      "userId": "08286299111597749388"
     },
     "user_tz": -330
    },
    "id": "xcLWUXFh1dF7",
    "outputId": "04846301-aa9d-402d-feaa-8fa14dd3043f",
    "papermill": {
     "duration": 0.093792,
     "end_time": "2022-01-27T10:30:50.405149",
     "exception": false,
     "start_time": "2022-01-27T10:30:50.311357",
     "status": "completed"
    },
    "tags": []
   },
   "outputs": [
    {
     "data": {
      "text/html": [
       "<div>\n",
       "<style scoped>\n",
       "    .dataframe tbody tr th:only-of-type {\n",
       "        vertical-align: middle;\n",
       "    }\n",
       "\n",
       "    .dataframe tbody tr th {\n",
       "        vertical-align: top;\n",
       "    }\n",
       "\n",
       "    .dataframe thead th {\n",
       "        text-align: right;\n",
       "    }\n",
       "</style>\n",
       "<table border=\"1\" class=\"dataframe\">\n",
       "  <thead>\n",
       "    <tr style=\"text-align: right;\">\n",
       "      <th></th>\n",
       "      <th>age</th>\n",
       "      <th>trestbps</th>\n",
       "      <th>chol</th>\n",
       "      <th>thalach</th>\n",
       "      <th>oldpeak</th>\n",
       "      <th>target</th>\n",
       "      <th>sex_0</th>\n",
       "      <th>sex_1</th>\n",
       "      <th>cp_0</th>\n",
       "      <th>cp_1</th>\n",
       "      <th>...</th>\n",
       "      <th>slope_2</th>\n",
       "      <th>ca_0</th>\n",
       "      <th>ca_1</th>\n",
       "      <th>ca_2</th>\n",
       "      <th>ca_3</th>\n",
       "      <th>ca_4</th>\n",
       "      <th>thal_0</th>\n",
       "      <th>thal_1</th>\n",
       "      <th>thal_2</th>\n",
       "      <th>thal_3</th>\n",
       "    </tr>\n",
       "  </thead>\n",
       "  <tbody>\n",
       "    <tr>\n",
       "      <th>0</th>\n",
       "      <td>52</td>\n",
       "      <td>125</td>\n",
       "      <td>212</td>\n",
       "      <td>168</td>\n",
       "      <td>1.0</td>\n",
       "      <td>0</td>\n",
       "      <td>0</td>\n",
       "      <td>1</td>\n",
       "      <td>1</td>\n",
       "      <td>0</td>\n",
       "      <td>...</td>\n",
       "      <td>1</td>\n",
       "      <td>0</td>\n",
       "      <td>0</td>\n",
       "      <td>1</td>\n",
       "      <td>0</td>\n",
       "      <td>0</td>\n",
       "      <td>0</td>\n",
       "      <td>0</td>\n",
       "      <td>0</td>\n",
       "      <td>1</td>\n",
       "    </tr>\n",
       "    <tr>\n",
       "      <th>1</th>\n",
       "      <td>53</td>\n",
       "      <td>140</td>\n",
       "      <td>203</td>\n",
       "      <td>155</td>\n",
       "      <td>3.1</td>\n",
       "      <td>0</td>\n",
       "      <td>0</td>\n",
       "      <td>1</td>\n",
       "      <td>1</td>\n",
       "      <td>0</td>\n",
       "      <td>...</td>\n",
       "      <td>0</td>\n",
       "      <td>1</td>\n",
       "      <td>0</td>\n",
       "      <td>0</td>\n",
       "      <td>0</td>\n",
       "      <td>0</td>\n",
       "      <td>0</td>\n",
       "      <td>0</td>\n",
       "      <td>0</td>\n",
       "      <td>1</td>\n",
       "    </tr>\n",
       "    <tr>\n",
       "      <th>2</th>\n",
       "      <td>70</td>\n",
       "      <td>145</td>\n",
       "      <td>174</td>\n",
       "      <td>125</td>\n",
       "      <td>2.6</td>\n",
       "      <td>0</td>\n",
       "      <td>0</td>\n",
       "      <td>1</td>\n",
       "      <td>1</td>\n",
       "      <td>0</td>\n",
       "      <td>...</td>\n",
       "      <td>0</td>\n",
       "      <td>1</td>\n",
       "      <td>0</td>\n",
       "      <td>0</td>\n",
       "      <td>0</td>\n",
       "      <td>0</td>\n",
       "      <td>0</td>\n",
       "      <td>0</td>\n",
       "      <td>0</td>\n",
       "      <td>1</td>\n",
       "    </tr>\n",
       "    <tr>\n",
       "      <th>3</th>\n",
       "      <td>61</td>\n",
       "      <td>148</td>\n",
       "      <td>203</td>\n",
       "      <td>161</td>\n",
       "      <td>0.0</td>\n",
       "      <td>0</td>\n",
       "      <td>0</td>\n",
       "      <td>1</td>\n",
       "      <td>1</td>\n",
       "      <td>0</td>\n",
       "      <td>...</td>\n",
       "      <td>1</td>\n",
       "      <td>0</td>\n",
       "      <td>1</td>\n",
       "      <td>0</td>\n",
       "      <td>0</td>\n",
       "      <td>0</td>\n",
       "      <td>0</td>\n",
       "      <td>0</td>\n",
       "      <td>0</td>\n",
       "      <td>1</td>\n",
       "    </tr>\n",
       "    <tr>\n",
       "      <th>4</th>\n",
       "      <td>62</td>\n",
       "      <td>138</td>\n",
       "      <td>294</td>\n",
       "      <td>106</td>\n",
       "      <td>1.9</td>\n",
       "      <td>0</td>\n",
       "      <td>1</td>\n",
       "      <td>0</td>\n",
       "      <td>1</td>\n",
       "      <td>0</td>\n",
       "      <td>...</td>\n",
       "      <td>0</td>\n",
       "      <td>0</td>\n",
       "      <td>0</td>\n",
       "      <td>0</td>\n",
       "      <td>1</td>\n",
       "      <td>0</td>\n",
       "      <td>0</td>\n",
       "      <td>0</td>\n",
       "      <td>1</td>\n",
       "      <td>0</td>\n",
       "    </tr>\n",
       "    <tr>\n",
       "      <th>5</th>\n",
       "      <td>58</td>\n",
       "      <td>100</td>\n",
       "      <td>248</td>\n",
       "      <td>122</td>\n",
       "      <td>1.0</td>\n",
       "      <td>1</td>\n",
       "      <td>1</td>\n",
       "      <td>0</td>\n",
       "      <td>1</td>\n",
       "      <td>0</td>\n",
       "      <td>...</td>\n",
       "      <td>0</td>\n",
       "      <td>1</td>\n",
       "      <td>0</td>\n",
       "      <td>0</td>\n",
       "      <td>0</td>\n",
       "      <td>0</td>\n",
       "      <td>0</td>\n",
       "      <td>0</td>\n",
       "      <td>1</td>\n",
       "      <td>0</td>\n",
       "    </tr>\n",
       "  </tbody>\n",
       "</table>\n",
       "<p>6 rows × 31 columns</p>\n",
       "</div>"
      ],
      "text/plain": [
       "   age  trestbps  chol  thalach  oldpeak  target  sex_0  sex_1  cp_0  cp_1  \\\n",
       "0   52       125   212      168      1.0       0      0      1     1     0   \n",
       "1   53       140   203      155      3.1       0      0      1     1     0   \n",
       "2   70       145   174      125      2.6       0      0      1     1     0   \n",
       "3   61       148   203      161      0.0       0      0      1     1     0   \n",
       "4   62       138   294      106      1.9       0      1      0     1     0   \n",
       "5   58       100   248      122      1.0       1      1      0     1     0   \n",
       "\n",
       "   ...  slope_2  ca_0  ca_1  ca_2  ca_3  ca_4  thal_0  thal_1  thal_2  thal_3  \n",
       "0  ...        1     0     0     1     0     0       0       0       0       1  \n",
       "1  ...        0     1     0     0     0     0       0       0       0       1  \n",
       "2  ...        0     1     0     0     0     0       0       0       0       1  \n",
       "3  ...        1     0     1     0     0     0       0       0       0       1  \n",
       "4  ...        0     0     0     0     1     0       0       0       1       0  \n",
       "5  ...        0     1     0     0     0     0       0       0       1       0  \n",
       "\n",
       "[6 rows x 31 columns]"
      ]
     },
     "execution_count": 28,
     "metadata": {},
     "output_type": "execute_result"
    }
   ],
   "source": [
    "dfs.head(6)"
   ]
  },
  {
   "cell_type": "code",
   "execution_count": 29,
   "id": "97ecbfeb",
   "metadata": {
    "execution": {
     "iopub.execute_input": "2022-01-27T10:30:50.559774Z",
     "iopub.status.busy": "2022-01-27T10:30:50.559148Z",
     "iopub.status.idle": "2022-01-27T10:30:50.567275Z",
     "shell.execute_reply": "2022-01-27T10:30:50.566792Z",
     "shell.execute_reply.started": "2022-01-27T10:13:46.835191Z"
    },
    "executionInfo": {
     "elapsed": 974,
     "status": "ok",
     "timestamp": 1602074590169,
     "user": {
      "displayName": "Pianalytix Vrec",
      "photoUrl": "",
      "userId": "08286299111597749388"
     },
     "user_tz": -330
    },
    "id": "ewVANZ6_1dGE",
    "papermill": {
     "duration": 0.087599,
     "end_time": "2022-01-27T10:30:50.567412",
     "exception": false,
     "start_time": "2022-01-27T10:30:50.479813",
     "status": "completed"
    },
    "tags": []
   },
   "outputs": [],
   "source": [
    "sc = StandardScaler()\n",
    "col_to_scale = ['age', 'trestbps', 'chol', 'thalach', 'oldpeak']\n",
    "dfs[col_to_scale] = sc.fit_transform(dfs[col_to_scale])"
   ]
  },
  {
   "cell_type": "code",
   "execution_count": 30,
   "id": "92fdf1b7",
   "metadata": {
    "execution": {
     "iopub.execute_input": "2022-01-27T10:30:50.729795Z",
     "iopub.status.busy": "2022-01-27T10:30:50.723628Z",
     "iopub.status.idle": "2022-01-27T10:30:50.738441Z",
     "shell.execute_reply": "2022-01-27T10:30:50.738955Z",
     "shell.execute_reply.started": "2022-01-27T10:13:46.854847Z"
    },
    "executionInfo": {
     "elapsed": 1332,
     "status": "ok",
     "timestamp": 1602074596956,
     "user": {
      "displayName": "Pianalytix Vrec",
      "photoUrl": "",
      "userId": "08286299111597749388"
     },
     "user_tz": -330
    },
    "id": "FSS5TpYq1dGL",
    "outputId": "e83f54c4-6b7e-4c80-adc9-02c9e2ba0e96",
    "papermill": {
     "duration": 0.096507,
     "end_time": "2022-01-27T10:30:50.739125",
     "exception": false,
     "start_time": "2022-01-27T10:30:50.642618",
     "status": "completed"
    },
    "tags": []
   },
   "outputs": [
    {
     "data": {
      "text/html": [
       "<div>\n",
       "<style scoped>\n",
       "    .dataframe tbody tr th:only-of-type {\n",
       "        vertical-align: middle;\n",
       "    }\n",
       "\n",
       "    .dataframe tbody tr th {\n",
       "        vertical-align: top;\n",
       "    }\n",
       "\n",
       "    .dataframe thead th {\n",
       "        text-align: right;\n",
       "    }\n",
       "</style>\n",
       "<table border=\"1\" class=\"dataframe\">\n",
       "  <thead>\n",
       "    <tr style=\"text-align: right;\">\n",
       "      <th></th>\n",
       "      <th>age</th>\n",
       "      <th>trestbps</th>\n",
       "      <th>chol</th>\n",
       "      <th>thalach</th>\n",
       "      <th>oldpeak</th>\n",
       "      <th>target</th>\n",
       "      <th>sex_0</th>\n",
       "      <th>sex_1</th>\n",
       "      <th>cp_0</th>\n",
       "      <th>cp_1</th>\n",
       "      <th>...</th>\n",
       "      <th>slope_2</th>\n",
       "      <th>ca_0</th>\n",
       "      <th>ca_1</th>\n",
       "      <th>ca_2</th>\n",
       "      <th>ca_3</th>\n",
       "      <th>ca_4</th>\n",
       "      <th>thal_0</th>\n",
       "      <th>thal_1</th>\n",
       "      <th>thal_2</th>\n",
       "      <th>thal_3</th>\n",
       "    </tr>\n",
       "  </thead>\n",
       "  <tbody>\n",
       "    <tr>\n",
       "      <th>0</th>\n",
       "      <td>-0.268437</td>\n",
       "      <td>-0.377636</td>\n",
       "      <td>-0.659332</td>\n",
       "      <td>0.821321</td>\n",
       "      <td>-0.060888</td>\n",
       "      <td>0</td>\n",
       "      <td>0</td>\n",
       "      <td>1</td>\n",
       "      <td>1</td>\n",
       "      <td>0</td>\n",
       "      <td>...</td>\n",
       "      <td>1</td>\n",
       "      <td>0</td>\n",
       "      <td>0</td>\n",
       "      <td>1</td>\n",
       "      <td>0</td>\n",
       "      <td>0</td>\n",
       "      <td>0</td>\n",
       "      <td>0</td>\n",
       "      <td>0</td>\n",
       "      <td>1</td>\n",
       "    </tr>\n",
       "    <tr>\n",
       "      <th>1</th>\n",
       "      <td>-0.158157</td>\n",
       "      <td>0.479107</td>\n",
       "      <td>-0.833861</td>\n",
       "      <td>0.255968</td>\n",
       "      <td>1.727137</td>\n",
       "      <td>0</td>\n",
       "      <td>0</td>\n",
       "      <td>1</td>\n",
       "      <td>1</td>\n",
       "      <td>0</td>\n",
       "      <td>...</td>\n",
       "      <td>0</td>\n",
       "      <td>1</td>\n",
       "      <td>0</td>\n",
       "      <td>0</td>\n",
       "      <td>0</td>\n",
       "      <td>0</td>\n",
       "      <td>0</td>\n",
       "      <td>0</td>\n",
       "      <td>0</td>\n",
       "      <td>1</td>\n",
       "    </tr>\n",
       "    <tr>\n",
       "      <th>2</th>\n",
       "      <td>1.716595</td>\n",
       "      <td>0.764688</td>\n",
       "      <td>-1.396233</td>\n",
       "      <td>-1.048692</td>\n",
       "      <td>1.301417</td>\n",
       "      <td>0</td>\n",
       "      <td>0</td>\n",
       "      <td>1</td>\n",
       "      <td>1</td>\n",
       "      <td>0</td>\n",
       "      <td>...</td>\n",
       "      <td>0</td>\n",
       "      <td>1</td>\n",
       "      <td>0</td>\n",
       "      <td>0</td>\n",
       "      <td>0</td>\n",
       "      <td>0</td>\n",
       "      <td>0</td>\n",
       "      <td>0</td>\n",
       "      <td>0</td>\n",
       "      <td>1</td>\n",
       "    </tr>\n",
       "    <tr>\n",
       "      <th>3</th>\n",
       "      <td>0.724079</td>\n",
       "      <td>0.936037</td>\n",
       "      <td>-0.833861</td>\n",
       "      <td>0.516900</td>\n",
       "      <td>-0.912329</td>\n",
       "      <td>0</td>\n",
       "      <td>0</td>\n",
       "      <td>1</td>\n",
       "      <td>1</td>\n",
       "      <td>0</td>\n",
       "      <td>...</td>\n",
       "      <td>1</td>\n",
       "      <td>0</td>\n",
       "      <td>1</td>\n",
       "      <td>0</td>\n",
       "      <td>0</td>\n",
       "      <td>0</td>\n",
       "      <td>0</td>\n",
       "      <td>0</td>\n",
       "      <td>0</td>\n",
       "      <td>1</td>\n",
       "    </tr>\n",
       "    <tr>\n",
       "      <th>4</th>\n",
       "      <td>0.834359</td>\n",
       "      <td>0.364875</td>\n",
       "      <td>0.930822</td>\n",
       "      <td>-1.874977</td>\n",
       "      <td>0.705408</td>\n",
       "      <td>0</td>\n",
       "      <td>1</td>\n",
       "      <td>0</td>\n",
       "      <td>1</td>\n",
       "      <td>0</td>\n",
       "      <td>...</td>\n",
       "      <td>0</td>\n",
       "      <td>0</td>\n",
       "      <td>0</td>\n",
       "      <td>0</td>\n",
       "      <td>1</td>\n",
       "      <td>0</td>\n",
       "      <td>0</td>\n",
       "      <td>0</td>\n",
       "      <td>1</td>\n",
       "      <td>0</td>\n",
       "    </tr>\n",
       "    <tr>\n",
       "      <th>5</th>\n",
       "      <td>0.393241</td>\n",
       "      <td>-1.805540</td>\n",
       "      <td>0.038784</td>\n",
       "      <td>-1.179158</td>\n",
       "      <td>-0.060888</td>\n",
       "      <td>1</td>\n",
       "      <td>1</td>\n",
       "      <td>0</td>\n",
       "      <td>1</td>\n",
       "      <td>0</td>\n",
       "      <td>...</td>\n",
       "      <td>0</td>\n",
       "      <td>1</td>\n",
       "      <td>0</td>\n",
       "      <td>0</td>\n",
       "      <td>0</td>\n",
       "      <td>0</td>\n",
       "      <td>0</td>\n",
       "      <td>0</td>\n",
       "      <td>1</td>\n",
       "      <td>0</td>\n",
       "    </tr>\n",
       "  </tbody>\n",
       "</table>\n",
       "<p>6 rows × 31 columns</p>\n",
       "</div>"
      ],
      "text/plain": [
       "        age  trestbps      chol   thalach   oldpeak  target  sex_0  sex_1  \\\n",
       "0 -0.268437 -0.377636 -0.659332  0.821321 -0.060888       0      0      1   \n",
       "1 -0.158157  0.479107 -0.833861  0.255968  1.727137       0      0      1   \n",
       "2  1.716595  0.764688 -1.396233 -1.048692  1.301417       0      0      1   \n",
       "3  0.724079  0.936037 -0.833861  0.516900 -0.912329       0      0      1   \n",
       "4  0.834359  0.364875  0.930822 -1.874977  0.705408       0      1      0   \n",
       "5  0.393241 -1.805540  0.038784 -1.179158 -0.060888       1      1      0   \n",
       "\n",
       "   cp_0  cp_1  ...  slope_2  ca_0  ca_1  ca_2  ca_3  ca_4  thal_0  thal_1  \\\n",
       "0     1     0  ...        1     0     0     1     0     0       0       0   \n",
       "1     1     0  ...        0     1     0     0     0     0       0       0   \n",
       "2     1     0  ...        0     1     0     0     0     0       0       0   \n",
       "3     1     0  ...        1     0     1     0     0     0       0       0   \n",
       "4     1     0  ...        0     0     0     0     1     0       0       0   \n",
       "5     1     0  ...        0     1     0     0     0     0       0       0   \n",
       "\n",
       "   thal_2  thal_3  \n",
       "0       0       1  \n",
       "1       0       1  \n",
       "2       0       1  \n",
       "3       0       1  \n",
       "4       1       0  \n",
       "5       1       0  \n",
       "\n",
       "[6 rows x 31 columns]"
      ]
     },
     "execution_count": 30,
     "metadata": {},
     "output_type": "execute_result"
    }
   ],
   "source": [
    "dfs.head(6)"
   ]
  },
  {
   "cell_type": "markdown",
   "id": "00161fed",
   "metadata": {
    "id": "_2XBrdj51dGV",
    "papermill": {
     "duration": 0.075119,
     "end_time": "2022-01-27T10:30:50.888828",
     "exception": false,
     "start_time": "2022-01-27T10:30:50.813709",
     "status": "completed"
    },
    "tags": []
   },
   "source": [
    "# Modelling"
   ]
  },
  {
   "cell_type": "markdown",
   "id": "9893b382",
   "metadata": {
    "id": "WV3EsaCP1dGW",
    "papermill": {
     "duration": 0.096362,
     "end_time": "2022-01-27T10:30:51.059865",
     "exception": false,
     "start_time": "2022-01-27T10:30:50.963503",
     "status": "completed"
    },
    "tags": []
   },
   "source": [
    "**Splitting our dataset**"
   ]
  },
  {
   "cell_type": "code",
   "execution_count": 31,
   "id": "3581fcf9",
   "metadata": {
    "execution": {
     "iopub.execute_input": "2022-01-27T10:30:51.228760Z",
     "iopub.status.busy": "2022-01-27T10:30:51.227805Z",
     "iopub.status.idle": "2022-01-27T10:30:51.233047Z",
     "shell.execute_reply": "2022-01-27T10:30:51.233567Z",
     "shell.execute_reply.started": "2022-01-27T10:13:46.884016Z"
    },
    "executionInfo": {
     "elapsed": 1013,
     "status": "ok",
     "timestamp": 1602074676914,
     "user": {
      "displayName": "Pianalytix Vrec",
      "photoUrl": "",
      "userId": "08286299111597749388"
     },
     "user_tz": -330
    },
    "id": "mxJlhkUd1dGX",
    "papermill": {
     "duration": 0.088668,
     "end_time": "2022-01-27T10:30:51.233733",
     "exception": false,
     "start_time": "2022-01-27T10:30:51.145065",
     "status": "completed"
    },
    "tags": []
   },
   "outputs": [],
   "source": [
    "X = dfs.drop('target', axis=1)\n",
    "y = dfs.target\n",
    "\n",
    "X_train, X_test, y_train, y_test = train_test_split(X, y, test_size=0.3, random_state=42)"
   ]
  },
  {
   "cell_type": "code",
   "execution_count": 32,
   "id": "4c2f22bf",
   "metadata": {
    "execution": {
     "iopub.execute_input": "2022-01-27T10:30:51.386725Z",
     "iopub.status.busy": "2022-01-27T10:30:51.385812Z",
     "iopub.status.idle": "2022-01-27T10:30:51.403205Z",
     "shell.execute_reply": "2022-01-27T10:30:51.403728Z",
     "shell.execute_reply.started": "2022-01-27T10:13:46.896017Z"
    },
    "executionInfo": {
     "elapsed": 1087,
     "status": "ok",
     "timestamp": 1602074696393,
     "user": {
      "displayName": "Pianalytix Vrec",
      "photoUrl": "",
      "userId": "08286299111597749388"
     },
     "user_tz": -330
    },
    "id": "BW8DIcQhF8Fm",
    "outputId": "4d66b590-9bfa-49d7-c84b-1698509ee45a",
    "papermill": {
     "duration": 0.095568,
     "end_time": "2022-01-27T10:30:51.403893",
     "exception": false,
     "start_time": "2022-01-27T10:30:51.308325",
     "status": "completed"
    },
    "tags": []
   },
   "outputs": [
    {
     "data": {
      "text/html": [
       "<div>\n",
       "<style scoped>\n",
       "    .dataframe tbody tr th:only-of-type {\n",
       "        vertical-align: middle;\n",
       "    }\n",
       "\n",
       "    .dataframe tbody tr th {\n",
       "        vertical-align: top;\n",
       "    }\n",
       "\n",
       "    .dataframe thead th {\n",
       "        text-align: right;\n",
       "    }\n",
       "</style>\n",
       "<table border=\"1\" class=\"dataframe\">\n",
       "  <thead>\n",
       "    <tr style=\"text-align: right;\">\n",
       "      <th></th>\n",
       "      <th>age</th>\n",
       "      <th>trestbps</th>\n",
       "      <th>chol</th>\n",
       "      <th>thalach</th>\n",
       "      <th>oldpeak</th>\n",
       "      <th>sex_0</th>\n",
       "      <th>sex_1</th>\n",
       "      <th>cp_0</th>\n",
       "      <th>cp_1</th>\n",
       "      <th>cp_2</th>\n",
       "      <th>...</th>\n",
       "      <th>slope_2</th>\n",
       "      <th>ca_0</th>\n",
       "      <th>ca_1</th>\n",
       "      <th>ca_2</th>\n",
       "      <th>ca_3</th>\n",
       "      <th>ca_4</th>\n",
       "      <th>thal_0</th>\n",
       "      <th>thal_1</th>\n",
       "      <th>thal_2</th>\n",
       "      <th>thal_3</th>\n",
       "    </tr>\n",
       "  </thead>\n",
       "  <tbody>\n",
       "    <tr>\n",
       "      <th>1020</th>\n",
       "      <td>0.503520</td>\n",
       "      <td>0.479107</td>\n",
       "      <td>-0.484803</td>\n",
       "      <td>0.647366</td>\n",
       "      <td>-0.912329</td>\n",
       "      <td>0</td>\n",
       "      <td>1</td>\n",
       "      <td>0</td>\n",
       "      <td>1</td>\n",
       "      <td>0</td>\n",
       "      <td>...</td>\n",
       "      <td>1</td>\n",
       "      <td>1</td>\n",
       "      <td>0</td>\n",
       "      <td>0</td>\n",
       "      <td>0</td>\n",
       "      <td>0</td>\n",
       "      <td>0</td>\n",
       "      <td>0</td>\n",
       "      <td>1</td>\n",
       "      <td>0</td>\n",
       "    </tr>\n",
       "    <tr>\n",
       "      <th>479</th>\n",
       "      <td>0.393241</td>\n",
       "      <td>-0.206287</td>\n",
       "      <td>-0.581764</td>\n",
       "      <td>-0.787760</td>\n",
       "      <td>0.960840</td>\n",
       "      <td>0</td>\n",
       "      <td>1</td>\n",
       "      <td>1</td>\n",
       "      <td>0</td>\n",
       "      <td>0</td>\n",
       "      <td>...</td>\n",
       "      <td>0</td>\n",
       "      <td>0</td>\n",
       "      <td>0</td>\n",
       "      <td>0</td>\n",
       "      <td>1</td>\n",
       "      <td>0</td>\n",
       "      <td>0</td>\n",
       "      <td>0</td>\n",
       "      <td>0</td>\n",
       "      <td>1</td>\n",
       "    </tr>\n",
       "    <tr>\n",
       "      <th>227</th>\n",
       "      <td>-1.150673</td>\n",
       "      <td>-0.777449</td>\n",
       "      <td>-0.077568</td>\n",
       "      <td>-0.004964</td>\n",
       "      <td>-0.656897</td>\n",
       "      <td>1</td>\n",
       "      <td>0</td>\n",
       "      <td>0</td>\n",
       "      <td>0</td>\n",
       "      <td>1</td>\n",
       "      <td>...</td>\n",
       "      <td>0</td>\n",
       "      <td>0</td>\n",
       "      <td>1</td>\n",
       "      <td>0</td>\n",
       "      <td>0</td>\n",
       "      <td>0</td>\n",
       "      <td>0</td>\n",
       "      <td>0</td>\n",
       "      <td>1</td>\n",
       "      <td>0</td>\n",
       "    </tr>\n",
       "    <tr>\n",
       "      <th>910</th>\n",
       "      <td>-0.488996</td>\n",
       "      <td>0.479107</td>\n",
       "      <td>-0.252098</td>\n",
       "      <td>0.603877</td>\n",
       "      <td>-0.401465</td>\n",
       "      <td>0</td>\n",
       "      <td>1</td>\n",
       "      <td>0</td>\n",
       "      <td>0</td>\n",
       "      <td>1</td>\n",
       "      <td>...</td>\n",
       "      <td>0</td>\n",
       "      <td>0</td>\n",
       "      <td>1</td>\n",
       "      <td>0</td>\n",
       "      <td>0</td>\n",
       "      <td>0</td>\n",
       "      <td>0</td>\n",
       "      <td>0</td>\n",
       "      <td>0</td>\n",
       "      <td>1</td>\n",
       "    </tr>\n",
       "    <tr>\n",
       "      <th>362</th>\n",
       "      <td>-1.260953</td>\n",
       "      <td>-0.548984</td>\n",
       "      <td>-0.639940</td>\n",
       "      <td>0.690855</td>\n",
       "      <td>-0.742041</td>\n",
       "      <td>1</td>\n",
       "      <td>0</td>\n",
       "      <td>0</td>\n",
       "      <td>0</td>\n",
       "      <td>1</td>\n",
       "      <td>...</td>\n",
       "      <td>0</td>\n",
       "      <td>1</td>\n",
       "      <td>0</td>\n",
       "      <td>0</td>\n",
       "      <td>0</td>\n",
       "      <td>0</td>\n",
       "      <td>0</td>\n",
       "      <td>0</td>\n",
       "      <td>1</td>\n",
       "      <td>0</td>\n",
       "    </tr>\n",
       "  </tbody>\n",
       "</table>\n",
       "<p>5 rows × 30 columns</p>\n",
       "</div>"
      ],
      "text/plain": [
       "           age  trestbps      chol   thalach   oldpeak  sex_0  sex_1  cp_0  \\\n",
       "1020  0.503520  0.479107 -0.484803  0.647366 -0.912329      0      1     0   \n",
       "479   0.393241 -0.206287 -0.581764 -0.787760  0.960840      0      1     1   \n",
       "227  -1.150673 -0.777449 -0.077568 -0.004964 -0.656897      1      0     0   \n",
       "910  -0.488996  0.479107 -0.252098  0.603877 -0.401465      0      1     0   \n",
       "362  -1.260953 -0.548984 -0.639940  0.690855 -0.742041      1      0     0   \n",
       "\n",
       "      cp_1  cp_2  ...  slope_2  ca_0  ca_1  ca_2  ca_3  ca_4  thal_0  thal_1  \\\n",
       "1020     1     0  ...        1     1     0     0     0     0       0       0   \n",
       "479      0     0  ...        0     0     0     0     1     0       0       0   \n",
       "227      0     1  ...        0     0     1     0     0     0       0       0   \n",
       "910      0     1  ...        0     0     1     0     0     0       0       0   \n",
       "362      0     1  ...        0     1     0     0     0     0       0       0   \n",
       "\n",
       "      thal_2  thal_3  \n",
       "1020       1       0  \n",
       "479        0       1  \n",
       "227        1       0  \n",
       "910        0       1  \n",
       "362        1       0  \n",
       "\n",
       "[5 rows x 30 columns]"
      ]
     },
     "execution_count": 32,
     "metadata": {},
     "output_type": "execute_result"
    }
   ],
   "source": [
    "X_train.head()"
   ]
  },
  {
   "cell_type": "markdown",
   "id": "9de316d2",
   "metadata": {
    "id": "_DeEtpgZ1dGg",
    "papermill": {
     "duration": 0.075544,
     "end_time": "2022-01-27T10:30:51.554483",
     "exception": false,
     "start_time": "2022-01-27T10:30:51.478939",
     "status": "completed"
    },
    "tags": []
   },
   "source": [
    "We will work on following algo - \n",
    "\n",
    "* KNN\n",
    "* Random Forest Classifier\n",
    "* XGBoost\n",
    "* CatBoost"
   ]
  },
  {
   "cell_type": "markdown",
   "id": "30722a01",
   "metadata": {
    "id": "AvWpUuPi1dGi",
    "papermill": {
     "duration": 0.07487,
     "end_time": "2022-01-27T10:30:51.704291",
     "exception": false,
     "start_time": "2022-01-27T10:30:51.629421",
     "status": "completed"
    },
    "tags": []
   },
   "source": [
    "## KNN"
   ]
  },
  {
   "cell_type": "code",
   "execution_count": 33,
   "id": "278e15ca",
   "metadata": {
    "execution": {
     "iopub.execute_input": "2022-01-27T10:30:51.859053Z",
     "iopub.status.busy": "2022-01-27T10:30:51.858064Z",
     "iopub.status.idle": "2022-01-27T10:30:51.861497Z",
     "shell.execute_reply": "2022-01-27T10:30:51.861914Z",
     "shell.execute_reply.started": "2022-01-27T10:13:46.919491Z"
    },
    "executionInfo": {
     "elapsed": 1091,
     "status": "ok",
     "timestamp": 1602074711956,
     "user": {
      "displayName": "Pianalytix Vrec",
      "photoUrl": "",
      "userId": "08286299111597749388"
     },
     "user_tz": -330
    },
    "id": "BHmz8bnd1dGj",
    "papermill": {
     "duration": 0.082835,
     "end_time": "2022-01-27T10:30:51.862080",
     "exception": false,
     "start_time": "2022-01-27T10:30:51.779245",
     "status": "completed"
    },
    "tags": []
   },
   "outputs": [],
   "source": [
    "knn = KNeighborsClassifier(n_neighbors = 10)"
   ]
  },
  {
   "cell_type": "code",
   "execution_count": 34,
   "id": "d863a770",
   "metadata": {
    "execution": {
     "iopub.execute_input": "2022-01-27T10:30:52.018670Z",
     "iopub.status.busy": "2022-01-27T10:30:52.015614Z",
     "iopub.status.idle": "2022-01-27T10:30:52.027361Z",
     "shell.execute_reply": "2022-01-27T10:30:52.027855Z",
     "shell.execute_reply.started": "2022-01-27T10:13:46.934933Z"
    },
    "executionInfo": {
     "elapsed": 995,
     "status": "ok",
     "timestamp": 1602074715389,
     "user": {
      "displayName": "Pianalytix Vrec",
      "photoUrl": "",
      "userId": "08286299111597749388"
     },
     "user_tz": -330
    },
    "id": "zVnTPHmf1dGo",
    "outputId": "d27bf11a-1dab-49d6-809f-f8585e7d3085",
    "papermill": {
     "duration": 0.090934,
     "end_time": "2022-01-27T10:30:52.028025",
     "exception": false,
     "start_time": "2022-01-27T10:30:51.937091",
     "status": "completed"
    },
    "tags": []
   },
   "outputs": [
    {
     "data": {
      "text/plain": [
       "KNeighborsClassifier(n_neighbors=10)"
      ]
     },
     "execution_count": 34,
     "metadata": {},
     "output_type": "execute_result"
    }
   ],
   "source": [
    "knn.fit(X_train,y_train)"
   ]
  },
  {
   "cell_type": "code",
   "execution_count": 35,
   "id": "13970099",
   "metadata": {
    "execution": {
     "iopub.execute_input": "2022-01-27T10:30:52.184004Z",
     "iopub.status.busy": "2022-01-27T10:30:52.183315Z",
     "iopub.status.idle": "2022-01-27T10:30:52.209430Z",
     "shell.execute_reply": "2022-01-27T10:30:52.209928Z",
     "shell.execute_reply.started": "2022-01-27T10:13:46.959323Z"
    },
    "executionInfo": {
     "elapsed": 1438,
     "status": "ok",
     "timestamp": 1602074725739,
     "user": {
      "displayName": "Pianalytix Vrec",
      "photoUrl": "",
      "userId": "08286299111597749388"
     },
     "user_tz": -330
    },
    "id": "et-E8OIW1dGx",
    "papermill": {
     "duration": 0.105799,
     "end_time": "2022-01-27T10:30:52.210124",
     "exception": false,
     "start_time": "2022-01-27T10:30:52.104325",
     "status": "completed"
    },
    "tags": []
   },
   "outputs": [],
   "source": [
    "y_pred1 = knn.predict(X_test)"
   ]
  },
  {
   "cell_type": "code",
   "execution_count": 36,
   "id": "7133be9e",
   "metadata": {
    "execution": {
     "iopub.execute_input": "2022-01-27T10:30:52.364825Z",
     "iopub.status.busy": "2022-01-27T10:30:52.363878Z",
     "iopub.status.idle": "2022-01-27T10:30:52.369758Z",
     "shell.execute_reply": "2022-01-27T10:30:52.370168Z",
     "shell.execute_reply.started": "2022-01-27T10:13:46.992733Z"
    },
    "executionInfo": {
     "elapsed": 1193,
     "status": "ok",
     "timestamp": 1602074747450,
     "user": {
      "displayName": "Pianalytix Vrec",
      "photoUrl": "",
      "userId": "08286299111597749388"
     },
     "user_tz": -330
    },
    "id": "bBvQwYCO1dG9",
    "outputId": "dbb30e6c-8255-474a-fd74-51bd019e399c",
    "papermill": {
     "duration": 0.085089,
     "end_time": "2022-01-27T10:30:52.370337",
     "exception": false,
     "start_time": "2022-01-27T10:30:52.285248",
     "status": "completed"
    },
    "tags": []
   },
   "outputs": [
    {
     "name": "stdout",
     "output_type": "stream",
     "text": [
      "0.827922077922078\n"
     ]
    }
   ],
   "source": [
    "print(accuracy_score(y_test,y_pred1))"
   ]
  },
  {
   "cell_type": "code",
   "execution_count": 37,
   "id": "72ca8775",
   "metadata": {
    "execution": {
     "iopub.execute_input": "2022-01-27T10:30:52.529393Z",
     "iopub.status.busy": "2022-01-27T10:30:52.528540Z",
     "iopub.status.idle": "2022-01-27T10:30:53.128995Z",
     "shell.execute_reply": "2022-01-27T10:30:53.128431Z",
     "shell.execute_reply.started": "2022-01-27T10:13:46.9998Z"
    },
    "executionInfo": {
     "elapsed": 1003,
     "status": "ok",
     "timestamp": 1602074795842,
     "user": {
      "displayName": "Pianalytix Vrec",
      "photoUrl": "",
      "userId": "08286299111597749388"
     },
     "user_tz": -330
    },
    "id": "NnobiDtM1dHD",
    "papermill": {
     "duration": 0.683159,
     "end_time": "2022-01-27T10:30:53.129155",
     "exception": false,
     "start_time": "2022-01-27T10:30:52.445996",
     "status": "completed"
    },
    "tags": []
   },
   "outputs": [],
   "source": [
    "# Hyperparameter Optimization\n",
    "\n",
    "test_score = []\n",
    "neighbors = range(1, 25)\n",
    "\n",
    "for k in neighbors:\n",
    "    model = KNeighborsClassifier(n_neighbors=k)\n",
    "    model.fit(X_train, y_train)\n",
    "    test_score.append(accuracy_score(y_test, model.predict(X_test)))"
   ]
  },
  {
   "cell_type": "code",
   "execution_count": 38,
   "id": "12301fb0",
   "metadata": {
    "execution": {
     "iopub.execute_input": "2022-01-27T10:30:53.285304Z",
     "iopub.status.busy": "2022-01-27T10:30:53.284394Z",
     "iopub.status.idle": "2022-01-27T10:30:53.628824Z",
     "shell.execute_reply": "2022-01-27T10:30:53.629260Z",
     "shell.execute_reply.started": "2022-01-27T10:13:47.702039Z"
    },
    "executionInfo": {
     "elapsed": 2348,
     "status": "ok",
     "timestamp": 1602074803637,
     "user": {
      "displayName": "Pianalytix Vrec",
      "photoUrl": "",
      "userId": "08286299111597749388"
     },
     "user_tz": -330
    },
    "id": "tomW-ukg1dHL",
    "outputId": "f71e7a7c-541a-42dc-d5c2-45208ce39a0f",
    "papermill": {
     "duration": 0.42329,
     "end_time": "2022-01-27T10:30:53.629416",
     "exception": false,
     "start_time": "2022-01-27T10:30:53.206126",
     "status": "completed"
    },
    "tags": []
   },
   "outputs": [
    {
     "data": {
      "image/png": "[encoded data removed]",
      "text/plain": [
       "<Figure size 1296x576 with 1 Axes>"
      ]
     },
     "metadata": {
      "needs_background": "light"
     },
     "output_type": "display_data"
    }
   ],
   "source": [
    "plt.figure(figsize=(18, 8))\n",
    "plt.plot(neighbors, test_score, label=\"Test score\")\n",
    "plt.xticks(np.arange(1, 21, 1))\n",
    "plt.xlabel(\"Number of neighbors\")\n",
    "plt.ylabel(\"Model score\")\n",
    "plt.legend()\n",
    "plt.tight_layout()"
   ]
  },
  {
   "cell_type": "markdown",
   "id": "4c747eca",
   "metadata": {
    "id": "8OYbu3-V1dHY",
    "papermill": {
     "duration": 0.090163,
     "end_time": "2022-01-27T10:30:53.796712",
     "exception": false,
     "start_time": "2022-01-27T10:30:53.706549",
     "status": "completed"
    },
    "tags": []
   },
   "source": [
    "**At K=19, we are getting highest test accuracy.**"
   ]
  },
  {
   "cell_type": "code",
   "execution_count": 39,
   "id": "3bd48045",
   "metadata": {
    "execution": {
     "iopub.execute_input": "2022-01-27T10:30:53.955289Z",
     "iopub.status.busy": "2022-01-27T10:30:53.954367Z",
     "iopub.status.idle": "2022-01-27T10:30:53.958012Z",
     "shell.execute_reply": "2022-01-27T10:30:53.958573Z",
     "shell.execute_reply.started": "2022-01-27T10:13:48.048829Z"
    },
    "executionInfo": {
     "elapsed": 913,
     "status": "ok",
     "timestamp": 1602074831518,
     "user": {
      "displayName": "Pianalytix Vrec",
      "photoUrl": "",
      "userId": "08286299111597749388"
     },
     "user_tz": -330
    },
    "id": "xYnsEFn51dHY",
    "papermill": {
     "duration": 0.084607,
     "end_time": "2022-01-27T10:30:53.958733",
     "exception": false,
     "start_time": "2022-01-27T10:30:53.874126",
     "status": "completed"
    },
    "tags": []
   },
   "outputs": [],
   "source": [
    "knn = KNeighborsClassifier(n_neighbors = 19)"
   ]
  },
  {
   "cell_type": "code",
   "execution_count": 40,
   "id": "979d4ab0",
   "metadata": {
    "execution": {
     "iopub.execute_input": "2022-01-27T10:30:54.116837Z",
     "iopub.status.busy": "2022-01-27T10:30:54.115841Z",
     "iopub.status.idle": "2022-01-27T10:30:54.125534Z",
     "shell.execute_reply": "2022-01-27T10:30:54.125956Z",
     "shell.execute_reply.started": "2022-01-27T10:13:48.057306Z"
    },
    "executionInfo": {
     "elapsed": 1317,
     "status": "ok",
     "timestamp": 1602074834628,
     "user": {
      "displayName": "Pianalytix Vrec",
      "photoUrl": "",
      "userId": "08286299111597749388"
     },
     "user_tz": -330
    },
    "id": "sfMESLM51dHb",
    "outputId": "5f2af89f-fc49-4ba0-cda3-84b0825db463",
    "papermill": {
     "duration": 0.090389,
     "end_time": "2022-01-27T10:30:54.126134",
     "exception": false,
     "start_time": "2022-01-27T10:30:54.035745",
     "status": "completed"
    },
    "tags": []
   },
   "outputs": [
    {
     "data": {
      "text/plain": [
       "KNeighborsClassifier(n_neighbors=19)"
      ]
     },
     "execution_count": 40,
     "metadata": {},
     "output_type": "execute_result"
    }
   ],
   "source": [
    "knn.fit(X_train,y_train)"
   ]
  },
  {
   "cell_type": "code",
   "execution_count": 41,
   "id": "bd922353",
   "metadata": {
    "execution": {
     "iopub.execute_input": "2022-01-27T10:30:54.288695Z",
     "iopub.status.busy": "2022-01-27T10:30:54.287757Z",
     "iopub.status.idle": "2022-01-27T10:30:54.312546Z",
     "shell.execute_reply": "2022-01-27T10:30:54.313039Z",
     "shell.execute_reply.started": "2022-01-27T10:13:48.075997Z"
    },
    "executionInfo": {
     "elapsed": 1012,
     "status": "ok",
     "timestamp": 1602074838496,
     "user": {
      "displayName": "Pianalytix Vrec",
      "photoUrl": "",
      "userId": "08286299111597749388"
     },
     "user_tz": -330
    },
    "id": "WtsIluwP1dHe",
    "papermill": {
     "duration": 0.108645,
     "end_time": "2022-01-27T10:30:54.313214",
     "exception": false,
     "start_time": "2022-01-27T10:30:54.204569",
     "status": "completed"
    },
    "tags": []
   },
   "outputs": [],
   "source": [
    "y_pred1 = knn.predict(X_test)"
   ]
  },
  {
   "cell_type": "code",
   "execution_count": 42,
   "id": "b43e91cd",
   "metadata": {
    "execution": {
     "iopub.execute_input": "2022-01-27T10:30:54.471748Z",
     "iopub.status.busy": "2022-01-27T10:30:54.470827Z",
     "iopub.status.idle": "2022-01-27T10:30:54.476690Z",
     "shell.execute_reply": "2022-01-27T10:30:54.477536Z",
     "shell.execute_reply.started": "2022-01-27T10:13:48.112349Z"
    },
    "executionInfo": {
     "elapsed": 1145,
     "status": "ok",
     "timestamp": 1602074841005,
     "user": {
      "displayName": "Pianalytix Vrec",
      "photoUrl": "",
      "userId": "08286299111597749388"
     },
     "user_tz": -330
    },
    "id": "k0Eh1Lwn1dHg",
    "outputId": "e77e7f94-1f48-4953-fa15-e8261132a9be",
    "papermill": {
     "duration": 0.08751,
     "end_time": "2022-01-27T10:30:54.477805",
     "exception": false,
     "start_time": "2022-01-27T10:30:54.390295",
     "status": "completed"
    },
    "tags": []
   },
   "outputs": [
    {
     "name": "stdout",
     "output_type": "stream",
     "text": [
      "0.8376623376623377\n"
     ]
    }
   ],
   "source": [
    "print(accuracy_score(y_test,y_pred1))"
   ]
  },
  {
   "cell_type": "markdown",
   "id": "07fcbd9c",
   "metadata": {
    "id": "sC76fWfR1dHl",
    "papermill": {
     "duration": 0.077764,
     "end_time": "2022-01-27T10:30:54.634445",
     "exception": false,
     "start_time": "2022-01-27T10:30:54.556681",
     "status": "completed"
    },
    "tags": []
   },
   "source": [
    "## Random Forest Classifier"
   ]
  },
  {
   "cell_type": "code",
   "execution_count": 43,
   "id": "6eb47b93",
   "metadata": {
    "execution": {
     "iopub.execute_input": "2022-01-27T10:30:54.794388Z",
     "iopub.status.busy": "2022-01-27T10:30:54.793444Z",
     "iopub.status.idle": "2022-01-27T10:30:54.981169Z",
     "shell.execute_reply": "2022-01-27T10:30:54.980672Z",
     "shell.execute_reply.started": "2022-01-27T10:13:48.122435Z"
    },
    "executionInfo": {
     "elapsed": 1037,
     "status": "ok",
     "timestamp": 1602074865560,
     "user": {
      "displayName": "Pianalytix Vrec",
      "photoUrl": "",
      "userId": "08286299111597749388"
     },
     "user_tz": -330
    },
    "id": "I6Lf3f-51dHl",
    "papermill": {
     "duration": 0.268561,
     "end_time": "2022-01-27T10:30:54.981311",
     "exception": false,
     "start_time": "2022-01-27T10:30:54.712750",
     "status": "completed"
    },
    "tags": []
   },
   "outputs": [],
   "source": [
    "rfc = RandomForestClassifier()\n",
    "rfc.fit(X_train,y_train)\n",
    "y_pred2 = rfc.predict(X_test)"
   ]
  },
  {
   "cell_type": "code",
   "execution_count": 44,
   "id": "59ba7e83",
   "metadata": {
    "execution": {
     "iopub.execute_input": "2022-01-27T10:30:55.142946Z",
     "iopub.status.busy": "2022-01-27T10:30:55.142268Z",
     "iopub.status.idle": "2022-01-27T10:30:55.146611Z",
     "shell.execute_reply": "2022-01-27T10:30:55.147020Z",
     "shell.execute_reply.started": "2022-01-27T10:13:48.368337Z"
    },
    "executionInfo": {
     "elapsed": 1231,
     "status": "ok",
     "timestamp": 1602074873846,
     "user": {
      "displayName": "Pianalytix Vrec",
      "photoUrl": "",
      "userId": "08286299111597749388"
     },
     "user_tz": -330
    },
    "id": "xTQnZhHX1dHn",
    "outputId": "7327a49f-1120-4ba7-a3e1-8f43cd0851e2",
    "papermill": {
     "duration": 0.086869,
     "end_time": "2022-01-27T10:30:55.147199",
     "exception": false,
     "start_time": "2022-01-27T10:30:55.060330",
     "status": "completed"
    },
    "tags": []
   },
   "outputs": [
    {
     "name": "stdout",
     "output_type": "stream",
     "text": [
      "0.9902597402597403\n"
     ]
    }
   ],
   "source": [
    "print(accuracy_score(y_test,y_pred2))"
   ]
  },
  {
   "cell_type": "code",
   "execution_count": 45,
   "id": "b05ac037",
   "metadata": {
    "execution": {
     "iopub.execute_input": "2022-01-27T10:30:55.313779Z",
     "iopub.status.busy": "2022-01-27T10:30:55.313137Z",
     "iopub.status.idle": "2022-01-27T10:30:55.314801Z",
     "shell.execute_reply": "2022-01-27T10:30:55.315187Z",
     "shell.execute_reply.started": "2022-01-27T10:13:48.376867Z"
    },
    "executionInfo": {
     "elapsed": 1109,
     "status": "ok",
     "timestamp": 1602074948989,
     "user": {
      "displayName": "Pianalytix Vrec",
      "photoUrl": "",
      "userId": "08286299111597749388"
     },
     "user_tz": -330
    },
    "id": "1dgCOBCq1dHp",
    "papermill": {
     "duration": 0.087763,
     "end_time": "2022-01-27T10:30:55.315348",
     "exception": false,
     "start_time": "2022-01-27T10:30:55.227585",
     "status": "completed"
    },
    "tags": []
   },
   "outputs": [],
   "source": [
    "## Hyperparameter Optimization\n",
    "\n",
    "max_depth = [int(x) for x in np.linspace(10, 110, num=11)]\n",
    "max_depth.append(None)\n",
    "\n",
    "params2 ={\n",
    "    \n",
    "    'n_estimators': [int(x) for x in np.linspace(start=200, stop=2000, num=10)], \n",
    "    'max_features': ['auto', 'sqrt'],\n",
    "    'max_depth': max_depth, \n",
    "    'min_samples_split': [2, 5, 10],\n",
    "    'min_samples_leaf': [1, 2, 4], \n",
    "    'bootstrap': [True, False]\n",
    "}"
   ]
  },
  {
   "cell_type": "code",
   "execution_count": 46,
   "id": "0bc7108e",
   "metadata": {
    "execution": {
     "iopub.execute_input": "2022-01-27T10:30:55.476962Z",
     "iopub.status.busy": "2022-01-27T10:30:55.476328Z",
     "iopub.status.idle": "2022-01-27T10:30:55.480624Z",
     "shell.execute_reply": "2022-01-27T10:30:55.481065Z",
     "shell.execute_reply.started": "2022-01-27T10:13:48.39317Z"
    },
    "executionInfo": {
     "elapsed": 907,
     "status": "ok",
     "timestamp": 1602075004720,
     "user": {
      "displayName": "Pianalytix Vrec",
      "photoUrl": "",
      "userId": "08286299111597749388"
     },
     "user_tz": -330
    },
    "id": "kVGp1V3Z1dHr",
    "papermill": {
     "duration": 0.086507,
     "end_time": "2022-01-27T10:30:55.481238",
     "exception": false,
     "start_time": "2022-01-27T10:30:55.394731",
     "status": "completed"
    },
    "tags": []
   },
   "outputs": [],
   "source": [
    "rfc = RandomForestClassifier(random_state=42)\n",
    "\n",
    "rfcs = RandomizedSearchCV(estimator=rfc, param_distributions=params2, n_iter=100, cv=5, verbose=2, random_state=42, n_jobs=-1)"
   ]
  },
  {
   "cell_type": "code",
   "execution_count": 47,
   "id": "a2eb976d",
   "metadata": {
    "execution": {
     "iopub.execute_input": "2022-01-27T10:30:55.641411Z",
     "iopub.status.busy": "2022-01-27T10:30:55.640824Z",
     "iopub.status.idle": "2022-01-27T10:37:03.121524Z",
     "shell.execute_reply": "2022-01-27T10:37:03.120879Z",
     "shell.execute_reply.started": "2022-01-27T10:13:48.405623Z"
    },
    "executionInfo": {
     "elapsed": 628305,
     "status": "ok",
     "timestamp": 1602075636667,
     "user": {
      "displayName": "Pianalytix Vrec",
      "photoUrl": "",
      "userId": "08286299111597749388"
     },
     "user_tz": -330
    },
    "id": "0huQV_me1dHt",
    "outputId": "57a6654a-278d-4d4e-a414-cae1d283301d",
    "papermill": {
     "duration": 367.562108,
     "end_time": "2022-01-27T10:37:03.121670",
     "exception": false,
     "start_time": "2022-01-27T10:30:55.559562",
     "status": "completed"
    },
    "tags": []
   },
   "outputs": [
    {
     "name": "stdout",
     "output_type": "stream",
     "text": [
      "Fitting 5 folds for each of 100 candidates, totalling 500 fits\n"
     ]
    },
    {
     "data": {
      "text/plain": [
       "RandomizedSearchCV(cv=5, estimator=RandomForestClassifier(random_state=42),\n",
       "                   n_iter=100, n_jobs=-1,\n",
       "                   param_distributions={'bootstrap': [True, False],\n",
       "                                        'max_depth': [10, 20, 30, 40, 50, 60,\n",
       "                                                      70, 80, 90, 100, 110,\n",
       "                                                      None],\n",
       "                                        'max_features': ['auto', 'sqrt'],\n",
       "                                        'min_samples_leaf': [1, 2, 4],\n",
       "                                        'min_samples_split': [2, 5, 10],\n",
       "                                        'n_estimators': [200, 400, 600, 800,\n",
       "                                                         1000, 1200, 1400, 1600,\n",
       "                                                         1800, 2000]},\n",
       "                   random_state=42, verbose=2)"
      ]
     },
     "execution_count": 47,
     "metadata": {},
     "output_type": "execute_result"
    }
   ],
   "source": [
    "rfcs.fit(X_train,y_train)"
   ]
  },
  {
   "cell_type": "code",
   "execution_count": 48,
   "id": "2d04264b",
   "metadata": {
    "execution": {
     "iopub.execute_input": "2022-01-27T10:37:03.295353Z",
     "iopub.status.busy": "2022-01-27T10:37:03.294427Z",
     "iopub.status.idle": "2022-01-27T10:37:03.301045Z",
     "shell.execute_reply": "2022-01-27T10:37:03.300593Z",
     "shell.execute_reply.started": "2022-01-27T10:14:03.692264Z"
    },
    "executionInfo": {
     "elapsed": 887,
     "status": "ok",
     "timestamp": 1602075788525,
     "user": {
      "displayName": "Pianalytix Vrec",
      "photoUrl": "",
      "userId": "08286299111597749388"
     },
     "user_tz": -330
    },
    "id": "9ZKMjrBP1dHu",
    "outputId": "7be021c4-4d10-47e0-8385-7b119ea9a88a",
    "papermill": {
     "duration": 0.094875,
     "end_time": "2022-01-27T10:37:03.301188",
     "exception": false,
     "start_time": "2022-01-27T10:37:03.206313",
     "status": "completed"
    },
    "tags": []
   },
   "outputs": [
    {
     "data": {
      "text/plain": [
       "RandomForestClassifier(bootstrap=False, max_depth=60, max_features='sqrt',\n",
       "                       min_samples_split=5, n_estimators=600, random_state=42)"
      ]
     },
     "execution_count": 48,
     "metadata": {},
     "output_type": "execute_result"
    }
   ],
   "source": [
    "rfcs.best_estimator_"
   ]
  },
  {
   "cell_type": "code",
   "execution_count": 49,
   "id": "60647cb2",
   "metadata": {
    "execution": {
     "iopub.execute_input": "2022-01-27T10:37:03.478154Z",
     "iopub.status.busy": "2022-01-27T10:37:03.477191Z",
     "iopub.status.idle": "2022-01-27T10:37:03.550122Z",
     "shell.execute_reply": "2022-01-27T10:37:03.550595Z",
     "shell.execute_reply.started": "2022-01-27T10:14:03.694666Z"
    },
    "executionInfo": {
     "elapsed": 995,
     "status": "ok",
     "timestamp": 1602075794621,
     "user": {
      "displayName": "Pianalytix Vrec",
      "photoUrl": "",
      "userId": "08286299111597749388"
     },
     "user_tz": -330
    },
    "id": "cCk2bC5-J928",
    "outputId": "857ffbbb-3c08-4ba3-dd0b-139ca16aca95",
    "papermill": {
     "duration": 0.164162,
     "end_time": "2022-01-27T10:37:03.550762",
     "exception": false,
     "start_time": "2022-01-27T10:37:03.386600",
     "status": "completed"
    },
    "tags": []
   },
   "outputs": [
    {
     "name": "stdout",
     "output_type": "stream",
     "text": [
      "0.9805194805194806\n"
     ]
    }
   ],
   "source": [
    "y_pred2 = rfcs.predict(X_test)\n",
    "print(accuracy_score(y_test,y_pred2))"
   ]
  },
  {
   "cell_type": "markdown",
   "id": "2749fef0",
   "metadata": {
    "id": "fPBw5QDk1dH1",
    "papermill": {
     "duration": 0.162742,
     "end_time": "2022-01-27T10:37:03.829109",
     "exception": false,
     "start_time": "2022-01-27T10:37:03.666367",
     "status": "completed"
    },
    "tags": []
   },
   "source": [
    "**We achieved accuracy 83% approx with Random Forest Classifier Model. There is no improvement after Hyperparameter Optimization.**"
   ]
  },
  {
   "cell_type": "markdown",
   "id": "1420b38f",
   "metadata": {
    "id": "OSldiIOo1dH1",
    "papermill": {
     "duration": 0.129416,
     "end_time": "2022-01-27T10:37:04.059373",
     "exception": false,
     "start_time": "2022-01-27T10:37:03.929957",
     "status": "completed"
    },
    "tags": []
   },
   "source": [
    "## XGBoost"
   ]
  },
  {
   "cell_type": "code",
   "execution_count": 50,
   "id": "aca89e2f",
   "metadata": {
    "execution": {
     "iopub.execute_input": "2022-01-27T10:37:04.237397Z",
     "iopub.status.busy": "2022-01-27T10:37:04.236834Z",
     "iopub.status.idle": "2022-01-27T10:37:04.698938Z",
     "shell.execute_reply": "2022-01-27T10:37:04.699485Z",
     "shell.execute_reply.started": "2022-01-27T10:14:03.696394Z"
    },
    "executionInfo": {
     "elapsed": 1118,
     "status": "ok",
     "timestamp": 1602075821921,
     "user": {
      "displayName": "Pianalytix Vrec",
      "photoUrl": "",
      "userId": "08286299111597749388"
     },
     "user_tz": -330
    },
    "id": "tQQnvbtZ1dH1",
    "papermill": {
     "duration": 0.55338,
     "end_time": "2022-01-27T10:37:04.699681",
     "exception": false,
     "start_time": "2022-01-27T10:37:04.146301",
     "status": "completed"
    },
    "tags": []
   },
   "outputs": [
    {
     "name": "stdout",
     "output_type": "stream",
     "text": [
      "[12:52:27] WARNING: C:/Users/Administrator/workspace/xgboost-win64_release_1.5.1/src/learner.cc:1115: Starting in XGBoost 1.3.0, the default evaluation metric used with the objective 'binary:logistic' was changed from 'error' to 'logloss'. Explicitly set eval_metric if you'd like to restore the old behavior.\n"
     ]
    },
    {
     "name": "stderr",
     "output_type": "stream",
     "text": [
      "C:\\Users\\rachi\\AppData\\Local\\Programs\\Python\\Python39\\lib\\site-packages\\xgboost\\sklearn.py:1224: UserWarning: The use of label encoder in XGBClassifier is deprecated and will be removed in a future release. To remove this warning, do the following: 1) Pass option use_label_encoder=False when constructing XGBClassifier object; and 2) Encode your labels (y) as integers starting with 0, i.e. 0, 1, 2, ..., [num_class - 1].\n",
      "  warnings.warn(label_encoder_deprecation_msg, UserWarning)\n"
     ]
    }
   ],
   "source": [
    "xgb = XGBClassifier(random_state = 42)\n",
    "xgb.fit(X_train,y_train)\n",
    "y_pred3 = xgb.predict(X_test)"
   ]
  },
  {
   "cell_type": "code",
   "execution_count": 51,
   "id": "5f302976",
   "metadata": {
    "execution": {
     "iopub.execute_input": "2022-01-27T10:37:04.876446Z",
     "iopub.status.busy": "2022-01-27T10:37:04.875860Z",
     "iopub.status.idle": "2022-01-27T10:37:04.879685Z",
     "shell.execute_reply": "2022-01-27T10:37:04.880345Z",
     "shell.execute_reply.started": "2022-01-27T10:14:03.69817Z"
    },
    "executionInfo": {
     "elapsed": 945,
     "status": "ok",
     "timestamp": 1602075824871,
     "user": {
      "displayName": "Pianalytix Vrec",
      "photoUrl": "",
      "userId": "08286299111597749388"
     },
     "user_tz": -330
    },
    "id": "qcYVpSFB1dH2",
    "outputId": "5720c756-d527-41dc-8746-70ac7c4beeac",
    "papermill": {
     "duration": 0.094888,
     "end_time": "2022-01-27T10:37:04.880573",
     "exception": false,
     "start_time": "2022-01-27T10:37:04.785685",
     "status": "completed"
    },
    "tags": []
   },
   "outputs": [
    {
     "name": "stdout",
     "output_type": "stream",
     "text": [
      "0.9805194805194806\n"
     ]
    }
   ],
   "source": [
    "print(accuracy_score(y_test,y_pred3))"
   ]
  },
  {
   "cell_type": "markdown",
   "id": "ba7f482a",
   "metadata": {
    "id": "dIuPpEIZ1dH4",
    "papermill": {
     "duration": 0.115424,
     "end_time": "2022-01-27T10:37:05.085712",
     "exception": false,
     "start_time": "2022-01-27T10:37:04.970288",
     "status": "completed"
    },
    "tags": []
   },
   "source": [
    "## CatBoost"
   ]
  },
  {
   "cell_type": "code",
   "execution_count": 52,
   "id": "c79a4992",
   "metadata": {
    "execution": {
     "iopub.execute_input": "2022-01-27T10:37:05.267126Z",
     "iopub.status.busy": "2022-01-27T10:37:05.266211Z",
     "iopub.status.idle": "2022-01-27T10:37:05.268419Z",
     "shell.execute_reply": "2022-01-27T10:37:05.268860Z",
     "shell.execute_reply.started": "2022-01-27T10:14:03.699279Z"
    },
    "executionInfo": {
     "elapsed": 899,
     "status": "ok",
     "timestamp": 1602075833727,
     "user": {
      "displayName": "Pianalytix Vrec",
      "photoUrl": "",
      "userId": "08286299111597749388"
     },
     "user_tz": -330
    },
    "id": "eAXELmj51dH4",
    "papermill": {
     "duration": 0.097083,
     "end_time": "2022-01-27T10:37:05.269016",
     "exception": false,
     "start_time": "2022-01-27T10:37:05.171933",
     "status": "completed"
    },
    "tags": []
   },
   "outputs": [],
   "source": [
    "model4 = CatBoostClassifier(random_state=42)"
   ]
  },
  {
   "cell_type": "code",
   "execution_count": 53,
   "id": "2f20e943",
   "metadata": {
    "execution": {
     "iopub.execute_input": "2022-01-27T10:37:05.451714Z",
     "iopub.status.busy": "2022-01-27T10:37:05.451103Z",
     "iopub.status.idle": "2022-01-27T10:37:06.990861Z",
     "shell.execute_reply": "2022-01-27T10:37:06.990294Z",
     "shell.execute_reply.started": "2022-01-27T10:14:03.701427Z"
    },
    "executionInfo": {
     "elapsed": 2883,
     "status": "ok",
     "timestamp": 1602075838581,
     "user": {
      "displayName": "Pianalytix Vrec",
      "photoUrl": "",
      "userId": "08286299111597749388"
     },
     "user_tz": -330
    },
    "id": "PxSuyNLU1dH7",
    "outputId": "aca23dd6-229c-4796-c582-11043634264b",
    "papermill": {
     "duration": 1.635449,
     "end_time": "2022-01-27T10:37:06.991011",
     "exception": false,
     "start_time": "2022-01-27T10:37:05.355562",
     "status": "completed"
    },
    "tags": []
   },
   "outputs": [
    {
     "name": "stdout",
     "output_type": "stream",
     "text": [
      "Learning rate set to 0.008938\n",
      "0:\tlearn: 0.6830783\ttotal: 173ms\tremaining: 2m 52s\n",
      "1:\tlearn: 0.6747900\ttotal: 175ms\tremaining: 1m 27s\n",
      "2:\tlearn: 0.6669779\ttotal: 178ms\tremaining: 59s\n",
      "3:\tlearn: 0.6574535\ttotal: 181ms\tremaining: 45.1s\n",
      "4:\tlearn: 0.6487004\ttotal: 230ms\tremaining: 45.8s\n",
      "5:\tlearn: 0.6408954\ttotal: 276ms\tremaining: 45.7s\n",
      "6:\tlearn: 0.6323640\ttotal: 278ms\tremaining: 39.4s\n",
      "7:\tlearn: 0.6251490\ttotal: 289ms\tremaining: 35.9s\n",
      "8:\tlearn: 0.6188970\ttotal: 292ms\tremaining: 32.2s\n",
      "9:\tlearn: 0.6114276\ttotal: 304ms\tremaining: 30.1s\n",
      "10:\tlearn: 0.6046167\ttotal: 319ms\tremaining: 28.7s\n",
      "11:\tlearn: 0.5967804\ttotal: 333ms\tremaining: 27.4s\n",
      "12:\tlearn: 0.5898082\ttotal: 334ms\tremaining: 25.4s\n",
      "13:\tlearn: 0.5830019\ttotal: 349ms\tremaining: 24.6s\n",
      "14:\tlearn: 0.5763722\ttotal: 364ms\tremaining: 23.9s\n",
      "15:\tlearn: 0.5693971\ttotal: 366ms\tremaining: 22.5s\n",
      "16:\tlearn: 0.5625686\ttotal: 368ms\tremaining: 21.3s\n",
      "17:\tlearn: 0.5549160\ttotal: 378ms\tremaining: 20.6s\n",
      "18:\tlearn: 0.5486331\ttotal: 380ms\tremaining: 19.6s\n",
      "19:\tlearn: 0.5421060\ttotal: 383ms\tremaining: 18.8s\n",
      "20:\tlearn: 0.5354416\ttotal: 386ms\tremaining: 18s\n",
      "21:\tlearn: 0.5294443\ttotal: 411ms\tremaining: 18.3s\n",
      "22:\tlearn: 0.5236348\ttotal: 413ms\tremaining: 17.6s\n",
      "23:\tlearn: 0.5184965\ttotal: 419ms\tremaining: 17s\n",
      "24:\tlearn: 0.5135338\ttotal: 424ms\tremaining: 16.5s\n",
      "25:\tlearn: 0.5084815\ttotal: 427ms\tremaining: 16s\n",
      "26:\tlearn: 0.5042788\ttotal: 459ms\tremaining: 16.5s\n",
      "27:\tlearn: 0.4994206\ttotal: 465ms\tremaining: 16.1s\n",
      "28:\tlearn: 0.4949002\ttotal: 470ms\tremaining: 15.8s\n",
      "29:\tlearn: 0.4899618\ttotal: 482ms\tremaining: 15.6s\n",
      "30:\tlearn: 0.4852257\ttotal: 487ms\tremaining: 15.2s\n",
      "31:\tlearn: 0.4802027\ttotal: 511ms\tremaining: 15.4s\n",
      "32:\tlearn: 0.4756990\ttotal: 514ms\tremaining: 15.1s\n",
      "33:\tlearn: 0.4707057\ttotal: 526ms\tremaining: 14.9s\n",
      "34:\tlearn: 0.4669475\ttotal: 531ms\tremaining: 14.6s\n",
      "35:\tlearn: 0.4619232\ttotal: 539ms\tremaining: 14.4s\n",
      "36:\tlearn: 0.4580700\ttotal: 546ms\tremaining: 14.2s\n",
      "37:\tlearn: 0.4540695\ttotal: 553ms\tremaining: 14s\n",
      "38:\tlearn: 0.4506093\ttotal: 568ms\tremaining: 14s\n",
      "39:\tlearn: 0.4465635\ttotal: 575ms\tremaining: 13.8s\n",
      "40:\tlearn: 0.4416728\ttotal: 581ms\tremaining: 13.6s\n",
      "41:\tlearn: 0.4380765\ttotal: 591ms\tremaining: 13.5s\n",
      "42:\tlearn: 0.4336001\ttotal: 595ms\tremaining: 13.2s\n",
      "43:\tlearn: 0.4293479\ttotal: 599ms\tremaining: 13s\n",
      "44:\tlearn: 0.4249623\ttotal: 602ms\tremaining: 12.8s\n",
      "45:\tlearn: 0.4214348\ttotal: 606ms\tremaining: 12.6s\n",
      "46:\tlearn: 0.4175722\ttotal: 609ms\tremaining: 12.4s\n",
      "47:\tlearn: 0.4144807\ttotal: 616ms\tremaining: 12.2s\n",
      "48:\tlearn: 0.4113003\ttotal: 620ms\tremaining: 12s\n",
      "49:\tlearn: 0.4072209\ttotal: 623ms\tremaining: 11.8s\n",
      "50:\tlearn: 0.4046445\ttotal: 628ms\tremaining: 11.7s\n",
      "51:\tlearn: 0.4020363\ttotal: 632ms\tremaining: 11.5s\n",
      "52:\tlearn: 0.3984941\ttotal: 635ms\tremaining: 11.4s\n",
      "53:\tlearn: 0.3955071\ttotal: 646ms\tremaining: 11.3s\n",
      "54:\tlearn: 0.3918783\ttotal: 649ms\tremaining: 11.2s\n",
      "55:\tlearn: 0.3886411\ttotal: 652ms\tremaining: 11s\n",
      "56:\tlearn: 0.3854220\ttotal: 656ms\tremaining: 10.9s\n",
      "57:\tlearn: 0.3822960\ttotal: 660ms\tremaining: 10.7s\n",
      "58:\tlearn: 0.3789729\ttotal: 665ms\tremaining: 10.6s\n",
      "59:\tlearn: 0.3756726\ttotal: 669ms\tremaining: 10.5s\n",
      "60:\tlearn: 0.3724881\ttotal: 673ms\tremaining: 10.4s\n",
      "61:\tlearn: 0.3697339\ttotal: 678ms\tremaining: 10.3s\n",
      "62:\tlearn: 0.3666526\ttotal: 683ms\tremaining: 10.2s\n",
      "63:\tlearn: 0.3633833\ttotal: 687ms\tremaining: 10s\n",
      "64:\tlearn: 0.3602313\ttotal: 697ms\tremaining: 10s\n",
      "65:\tlearn: 0.3573174\ttotal: 700ms\tremaining: 9.9s\n",
      "66:\tlearn: 0.3544681\ttotal: 702ms\tremaining: 9.77s\n",
      "67:\tlearn: 0.3522834\ttotal: 704ms\tremaining: 9.65s\n",
      "68:\tlearn: 0.3506016\ttotal: 709ms\tremaining: 9.56s\n",
      "69:\tlearn: 0.3479069\ttotal: 714ms\tremaining: 9.48s\n",
      "70:\tlearn: 0.3449212\ttotal: 721ms\tremaining: 9.44s\n",
      "71:\tlearn: 0.3426600\ttotal: 725ms\tremaining: 9.35s\n",
      "72:\tlearn: 0.3394234\ttotal: 730ms\tremaining: 9.27s\n",
      "73:\tlearn: 0.3367120\ttotal: 734ms\tremaining: 9.18s\n",
      "74:\tlearn: 0.3340029\ttotal: 738ms\tremaining: 9.1s\n",
      "75:\tlearn: 0.3320280\ttotal: 742ms\tremaining: 9.02s\n",
      "76:\tlearn: 0.3298815\ttotal: 749ms\tremaining: 8.98s\n",
      "77:\tlearn: 0.3274475\ttotal: 753ms\tremaining: 8.9s\n",
      "78:\tlearn: 0.3245694\ttotal: 756ms\tremaining: 8.82s\n",
      "79:\tlearn: 0.3225380\ttotal: 760ms\tremaining: 8.74s\n",
      "80:\tlearn: 0.3199305\ttotal: 767ms\tremaining: 8.71s\n",
      "81:\tlearn: 0.3177874\ttotal: 771ms\tremaining: 8.63s\n",
      "82:\tlearn: 0.3153117\ttotal: 775ms\tremaining: 8.56s\n",
      "83:\tlearn: 0.3136570\ttotal: 777ms\tremaining: 8.47s\n",
      "84:\tlearn: 0.3119687\ttotal: 781ms\tremaining: 8.4s\n",
      "85:\tlearn: 0.3100649\ttotal: 791ms\tremaining: 8.4s\n",
      "86:\tlearn: 0.3083096\ttotal: 797ms\tremaining: 8.37s\n",
      "87:\tlearn: 0.3062572\ttotal: 807ms\tremaining: 8.36s\n",
      "88:\tlearn: 0.3043132\ttotal: 815ms\tremaining: 8.34s\n",
      "89:\tlearn: 0.3024588\ttotal: 821ms\tremaining: 8.3s\n",
      "90:\tlearn: 0.3011867\ttotal: 827ms\tremaining: 8.26s\n",
      "91:\tlearn: 0.3000453\ttotal: 832ms\tremaining: 8.21s\n",
      "92:\tlearn: 0.2984122\ttotal: 834ms\tremaining: 8.13s\n",
      "93:\tlearn: 0.2964238\ttotal: 839ms\tremaining: 8.08s\n",
      "94:\tlearn: 0.2947373\ttotal: 842ms\tremaining: 8.02s\n",
      "95:\tlearn: 0.2927215\ttotal: 845ms\tremaining: 7.96s\n",
      "96:\tlearn: 0.2902743\ttotal: 852ms\tremaining: 7.93s\n",
      "97:\tlearn: 0.2891810\ttotal: 855ms\tremaining: 7.87s\n",
      "98:\tlearn: 0.2868542\ttotal: 874ms\tremaining: 7.96s\n",
      "99:\tlearn: 0.2853060\ttotal: 888ms\tremaining: 7.99s\n",
      "100:\tlearn: 0.2832342\ttotal: 890ms\tremaining: 7.92s\n",
      "101:\tlearn: 0.2818922\ttotal: 904ms\tremaining: 7.96s\n",
      "102:\tlearn: 0.2802486\ttotal: 907ms\tremaining: 7.89s\n",
      "103:\tlearn: 0.2782565\ttotal: 919ms\tremaining: 7.91s\n",
      "104:\tlearn: 0.2766107\ttotal: 922ms\tremaining: 7.86s\n",
      "105:\tlearn: 0.2753437\ttotal: 924ms\tremaining: 7.79s\n",
      "106:\tlearn: 0.2737083\ttotal: 928ms\tremaining: 7.75s\n",
      "107:\tlearn: 0.2723876\ttotal: 934ms\tremaining: 7.71s\n",
      "108:\tlearn: 0.2710198\ttotal: 938ms\tremaining: 7.67s\n",
      "109:\tlearn: 0.2699074\ttotal: 948ms\tremaining: 7.67s\n",
      "110:\tlearn: 0.2695816\ttotal: 949ms\tremaining: 7.6s\n",
      "111:\tlearn: 0.2678394\ttotal: 951ms\tremaining: 7.54s\n",
      "112:\tlearn: 0.2665010\ttotal: 953ms\tremaining: 7.48s\n",
      "113:\tlearn: 0.2654375\ttotal: 957ms\tremaining: 7.43s\n",
      "114:\tlearn: 0.2637751\ttotal: 960ms\tremaining: 7.39s\n",
      "115:\tlearn: 0.2622760\ttotal: 975ms\tremaining: 7.43s\n",
      "116:\tlearn: 0.2605527\ttotal: 978ms\tremaining: 7.38s\n",
      "117:\tlearn: 0.2597983\ttotal: 980ms\tremaining: 7.32s\n",
      "118:\tlearn: 0.2585165\ttotal: 982ms\tremaining: 7.27s\n",
      "119:\tlearn: 0.2570913\ttotal: 984ms\tremaining: 7.22s\n",
      "120:\tlearn: 0.2561403\ttotal: 1s\tremaining: 7.3s\n",
      "121:\tlearn: 0.2544658\ttotal: 1.01s\tremaining: 7.25s\n",
      "122:\tlearn: 0.2530222\ttotal: 1.01s\tremaining: 7.21s\n",
      "123:\tlearn: 0.2521516\ttotal: 1.01s\tremaining: 7.15s\n",
      "124:\tlearn: 0.2507724\ttotal: 1.01s\tremaining: 7.1s\n",
      "125:\tlearn: 0.2493192\ttotal: 1.02s\tremaining: 7.07s\n",
      "126:\tlearn: 0.2477948\ttotal: 1.02s\tremaining: 7.03s\n",
      "127:\tlearn: 0.2463716\ttotal: 1.02s\tremaining: 6.98s\n",
      "128:\tlearn: 0.2448574\ttotal: 1.03s\tremaining: 6.97s\n",
      "129:\tlearn: 0.2435240\ttotal: 1.03s\tremaining: 6.93s\n",
      "130:\tlearn: 0.2425224\ttotal: 1.04s\tremaining: 6.89s\n",
      "131:\tlearn: 0.2412279\ttotal: 1.04s\tremaining: 6.87s\n",
      "132:\tlearn: 0.2399246\ttotal: 1.05s\tremaining: 6.84s\n",
      "133:\tlearn: 0.2388174\ttotal: 1.05s\tremaining: 6.81s\n",
      "134:\tlearn: 0.2379431\ttotal: 1.07s\tremaining: 6.85s\n",
      "135:\tlearn: 0.2368410\ttotal: 1.07s\tremaining: 6.81s\n",
      "136:\tlearn: 0.2356027\ttotal: 1.09s\tremaining: 6.85s\n",
      "137:\tlearn: 0.2348908\ttotal: 1.09s\tremaining: 6.83s\n",
      "138:\tlearn: 0.2338338\ttotal: 1.1s\tremaining: 6.81s\n",
      "139:\tlearn: 0.2327308\ttotal: 1.1s\tremaining: 6.78s\n",
      "140:\tlearn: 0.2320340\ttotal: 1.11s\tremaining: 6.79s\n",
      "141:\tlearn: 0.2310003\ttotal: 1.12s\tremaining: 6.76s\n",
      "142:\tlearn: 0.2299545\ttotal: 1.12s\tremaining: 6.74s\n",
      "143:\tlearn: 0.2290017\ttotal: 1.13s\tremaining: 6.7s\n",
      "144:\tlearn: 0.2281205\ttotal: 1.13s\tremaining: 6.66s\n",
      "145:\tlearn: 0.2270082\ttotal: 1.13s\tremaining: 6.63s\n",
      "146:\tlearn: 0.2256904\ttotal: 1.14s\tremaining: 6.6s\n",
      "147:\tlearn: 0.2246543\ttotal: 1.14s\tremaining: 6.57s\n",
      "148:\tlearn: 0.2238853\ttotal: 1.15s\tremaining: 6.55s\n",
      "149:\tlearn: 0.2228348\ttotal: 1.15s\tremaining: 6.51s\n",
      "150:\tlearn: 0.2220422\ttotal: 1.17s\tremaining: 6.56s\n",
      "151:\tlearn: 0.2213011\ttotal: 1.17s\tremaining: 6.54s\n",
      "152:\tlearn: 0.2203012\ttotal: 1.18s\tremaining: 6.51s\n",
      "153:\tlearn: 0.2192811\ttotal: 1.18s\tremaining: 6.48s\n",
      "154:\tlearn: 0.2184125\ttotal: 1.18s\tremaining: 6.44s\n",
      "155:\tlearn: 0.2177944\ttotal: 1.18s\tremaining: 6.4s\n",
      "156:\tlearn: 0.2166681\ttotal: 1.19s\tremaining: 6.37s\n",
      "157:\tlearn: 0.2160995\ttotal: 1.19s\tremaining: 6.33s\n",
      "158:\tlearn: 0.2152645\ttotal: 1.19s\tremaining: 6.3s\n",
      "159:\tlearn: 0.2144941\ttotal: 1.21s\tremaining: 6.34s\n",
      "160:\tlearn: 0.2135215\ttotal: 1.21s\tremaining: 6.31s\n",
      "161:\tlearn: 0.2126132\ttotal: 1.21s\tremaining: 6.27s\n",
      "162:\tlearn: 0.2114418\ttotal: 1.22s\tremaining: 6.24s\n",
      "163:\tlearn: 0.2107324\ttotal: 1.22s\tremaining: 6.22s\n",
      "164:\tlearn: 0.2098950\ttotal: 1.22s\tremaining: 6.19s\n",
      "165:\tlearn: 0.2091941\ttotal: 1.23s\tremaining: 6.16s\n",
      "166:\tlearn: 0.2087636\ttotal: 1.23s\tremaining: 6.14s\n",
      "167:\tlearn: 0.2079327\ttotal: 1.24s\tremaining: 6.12s\n",
      "168:\tlearn: 0.2070313\ttotal: 1.24s\tremaining: 6.08s\n",
      "169:\tlearn: 0.2063806\ttotal: 1.24s\tremaining: 6.06s\n",
      "170:\tlearn: 0.2051600\ttotal: 1.25s\tremaining: 6.04s\n",
      "171:\tlearn: 0.2042284\ttotal: 1.25s\tremaining: 6.01s\n",
      "172:\tlearn: 0.2035608\ttotal: 1.26s\tremaining: 6.03s\n",
      "173:\tlearn: 0.2025931\ttotal: 1.26s\tremaining: 6.01s\n",
      "174:\tlearn: 0.2016401\ttotal: 1.29s\tremaining: 6.07s\n",
      "175:\tlearn: 0.2005673\ttotal: 1.3s\tremaining: 6.08s\n",
      "176:\tlearn: 0.1995341\ttotal: 1.31s\tremaining: 6.09s\n",
      "177:\tlearn: 0.1989057\ttotal: 1.32s\tremaining: 6.09s\n",
      "178:\tlearn: 0.1982019\ttotal: 1.33s\tremaining: 6.09s\n",
      "179:\tlearn: 0.1973530\ttotal: 1.33s\tremaining: 6.08s\n",
      "180:\tlearn: 0.1971169\ttotal: 1.34s\tremaining: 6.05s\n",
      "181:\tlearn: 0.1965265\ttotal: 1.35s\tremaining: 6.06s\n",
      "182:\tlearn: 0.1958211\ttotal: 1.35s\tremaining: 6.03s\n",
      "183:\tlearn: 0.1953800\ttotal: 1.36s\tremaining: 6.02s\n",
      "184:\tlearn: 0.1946557\ttotal: 1.36s\tremaining: 6s\n",
      "185:\tlearn: 0.1935515\ttotal: 1.36s\tremaining: 5.98s\n",
      "186:\tlearn: 0.1927342\ttotal: 1.37s\tremaining: 5.96s\n",
      "187:\tlearn: 0.1919946\ttotal: 1.37s\tremaining: 5.93s\n",
      "188:\tlearn: 0.1914563\ttotal: 1.38s\tremaining: 5.91s\n",
      "189:\tlearn: 0.1907114\ttotal: 1.38s\tremaining: 5.89s\n",
      "190:\tlearn: 0.1899638\ttotal: 1.39s\tremaining: 5.87s\n",
      "191:\tlearn: 0.1895518\ttotal: 1.39s\tremaining: 5.85s\n",
      "192:\tlearn: 0.1884266\ttotal: 1.4s\tremaining: 5.83s\n",
      "193:\tlearn: 0.1877772\ttotal: 1.4s\tremaining: 5.81s\n",
      "194:\tlearn: 0.1871172\ttotal: 1.4s\tremaining: 5.8s\n",
      "195:\tlearn: 0.1861812\ttotal: 1.41s\tremaining: 5.77s\n",
      "196:\tlearn: 0.1853377\ttotal: 1.41s\tremaining: 5.76s\n",
      "197:\tlearn: 0.1844336\ttotal: 1.42s\tremaining: 5.75s\n",
      "198:\tlearn: 0.1838570\ttotal: 1.43s\tremaining: 5.74s\n",
      "199:\tlearn: 0.1832671\ttotal: 1.45s\tremaining: 5.79s\n",
      "200:\tlearn: 0.1828772\ttotal: 1.45s\tremaining: 5.77s\n",
      "201:\tlearn: 0.1821755\ttotal: 1.46s\tremaining: 5.75s\n",
      "202:\tlearn: 0.1815081\ttotal: 1.46s\tremaining: 5.73s\n",
      "203:\tlearn: 0.1813003\ttotal: 1.46s\tremaining: 5.7s\n",
      "204:\tlearn: 0.1807229\ttotal: 1.46s\tremaining: 5.68s\n",
      "205:\tlearn: 0.1800824\ttotal: 1.47s\tremaining: 5.66s\n",
      "206:\tlearn: 0.1794480\ttotal: 1.47s\tremaining: 5.64s\n",
      "207:\tlearn: 0.1790069\ttotal: 1.48s\tremaining: 5.62s\n",
      "208:\tlearn: 0.1784046\ttotal: 1.48s\tremaining: 5.6s\n",
      "209:\tlearn: 0.1779741\ttotal: 1.49s\tremaining: 5.59s\n",
      "210:\tlearn: 0.1776506\ttotal: 1.49s\tremaining: 5.57s\n",
      "211:\tlearn: 0.1770379\ttotal: 1.5s\tremaining: 5.56s\n",
      "212:\tlearn: 0.1763646\ttotal: 1.5s\tremaining: 5.55s\n",
      "213:\tlearn: 0.1759213\ttotal: 1.51s\tremaining: 5.54s\n",
      "214:\tlearn: 0.1751089\ttotal: 1.51s\tremaining: 5.52s\n",
      "215:\tlearn: 0.1741862\ttotal: 1.51s\tremaining: 5.5s\n",
      "216:\tlearn: 0.1736348\ttotal: 1.52s\tremaining: 5.47s\n",
      "217:\tlearn: 0.1729107\ttotal: 1.52s\tremaining: 5.47s\n",
      "218:\tlearn: 0.1724294\ttotal: 1.53s\tremaining: 5.46s\n",
      "219:\tlearn: 0.1720329\ttotal: 1.53s\tremaining: 5.44s\n",
      "220:\tlearn: 0.1714368\ttotal: 1.54s\tremaining: 5.42s\n",
      "221:\tlearn: 0.1708209\ttotal: 1.54s\tremaining: 5.4s\n",
      "222:\tlearn: 0.1704713\ttotal: 1.55s\tremaining: 5.39s\n",
      "223:\tlearn: 0.1699782\ttotal: 1.56s\tremaining: 5.39s\n",
      "224:\tlearn: 0.1694287\ttotal: 1.56s\tremaining: 5.37s\n",
      "225:\tlearn: 0.1687127\ttotal: 1.56s\tremaining: 5.35s\n",
      "226:\tlearn: 0.1680245\ttotal: 1.57s\tremaining: 5.34s\n",
      "227:\tlearn: 0.1674640\ttotal: 1.57s\tremaining: 5.33s\n",
      "228:\tlearn: 0.1667464\ttotal: 1.58s\tremaining: 5.31s\n",
      "229:\tlearn: 0.1662098\ttotal: 1.58s\tremaining: 5.3s\n",
      "230:\tlearn: 0.1655075\ttotal: 1.59s\tremaining: 5.28s\n",
      "231:\tlearn: 0.1649916\ttotal: 1.59s\tremaining: 5.27s\n",
      "232:\tlearn: 0.1646175\ttotal: 1.6s\tremaining: 5.25s\n",
      "233:\tlearn: 0.1640019\ttotal: 1.6s\tremaining: 5.24s\n",
      "234:\tlearn: 0.1635480\ttotal: 1.62s\tremaining: 5.27s\n",
      "235:\tlearn: 0.1631823\ttotal: 1.62s\tremaining: 5.25s\n",
      "236:\tlearn: 0.1628351\ttotal: 1.63s\tremaining: 5.24s\n",
      "237:\tlearn: 0.1624126\ttotal: 1.63s\tremaining: 5.22s\n",
      "238:\tlearn: 0.1618020\ttotal: 1.64s\tremaining: 5.22s\n",
      "239:\tlearn: 0.1613605\ttotal: 1.64s\tremaining: 5.21s\n",
      "240:\tlearn: 0.1608744\ttotal: 1.65s\tremaining: 5.19s\n",
      "241:\tlearn: 0.1603674\ttotal: 1.65s\tremaining: 5.18s\n",
      "242:\tlearn: 0.1598883\ttotal: 1.66s\tremaining: 5.17s\n",
      "243:\tlearn: 0.1595329\ttotal: 1.66s\tremaining: 5.15s\n",
      "244:\tlearn: 0.1592088\ttotal: 1.68s\tremaining: 5.16s\n",
      "245:\tlearn: 0.1586843\ttotal: 1.68s\tremaining: 5.15s\n",
      "246:\tlearn: 0.1581621\ttotal: 1.68s\tremaining: 5.13s\n",
      "247:\tlearn: 0.1575260\ttotal: 1.69s\tremaining: 5.12s\n",
      "248:\tlearn: 0.1571037\ttotal: 1.69s\tremaining: 5.11s\n",
      "249:\tlearn: 0.1565415\ttotal: 1.7s\tremaining: 5.09s\n",
      "250:\tlearn: 0.1559697\ttotal: 1.7s\tremaining: 5.08s\n",
      "251:\tlearn: 0.1554845\ttotal: 1.7s\tremaining: 5.06s\n",
      "252:\tlearn: 0.1547849\ttotal: 1.71s\tremaining: 5.04s\n",
      "253:\tlearn: 0.1540095\ttotal: 1.71s\tremaining: 5.03s\n",
      "254:\tlearn: 0.1537325\ttotal: 1.72s\tremaining: 5.02s\n",
      "255:\tlearn: 0.1531411\ttotal: 1.72s\tremaining: 5s\n",
      "256:\tlearn: 0.1525811\ttotal: 1.73s\tremaining: 4.99s\n",
      "257:\tlearn: 0.1522445\ttotal: 1.73s\tremaining: 4.97s\n",
      "258:\tlearn: 0.1520367\ttotal: 1.73s\tremaining: 4.95s\n",
      "259:\tlearn: 0.1516112\ttotal: 1.75s\tremaining: 4.98s\n",
      "260:\tlearn: 0.1512394\ttotal: 1.75s\tremaining: 4.96s\n",
      "261:\tlearn: 0.1507090\ttotal: 1.76s\tremaining: 4.95s\n",
      "262:\tlearn: 0.1502604\ttotal: 1.77s\tremaining: 4.95s\n",
      "263:\tlearn: 0.1498477\ttotal: 1.77s\tremaining: 4.94s\n",
      "264:\tlearn: 0.1494566\ttotal: 1.77s\tremaining: 4.92s\n",
      "265:\tlearn: 0.1491146\ttotal: 1.78s\tremaining: 4.91s\n",
      "266:\tlearn: 0.1486813\ttotal: 1.78s\tremaining: 4.89s\n",
      "267:\tlearn: 0.1483442\ttotal: 1.78s\tremaining: 4.87s\n",
      "268:\tlearn: 0.1478499\ttotal: 1.79s\tremaining: 4.86s\n",
      "269:\tlearn: 0.1472660\ttotal: 1.79s\tremaining: 4.84s\n",
      "270:\tlearn: 0.1469262\ttotal: 1.79s\tremaining: 4.83s\n",
      "271:\tlearn: 0.1463798\ttotal: 1.8s\tremaining: 4.81s\n",
      "272:\tlearn: 0.1460226\ttotal: 1.8s\tremaining: 4.8s\n",
      "273:\tlearn: 0.1455771\ttotal: 1.81s\tremaining: 4.79s\n",
      "274:\tlearn: 0.1452068\ttotal: 1.81s\tremaining: 4.77s\n",
      "275:\tlearn: 0.1446513\ttotal: 1.81s\tremaining: 4.75s\n",
      "276:\tlearn: 0.1443768\ttotal: 1.81s\tremaining: 4.74s\n",
      "277:\tlearn: 0.1441533\ttotal: 1.82s\tremaining: 4.72s\n",
      "278:\tlearn: 0.1439997\ttotal: 1.83s\tremaining: 4.72s\n",
      "279:\tlearn: 0.1435667\ttotal: 1.83s\tremaining: 4.71s\n",
      "280:\tlearn: 0.1432949\ttotal: 1.83s\tremaining: 4.69s\n",
      "281:\tlearn: 0.1431041\ttotal: 1.84s\tremaining: 4.68s\n",
      "282:\tlearn: 0.1428010\ttotal: 1.84s\tremaining: 4.66s\n",
      "283:\tlearn: 0.1425788\ttotal: 1.84s\tremaining: 4.65s\n",
      "284:\tlearn: 0.1419791\ttotal: 1.85s\tremaining: 4.63s\n",
      "285:\tlearn: 0.1416577\ttotal: 1.85s\tremaining: 4.63s\n",
      "286:\tlearn: 0.1410315\ttotal: 1.86s\tremaining: 4.62s\n",
      "287:\tlearn: 0.1406605\ttotal: 1.86s\tremaining: 4.61s\n",
      "288:\tlearn: 0.1402736\ttotal: 1.87s\tremaining: 4.59s\n",
      "289:\tlearn: 0.1401295\ttotal: 1.87s\tremaining: 4.58s\n",
      "290:\tlearn: 0.1396317\ttotal: 1.87s\tremaining: 4.57s\n",
      "291:\tlearn: 0.1393809\ttotal: 1.88s\tremaining: 4.55s\n",
      "292:\tlearn: 0.1389667\ttotal: 1.88s\tremaining: 4.54s\n",
      "293:\tlearn: 0.1383326\ttotal: 1.89s\tremaining: 4.53s\n",
      "294:\tlearn: 0.1379749\ttotal: 1.89s\tremaining: 4.52s\n",
      "295:\tlearn: 0.1378138\ttotal: 1.89s\tremaining: 4.5s\n",
      "296:\tlearn: 0.1374804\ttotal: 1.9s\tremaining: 4.49s\n",
      "297:\tlearn: 0.1370491\ttotal: 1.9s\tremaining: 4.48s\n",
      "298:\tlearn: 0.1366938\ttotal: 1.9s\tremaining: 4.46s\n",
      "299:\tlearn: 0.1364699\ttotal: 1.91s\tremaining: 4.45s\n",
      "300:\tlearn: 0.1362813\ttotal: 1.91s\tremaining: 4.44s\n",
      "301:\tlearn: 0.1357662\ttotal: 1.92s\tremaining: 4.43s\n",
      "302:\tlearn: 0.1354097\ttotal: 1.92s\tremaining: 4.42s\n",
      "303:\tlearn: 0.1349704\ttotal: 1.92s\tremaining: 4.4s\n",
      "304:\tlearn: 0.1346901\ttotal: 1.93s\tremaining: 4.4s\n",
      "305:\tlearn: 0.1343911\ttotal: 1.93s\tremaining: 4.38s\n",
      "306:\tlearn: 0.1339647\ttotal: 1.94s\tremaining: 4.38s\n",
      "307:\tlearn: 0.1335767\ttotal: 1.94s\tremaining: 4.37s\n",
      "308:\tlearn: 0.1332345\ttotal: 1.95s\tremaining: 4.36s\n",
      "309:\tlearn: 0.1326116\ttotal: 1.95s\tremaining: 4.34s\n",
      "310:\tlearn: 0.1322596\ttotal: 1.95s\tremaining: 4.33s\n",
      "311:\tlearn: 0.1320968\ttotal: 1.96s\tremaining: 4.32s\n",
      "312:\tlearn: 0.1318462\ttotal: 1.96s\tremaining: 4.3s\n",
      "313:\tlearn: 0.1314148\ttotal: 1.97s\tremaining: 4.3s\n",
      "314:\tlearn: 0.1311042\ttotal: 1.97s\tremaining: 4.29s\n",
      "315:\tlearn: 0.1307517\ttotal: 1.97s\tremaining: 4.27s\n",
      "316:\tlearn: 0.1302846\ttotal: 1.99s\tremaining: 4.29s\n",
      "317:\tlearn: 0.1301403\ttotal: 2s\tremaining: 4.28s\n",
      "318:\tlearn: 0.1298183\ttotal: 2s\tremaining: 4.27s\n",
      "319:\tlearn: 0.1294204\ttotal: 2s\tremaining: 4.26s\n",
      "320:\tlearn: 0.1291267\ttotal: 2.01s\tremaining: 4.25s\n",
      "321:\tlearn: 0.1286227\ttotal: 2.01s\tremaining: 4.24s\n",
      "322:\tlearn: 0.1282464\ttotal: 2.02s\tremaining: 4.23s\n",
      "323:\tlearn: 0.1277658\ttotal: 2.02s\tremaining: 4.22s\n",
      "324:\tlearn: 0.1275058\ttotal: 2.03s\tremaining: 4.21s\n",
      "325:\tlearn: 0.1272502\ttotal: 2.04s\tremaining: 4.21s\n",
      "326:\tlearn: 0.1269687\ttotal: 2.04s\tremaining: 4.2s\n",
      "327:\tlearn: 0.1266431\ttotal: 2.05s\tremaining: 4.19s\n",
      "328:\tlearn: 0.1264253\ttotal: 2.05s\tremaining: 4.19s\n",
      "329:\tlearn: 0.1261779\ttotal: 2.06s\tremaining: 4.17s\n",
      "330:\tlearn: 0.1256760\ttotal: 2.06s\tremaining: 4.16s\n",
      "331:\tlearn: 0.1252715\ttotal: 2.07s\tremaining: 4.17s\n",
      "332:\tlearn: 0.1247600\ttotal: 2.08s\tremaining: 4.17s\n",
      "333:\tlearn: 0.1244724\ttotal: 2.08s\tremaining: 4.16s\n",
      "334:\tlearn: 0.1240976\ttotal: 2.09s\tremaining: 4.14s\n",
      "335:\tlearn: 0.1237607\ttotal: 2.09s\tremaining: 4.13s\n",
      "336:\tlearn: 0.1234594\ttotal: 2.1s\tremaining: 4.14s\n",
      "337:\tlearn: 0.1229962\ttotal: 2.11s\tremaining: 4.13s\n",
      "338:\tlearn: 0.1227457\ttotal: 2.11s\tremaining: 4.12s\n",
      "339:\tlearn: 0.1224705\ttotal: 2.12s\tremaining: 4.11s\n",
      "340:\tlearn: 0.1219655\ttotal: 2.12s\tremaining: 4.09s\n",
      "341:\tlearn: 0.1216202\ttotal: 2.12s\tremaining: 4.08s\n",
      "342:\tlearn: 0.1212062\ttotal: 2.12s\tremaining: 4.07s\n",
      "343:\tlearn: 0.1208674\ttotal: 2.13s\tremaining: 4.06s\n",
      "344:\tlearn: 0.1206754\ttotal: 2.13s\tremaining: 4.04s\n",
      "345:\tlearn: 0.1204471\ttotal: 2.13s\tremaining: 4.04s\n",
      "346:\tlearn: 0.1201945\ttotal: 2.14s\tremaining: 4.02s\n",
      "347:\tlearn: 0.1199340\ttotal: 2.14s\tremaining: 4.01s\n",
      "348:\tlearn: 0.1197254\ttotal: 2.15s\tremaining: 4s\n",
      "349:\tlearn: 0.1194072\ttotal: 2.15s\tremaining: 4s\n",
      "350:\tlearn: 0.1189668\ttotal: 2.15s\tremaining: 3.99s\n",
      "351:\tlearn: 0.1188243\ttotal: 2.16s\tremaining: 3.98s\n",
      "352:\tlearn: 0.1187622\ttotal: 2.17s\tremaining: 3.97s\n",
      "353:\tlearn: 0.1184165\ttotal: 2.17s\tremaining: 3.96s\n",
      "354:\tlearn: 0.1180224\ttotal: 2.17s\tremaining: 3.94s\n",
      "355:\tlearn: 0.1176035\ttotal: 2.17s\tremaining: 3.93s\n",
      "356:\tlearn: 0.1171769\ttotal: 2.17s\tremaining: 3.91s\n",
      "357:\tlearn: 0.1169605\ttotal: 2.18s\tremaining: 3.9s\n",
      "358:\tlearn: 0.1167376\ttotal: 2.18s\tremaining: 3.9s\n",
      "359:\tlearn: 0.1163651\ttotal: 2.19s\tremaining: 3.89s\n",
      "360:\tlearn: 0.1158899\ttotal: 2.19s\tremaining: 3.88s\n",
      "361:\tlearn: 0.1155646\ttotal: 2.19s\tremaining: 3.87s\n",
      "362:\tlearn: 0.1151694\ttotal: 2.21s\tremaining: 3.87s\n",
      "363:\tlearn: 0.1148350\ttotal: 2.21s\tremaining: 3.86s\n",
      "364:\tlearn: 0.1146079\ttotal: 2.21s\tremaining: 3.85s\n",
      "365:\tlearn: 0.1141703\ttotal: 2.21s\tremaining: 3.83s\n",
      "366:\tlearn: 0.1140885\ttotal: 2.22s\tremaining: 3.83s\n",
      "367:\tlearn: 0.1137875\ttotal: 2.22s\tremaining: 3.81s\n",
      "368:\tlearn: 0.1134605\ttotal: 2.22s\tremaining: 3.8s\n",
      "369:\tlearn: 0.1130660\ttotal: 2.22s\tremaining: 3.79s\n",
      "370:\tlearn: 0.1127580\ttotal: 2.23s\tremaining: 3.77s\n",
      "371:\tlearn: 0.1125318\ttotal: 2.23s\tremaining: 3.76s\n",
      "372:\tlearn: 0.1123195\ttotal: 2.23s\tremaining: 3.75s\n",
      "373:\tlearn: 0.1121370\ttotal: 2.23s\tremaining: 3.74s\n",
      "374:\tlearn: 0.1118285\ttotal: 2.24s\tremaining: 3.73s\n",
      "375:\tlearn: 0.1114461\ttotal: 2.24s\tremaining: 3.72s\n",
      "376:\tlearn: 0.1112550\ttotal: 2.25s\tremaining: 3.71s\n",
      "377:\tlearn: 0.1110513\ttotal: 2.25s\tremaining: 3.7s\n",
      "378:\tlearn: 0.1108394\ttotal: 2.25s\tremaining: 3.69s\n",
      "379:\tlearn: 0.1106497\ttotal: 2.25s\tremaining: 3.68s\n",
      "380:\tlearn: 0.1104951\ttotal: 2.26s\tremaining: 3.67s\n",
      "381:\tlearn: 0.1100920\ttotal: 2.26s\tremaining: 3.66s\n",
      "382:\tlearn: 0.1098762\ttotal: 2.28s\tremaining: 3.67s\n",
      "383:\tlearn: 0.1097315\ttotal: 2.28s\tremaining: 3.66s\n",
      "384:\tlearn: 0.1093727\ttotal: 2.28s\tremaining: 3.65s\n",
      "385:\tlearn: 0.1092067\ttotal: 2.29s\tremaining: 3.63s\n",
      "386:\tlearn: 0.1088769\ttotal: 2.29s\tremaining: 3.62s\n",
      "387:\tlearn: 0.1086620\ttotal: 2.29s\tremaining: 3.62s\n",
      "388:\tlearn: 0.1083760\ttotal: 2.3s\tremaining: 3.61s\n",
      "389:\tlearn: 0.1081505\ttotal: 2.3s\tremaining: 3.6s\n",
      "390:\tlearn: 0.1079503\ttotal: 2.31s\tremaining: 3.59s\n",
      "391:\tlearn: 0.1076358\ttotal: 2.31s\tremaining: 3.58s\n",
      "392:\tlearn: 0.1072877\ttotal: 2.31s\tremaining: 3.57s\n",
      "393:\tlearn: 0.1070228\ttotal: 2.32s\tremaining: 3.56s\n",
      "394:\tlearn: 0.1067521\ttotal: 2.32s\tremaining: 3.56s\n",
      "395:\tlearn: 0.1066100\ttotal: 2.32s\tremaining: 3.54s\n",
      "396:\tlearn: 0.1065363\ttotal: 2.33s\tremaining: 3.54s\n",
      "397:\tlearn: 0.1063309\ttotal: 2.33s\tremaining: 3.53s\n",
      "398:\tlearn: 0.1060671\ttotal: 2.33s\tremaining: 3.52s\n",
      "399:\tlearn: 0.1056385\ttotal: 2.34s\tremaining: 3.51s\n",
      "400:\tlearn: 0.1054092\ttotal: 2.35s\tremaining: 3.5s\n",
      "401:\tlearn: 0.1052734\ttotal: 2.35s\tremaining: 3.5s\n",
      "402:\tlearn: 0.1051004\ttotal: 2.35s\tremaining: 3.49s\n",
      "403:\tlearn: 0.1049960\ttotal: 2.37s\tremaining: 3.5s\n",
      "404:\tlearn: 0.1047513\ttotal: 2.37s\tremaining: 3.49s\n",
      "405:\tlearn: 0.1045263\ttotal: 2.38s\tremaining: 3.47s\n",
      "406:\tlearn: 0.1042737\ttotal: 2.38s\tremaining: 3.47s\n",
      "407:\tlearn: 0.1041131\ttotal: 2.38s\tremaining: 3.46s\n",
      "408:\tlearn: 0.1039445\ttotal: 2.39s\tremaining: 3.45s\n",
      "409:\tlearn: 0.1037036\ttotal: 2.39s\tremaining: 3.44s\n",
      "410:\tlearn: 0.1035325\ttotal: 2.4s\tremaining: 3.43s\n",
      "411:\tlearn: 0.1032898\ttotal: 2.4s\tremaining: 3.42s\n",
      "412:\tlearn: 0.1032546\ttotal: 2.4s\tremaining: 3.41s\n",
      "413:\tlearn: 0.1029738\ttotal: 2.4s\tremaining: 3.4s\n",
      "414:\tlearn: 0.1026554\ttotal: 2.4s\tremaining: 3.39s\n",
      "415:\tlearn: 0.1025229\ttotal: 2.42s\tremaining: 3.4s\n",
      "416:\tlearn: 0.1024330\ttotal: 2.42s\tremaining: 3.39s\n",
      "417:\tlearn: 0.1022299\ttotal: 2.43s\tremaining: 3.38s\n",
      "418:\tlearn: 0.1020188\ttotal: 2.43s\tremaining: 3.37s\n",
      "419:\tlearn: 0.1017322\ttotal: 2.43s\tremaining: 3.36s\n",
      "420:\tlearn: 0.1015913\ttotal: 2.43s\tremaining: 3.35s\n",
      "421:\tlearn: 0.1013836\ttotal: 2.45s\tremaining: 3.36s\n",
      "422:\tlearn: 0.1011770\ttotal: 2.47s\tremaining: 3.37s\n",
      "423:\tlearn: 0.1010628\ttotal: 2.47s\tremaining: 3.36s\n",
      "424:\tlearn: 0.1008621\ttotal: 2.48s\tremaining: 3.36s\n",
      "425:\tlearn: 0.1006830\ttotal: 2.49s\tremaining: 3.35s\n",
      "426:\tlearn: 0.1003522\ttotal: 2.49s\tremaining: 3.34s\n",
      "427:\tlearn: 0.1002296\ttotal: 2.49s\tremaining: 3.33s\n",
      "428:\tlearn: 0.1000316\ttotal: 2.52s\tremaining: 3.36s\n",
      "429:\tlearn: 0.0998130\ttotal: 2.52s\tremaining: 3.35s\n",
      "430:\tlearn: 0.0995936\ttotal: 2.53s\tremaining: 3.34s\n",
      "431:\tlearn: 0.0993516\ttotal: 2.53s\tremaining: 3.33s\n",
      "432:\tlearn: 0.0990945\ttotal: 2.54s\tremaining: 3.32s\n",
      "433:\tlearn: 0.0989122\ttotal: 2.54s\tremaining: 3.32s\n",
      "434:\tlearn: 0.0987759\ttotal: 2.55s\tremaining: 3.31s\n",
      "435:\tlearn: 0.0984747\ttotal: 2.55s\tremaining: 3.3s\n",
      "436:\tlearn: 0.0982368\ttotal: 2.55s\tremaining: 3.29s\n",
      "437:\tlearn: 0.0979441\ttotal: 2.56s\tremaining: 3.28s\n",
      "438:\tlearn: 0.0977459\ttotal: 2.56s\tremaining: 3.27s\n",
      "439:\tlearn: 0.0975847\ttotal: 2.56s\tremaining: 3.26s\n",
      "440:\tlearn: 0.0973967\ttotal: 2.58s\tremaining: 3.27s\n",
      "441:\tlearn: 0.0971170\ttotal: 2.58s\tremaining: 3.25s\n",
      "442:\tlearn: 0.0968919\ttotal: 2.58s\tremaining: 3.25s\n",
      "443:\tlearn: 0.0966983\ttotal: 2.59s\tremaining: 3.24s\n",
      "444:\tlearn: 0.0964445\ttotal: 2.59s\tremaining: 3.23s\n",
      "445:\tlearn: 0.0961563\ttotal: 2.6s\tremaining: 3.23s\n",
      "446:\tlearn: 0.0958908\ttotal: 2.61s\tremaining: 3.22s\n",
      "447:\tlearn: 0.0957464\ttotal: 2.61s\tremaining: 3.21s\n",
      "448:\tlearn: 0.0955400\ttotal: 2.61s\tremaining: 3.21s\n",
      "449:\tlearn: 0.0954111\ttotal: 2.62s\tremaining: 3.2s\n",
      "450:\tlearn: 0.0952259\ttotal: 2.62s\tremaining: 3.19s\n",
      "451:\tlearn: 0.0949652\ttotal: 2.62s\tremaining: 3.18s\n",
      "452:\tlearn: 0.0948704\ttotal: 2.63s\tremaining: 3.17s\n",
      "453:\tlearn: 0.0947770\ttotal: 2.63s\tremaining: 3.17s\n",
      "454:\tlearn: 0.0945418\ttotal: 2.63s\tremaining: 3.16s\n",
      "455:\tlearn: 0.0943960\ttotal: 2.64s\tremaining: 3.15s\n",
      "456:\tlearn: 0.0941761\ttotal: 2.64s\tremaining: 3.14s\n",
      "457:\tlearn: 0.0939354\ttotal: 2.65s\tremaining: 3.13s\n",
      "458:\tlearn: 0.0936799\ttotal: 2.65s\tremaining: 3.12s\n",
      "459:\tlearn: 0.0935206\ttotal: 2.65s\tremaining: 3.11s\n",
      "460:\tlearn: 0.0932906\ttotal: 2.66s\tremaining: 3.11s\n",
      "461:\tlearn: 0.0931588\ttotal: 2.66s\tremaining: 3.1s\n",
      "462:\tlearn: 0.0929315\ttotal: 2.66s\tremaining: 3.09s\n",
      "463:\tlearn: 0.0926838\ttotal: 2.67s\tremaining: 3.08s\n",
      "464:\tlearn: 0.0924584\ttotal: 2.67s\tremaining: 3.08s\n",
      "465:\tlearn: 0.0922937\ttotal: 2.68s\tremaining: 3.07s\n",
      "466:\tlearn: 0.0921588\ttotal: 2.68s\tremaining: 3.06s\n",
      "467:\tlearn: 0.0919798\ttotal: 2.69s\tremaining: 3.06s\n",
      "468:\tlearn: 0.0918537\ttotal: 2.69s\tremaining: 3.05s\n",
      "469:\tlearn: 0.0916636\ttotal: 2.7s\tremaining: 3.04s\n",
      "470:\tlearn: 0.0914836\ttotal: 2.7s\tremaining: 3.04s\n",
      "471:\tlearn: 0.0912974\ttotal: 2.72s\tremaining: 3.04s\n",
      "472:\tlearn: 0.0910598\ttotal: 2.72s\tremaining: 3.03s\n",
      "473:\tlearn: 0.0908856\ttotal: 2.72s\tremaining: 3.02s\n",
      "474:\tlearn: 0.0906317\ttotal: 2.73s\tremaining: 3.01s\n",
      "475:\tlearn: 0.0904130\ttotal: 2.73s\tremaining: 3s\n",
      "476:\tlearn: 0.0902600\ttotal: 2.73s\tremaining: 3s\n",
      "477:\tlearn: 0.0900322\ttotal: 2.74s\tremaining: 2.99s\n",
      "478:\tlearn: 0.0899352\ttotal: 2.74s\tremaining: 2.98s\n",
      "479:\tlearn: 0.0896362\ttotal: 2.75s\tremaining: 2.97s\n",
      "480:\tlearn: 0.0894447\ttotal: 2.75s\tremaining: 2.97s\n",
      "481:\tlearn: 0.0893017\ttotal: 2.75s\tremaining: 2.96s\n",
      "482:\tlearn: 0.0891502\ttotal: 2.76s\tremaining: 2.95s\n",
      "483:\tlearn: 0.0889259\ttotal: 2.76s\tremaining: 2.94s\n",
      "484:\tlearn: 0.0887498\ttotal: 2.77s\tremaining: 2.94s\n",
      "485:\tlearn: 0.0886628\ttotal: 2.77s\tremaining: 2.93s\n",
      "486:\tlearn: 0.0885712\ttotal: 2.77s\tremaining: 2.92s\n",
      "487:\tlearn: 0.0884239\ttotal: 2.78s\tremaining: 2.92s\n",
      "488:\tlearn: 0.0880918\ttotal: 2.79s\tremaining: 2.91s\n",
      "489:\tlearn: 0.0879421\ttotal: 2.79s\tremaining: 2.9s\n",
      "490:\tlearn: 0.0877117\ttotal: 2.81s\tremaining: 2.91s\n",
      "491:\tlearn: 0.0874740\ttotal: 2.81s\tremaining: 2.9s\n",
      "492:\tlearn: 0.0872831\ttotal: 2.81s\tremaining: 2.89s\n",
      "493:\tlearn: 0.0872332\ttotal: 2.82s\tremaining: 2.89s\n",
      "494:\tlearn: 0.0869713\ttotal: 2.83s\tremaining: 2.88s\n",
      "495:\tlearn: 0.0868480\ttotal: 2.83s\tremaining: 2.88s\n",
      "496:\tlearn: 0.0866032\ttotal: 2.84s\tremaining: 2.87s\n",
      "497:\tlearn: 0.0864146\ttotal: 2.84s\tremaining: 2.86s\n",
      "498:\tlearn: 0.0860192\ttotal: 2.84s\tremaining: 2.85s\n",
      "499:\tlearn: 0.0859229\ttotal: 2.85s\tremaining: 2.85s\n",
      "500:\tlearn: 0.0857622\ttotal: 2.85s\tremaining: 2.84s\n",
      "501:\tlearn: 0.0854862\ttotal: 2.85s\tremaining: 2.83s\n",
      "502:\tlearn: 0.0852635\ttotal: 2.86s\tremaining: 2.83s\n",
      "503:\tlearn: 0.0851053\ttotal: 2.86s\tremaining: 2.82s\n",
      "504:\tlearn: 0.0849588\ttotal: 2.87s\tremaining: 2.81s\n",
      "505:\tlearn: 0.0848360\ttotal: 2.87s\tremaining: 2.8s\n",
      "506:\tlearn: 0.0846325\ttotal: 2.88s\tremaining: 2.8s\n",
      "507:\tlearn: 0.0844952\ttotal: 2.88s\tremaining: 2.79s\n",
      "508:\tlearn: 0.0843018\ttotal: 2.88s\tremaining: 2.78s\n",
      "509:\tlearn: 0.0841750\ttotal: 2.89s\tremaining: 2.77s\n",
      "510:\tlearn: 0.0840439\ttotal: 2.89s\tremaining: 2.77s\n",
      "511:\tlearn: 0.0838988\ttotal: 2.89s\tremaining: 2.76s\n",
      "512:\tlearn: 0.0837416\ttotal: 2.9s\tremaining: 2.76s\n",
      "513:\tlearn: 0.0835183\ttotal: 2.91s\tremaining: 2.75s\n",
      "514:\tlearn: 0.0832880\ttotal: 2.91s\tremaining: 2.74s\n",
      "515:\tlearn: 0.0830996\ttotal: 2.91s\tremaining: 2.73s\n",
      "516:\tlearn: 0.0829917\ttotal: 2.92s\tremaining: 2.73s\n",
      "517:\tlearn: 0.0829185\ttotal: 2.92s\tremaining: 2.72s\n",
      "518:\tlearn: 0.0827072\ttotal: 2.93s\tremaining: 2.71s\n",
      "519:\tlearn: 0.0825839\ttotal: 2.93s\tremaining: 2.71s\n",
      "520:\tlearn: 0.0822225\ttotal: 2.94s\tremaining: 2.7s\n",
      "521:\tlearn: 0.0820741\ttotal: 2.94s\tremaining: 2.69s\n",
      "522:\tlearn: 0.0819004\ttotal: 2.95s\tremaining: 2.69s\n",
      "523:\tlearn: 0.0817534\ttotal: 2.96s\tremaining: 2.69s\n",
      "524:\tlearn: 0.0815507\ttotal: 2.96s\tremaining: 2.68s\n",
      "525:\tlearn: 0.0812974\ttotal: 2.96s\tremaining: 2.67s\n",
      "526:\tlearn: 0.0811146\ttotal: 2.97s\tremaining: 2.66s\n",
      "527:\tlearn: 0.0808623\ttotal: 2.97s\tremaining: 2.65s\n",
      "528:\tlearn: 0.0806732\ttotal: 2.98s\tremaining: 2.65s\n",
      "529:\tlearn: 0.0805558\ttotal: 2.98s\tremaining: 2.64s\n",
      "530:\tlearn: 0.0803436\ttotal: 2.98s\tremaining: 2.63s\n",
      "531:\tlearn: 0.0801987\ttotal: 2.99s\tremaining: 2.63s\n",
      "532:\tlearn: 0.0800031\ttotal: 2.99s\tremaining: 2.62s\n",
      "533:\tlearn: 0.0798560\ttotal: 3.02s\tremaining: 2.64s\n",
      "534:\tlearn: 0.0797475\ttotal: 3.02s\tremaining: 2.63s\n",
      "535:\tlearn: 0.0795998\ttotal: 3.03s\tremaining: 2.62s\n",
      "536:\tlearn: 0.0794616\ttotal: 3.03s\tremaining: 2.61s\n",
      "537:\tlearn: 0.0793465\ttotal: 3.03s\tremaining: 2.6s\n",
      "538:\tlearn: 0.0792214\ttotal: 3.03s\tremaining: 2.59s\n",
      "539:\tlearn: 0.0790801\ttotal: 3.04s\tremaining: 2.59s\n",
      "540:\tlearn: 0.0788736\ttotal: 3.04s\tremaining: 2.58s\n",
      "541:\tlearn: 0.0787483\ttotal: 3.04s\tremaining: 2.57s\n",
      "542:\tlearn: 0.0786424\ttotal: 3.04s\tremaining: 2.56s\n",
      "543:\tlearn: 0.0784603\ttotal: 3.04s\tremaining: 2.55s\n",
      "544:\tlearn: 0.0782506\ttotal: 3.05s\tremaining: 2.54s\n",
      "545:\tlearn: 0.0781296\ttotal: 3.05s\tremaining: 2.54s\n",
      "546:\tlearn: 0.0779219\ttotal: 3.05s\tremaining: 2.53s\n",
      "547:\tlearn: 0.0778532\ttotal: 3.06s\tremaining: 2.52s\n",
      "548:\tlearn: 0.0776984\ttotal: 3.06s\tremaining: 2.51s\n",
      "549:\tlearn: 0.0774054\ttotal: 3.06s\tremaining: 2.5s\n",
      "550:\tlearn: 0.0772786\ttotal: 3.06s\tremaining: 2.5s\n",
      "551:\tlearn: 0.0769857\ttotal: 3.07s\tremaining: 2.49s\n",
      "552:\tlearn: 0.0768031\ttotal: 3.07s\tremaining: 2.48s\n",
      "553:\tlearn: 0.0766823\ttotal: 3.08s\tremaining: 2.48s\n",
      "554:\tlearn: 0.0764531\ttotal: 3.08s\tremaining: 2.47s\n",
      "555:\tlearn: 0.0762302\ttotal: 3.08s\tremaining: 2.46s\n",
      "556:\tlearn: 0.0761551\ttotal: 3.09s\tremaining: 2.46s\n",
      "557:\tlearn: 0.0760068\ttotal: 3.13s\tremaining: 2.48s\n",
      "558:\tlearn: 0.0758278\ttotal: 3.13s\tremaining: 2.47s\n",
      "559:\tlearn: 0.0756713\ttotal: 3.13s\tremaining: 2.46s\n",
      "560:\tlearn: 0.0754481\ttotal: 3.13s\tremaining: 2.45s\n",
      "561:\tlearn: 0.0752433\ttotal: 3.14s\tremaining: 2.45s\n",
      "562:\tlearn: 0.0751832\ttotal: 3.14s\tremaining: 2.44s\n",
      "563:\tlearn: 0.0749383\ttotal: 3.14s\tremaining: 2.43s\n",
      "564:\tlearn: 0.0747645\ttotal: 3.15s\tremaining: 2.42s\n",
      "565:\tlearn: 0.0746956\ttotal: 3.15s\tremaining: 2.42s\n",
      "566:\tlearn: 0.0744902\ttotal: 3.16s\tremaining: 2.41s\n",
      "567:\tlearn: 0.0743833\ttotal: 3.16s\tremaining: 2.4s\n",
      "568:\tlearn: 0.0741976\ttotal: 3.16s\tremaining: 2.39s\n",
      "569:\tlearn: 0.0740784\ttotal: 3.17s\tremaining: 2.39s\n",
      "570:\tlearn: 0.0739039\ttotal: 3.17s\tremaining: 2.39s\n",
      "571:\tlearn: 0.0737702\ttotal: 3.18s\tremaining: 2.38s\n",
      "572:\tlearn: 0.0736271\ttotal: 3.18s\tremaining: 2.37s\n",
      "573:\tlearn: 0.0735427\ttotal: 3.19s\tremaining: 2.36s\n",
      "574:\tlearn: 0.0734011\ttotal: 3.19s\tremaining: 2.36s\n",
      "575:\tlearn: 0.0732532\ttotal: 3.19s\tremaining: 2.35s\n",
      "576:\tlearn: 0.0731175\ttotal: 3.2s\tremaining: 2.34s\n",
      "577:\tlearn: 0.0728988\ttotal: 3.2s\tremaining: 2.34s\n",
      "578:\tlearn: 0.0727554\ttotal: 3.21s\tremaining: 2.33s\n",
      "579:\tlearn: 0.0726129\ttotal: 3.21s\tremaining: 2.33s\n",
      "580:\tlearn: 0.0725048\ttotal: 3.21s\tremaining: 2.32s\n",
      "581:\tlearn: 0.0724137\ttotal: 3.21s\tremaining: 2.31s\n",
      "582:\tlearn: 0.0722428\ttotal: 3.22s\tremaining: 2.3s\n",
      "583:\tlearn: 0.0720482\ttotal: 3.22s\tremaining: 2.3s\n",
      "584:\tlearn: 0.0719420\ttotal: 3.23s\tremaining: 2.29s\n",
      "585:\tlearn: 0.0716787\ttotal: 3.23s\tremaining: 2.28s\n",
      "586:\tlearn: 0.0715756\ttotal: 3.23s\tremaining: 2.28s\n",
      "587:\tlearn: 0.0714042\ttotal: 3.24s\tremaining: 2.27s\n",
      "588:\tlearn: 0.0712767\ttotal: 3.24s\tremaining: 2.26s\n",
      "589:\tlearn: 0.0711093\ttotal: 3.24s\tremaining: 2.25s\n",
      "590:\tlearn: 0.0710292\ttotal: 3.25s\tremaining: 2.25s\n",
      "591:\tlearn: 0.0707053\ttotal: 3.25s\tremaining: 2.24s\n",
      "592:\tlearn: 0.0705541\ttotal: 3.26s\tremaining: 2.24s\n",
      "593:\tlearn: 0.0704532\ttotal: 3.29s\tremaining: 2.25s\n",
      "594:\tlearn: 0.0702851\ttotal: 3.31s\tremaining: 2.25s\n",
      "595:\tlearn: 0.0702014\ttotal: 3.31s\tremaining: 2.24s\n",
      "596:\tlearn: 0.0701197\ttotal: 3.31s\tremaining: 2.23s\n",
      "597:\tlearn: 0.0699507\ttotal: 3.31s\tremaining: 2.23s\n",
      "598:\tlearn: 0.0697484\ttotal: 3.34s\tremaining: 2.23s\n",
      "599:\tlearn: 0.0696464\ttotal: 3.34s\tremaining: 2.23s\n",
      "600:\tlearn: 0.0694953\ttotal: 3.34s\tremaining: 2.22s\n",
      "601:\tlearn: 0.0694303\ttotal: 3.35s\tremaining: 2.21s\n",
      "602:\tlearn: 0.0693080\ttotal: 3.35s\tremaining: 2.21s\n",
      "603:\tlearn: 0.0691960\ttotal: 3.35s\tremaining: 2.2s\n",
      "604:\tlearn: 0.0690155\ttotal: 3.37s\tremaining: 2.2s\n",
      "605:\tlearn: 0.0688881\ttotal: 3.38s\tremaining: 2.2s\n",
      "606:\tlearn: 0.0688183\ttotal: 3.38s\tremaining: 2.19s\n",
      "607:\tlearn: 0.0687832\ttotal: 3.39s\tremaining: 2.19s\n",
      "608:\tlearn: 0.0686578\ttotal: 3.39s\tremaining: 2.18s\n",
      "609:\tlearn: 0.0685936\ttotal: 3.4s\tremaining: 2.17s\n",
      "610:\tlearn: 0.0684823\ttotal: 3.4s\tremaining: 2.16s\n",
      "611:\tlearn: 0.0683829\ttotal: 3.4s\tremaining: 2.15s\n",
      "612:\tlearn: 0.0683065\ttotal: 3.4s\tremaining: 2.15s\n",
      "613:\tlearn: 0.0682187\ttotal: 3.42s\tremaining: 2.15s\n",
      "614:\tlearn: 0.0680445\ttotal: 3.42s\tremaining: 2.14s\n",
      "615:\tlearn: 0.0679991\ttotal: 3.42s\tremaining: 2.13s\n",
      "616:\tlearn: 0.0679123\ttotal: 3.44s\tremaining: 2.13s\n",
      "617:\tlearn: 0.0678007\ttotal: 3.44s\tremaining: 2.13s\n",
      "618:\tlearn: 0.0676223\ttotal: 3.44s\tremaining: 2.12s\n",
      "619:\tlearn: 0.0675161\ttotal: 3.44s\tremaining: 2.11s\n",
      "620:\tlearn: 0.0673348\ttotal: 3.44s\tremaining: 2.1s\n",
      "621:\tlearn: 0.0671133\ttotal: 3.45s\tremaining: 2.1s\n",
      "622:\tlearn: 0.0669647\ttotal: 3.45s\tremaining: 2.09s\n",
      "623:\tlearn: 0.0669163\ttotal: 3.45s\tremaining: 2.08s\n",
      "624:\tlearn: 0.0667521\ttotal: 3.46s\tremaining: 2.07s\n",
      "625:\tlearn: 0.0666786\ttotal: 3.46s\tremaining: 2.06s\n",
      "626:\tlearn: 0.0666245\ttotal: 3.46s\tremaining: 2.06s\n",
      "627:\tlearn: 0.0665018\ttotal: 3.47s\tremaining: 2.05s\n",
      "628:\tlearn: 0.0662916\ttotal: 3.47s\tremaining: 2.04s\n",
      "629:\tlearn: 0.0661950\ttotal: 3.48s\tremaining: 2.04s\n",
      "630:\tlearn: 0.0660695\ttotal: 3.48s\tremaining: 2.03s\n",
      "631:\tlearn: 0.0658528\ttotal: 3.48s\tremaining: 2.03s\n",
      "632:\tlearn: 0.0657590\ttotal: 3.48s\tremaining: 2.02s\n",
      "633:\tlearn: 0.0657074\ttotal: 3.49s\tremaining: 2.01s\n",
      "634:\tlearn: 0.0655837\ttotal: 3.49s\tremaining: 2s\n",
      "635:\tlearn: 0.0654731\ttotal: 3.49s\tremaining: 2s\n",
      "636:\tlearn: 0.0653162\ttotal: 3.49s\tremaining: 1.99s\n",
      "637:\tlearn: 0.0651489\ttotal: 3.5s\tremaining: 1.98s\n",
      "638:\tlearn: 0.0650853\ttotal: 3.52s\tremaining: 1.99s\n",
      "639:\tlearn: 0.0649370\ttotal: 3.52s\tremaining: 1.98s\n",
      "640:\tlearn: 0.0647738\ttotal: 3.52s\tremaining: 1.97s\n",
      "641:\tlearn: 0.0646772\ttotal: 3.53s\tremaining: 1.97s\n",
      "642:\tlearn: 0.0645941\ttotal: 3.54s\tremaining: 1.97s\n",
      "643:\tlearn: 0.0645239\ttotal: 3.55s\tremaining: 1.96s\n",
      "644:\tlearn: 0.0644012\ttotal: 3.55s\tremaining: 1.95s\n",
      "645:\tlearn: 0.0641783\ttotal: 3.55s\tremaining: 1.95s\n",
      "646:\tlearn: 0.0640940\ttotal: 3.56s\tremaining: 1.94s\n",
      "647:\tlearn: 0.0639532\ttotal: 3.56s\tremaining: 1.93s\n",
      "648:\tlearn: 0.0639159\ttotal: 3.56s\tremaining: 1.93s\n",
      "649:\tlearn: 0.0638061\ttotal: 3.56s\tremaining: 1.92s\n",
      "650:\tlearn: 0.0636178\ttotal: 3.57s\tremaining: 1.91s\n",
      "651:\tlearn: 0.0633950\ttotal: 3.57s\tremaining: 1.9s\n",
      "652:\tlearn: 0.0632538\ttotal: 3.57s\tremaining: 1.9s\n",
      "653:\tlearn: 0.0631084\ttotal: 3.57s\tremaining: 1.89s\n",
      "654:\tlearn: 0.0629699\ttotal: 3.58s\tremaining: 1.88s\n",
      "655:\tlearn: 0.0628282\ttotal: 3.58s\tremaining: 1.88s\n",
      "656:\tlearn: 0.0625983\ttotal: 3.58s\tremaining: 1.87s\n",
      "657:\tlearn: 0.0624304\ttotal: 3.58s\tremaining: 1.86s\n",
      "658:\tlearn: 0.0622797\ttotal: 3.59s\tremaining: 1.86s\n",
      "659:\tlearn: 0.0621234\ttotal: 3.59s\tremaining: 1.85s\n",
      "660:\tlearn: 0.0619131\ttotal: 3.61s\tremaining: 1.85s\n",
      "661:\tlearn: 0.0617624\ttotal: 3.61s\tremaining: 1.84s\n",
      "662:\tlearn: 0.0615978\ttotal: 3.62s\tremaining: 1.84s\n",
      "663:\tlearn: 0.0614566\ttotal: 3.64s\tremaining: 1.84s\n",
      "664:\tlearn: 0.0613052\ttotal: 3.64s\tremaining: 1.83s\n",
      "665:\tlearn: 0.0612154\ttotal: 3.65s\tremaining: 1.83s\n",
      "666:\tlearn: 0.0611182\ttotal: 3.65s\tremaining: 1.82s\n",
      "667:\tlearn: 0.0610130\ttotal: 3.65s\tremaining: 1.81s\n",
      "668:\tlearn: 0.0608215\ttotal: 3.65s\tremaining: 1.81s\n",
      "669:\tlearn: 0.0606768\ttotal: 3.66s\tremaining: 1.8s\n",
      "670:\tlearn: 0.0605677\ttotal: 3.66s\tremaining: 1.79s\n",
      "671:\tlearn: 0.0604659\ttotal: 3.66s\tremaining: 1.79s\n",
      "672:\tlearn: 0.0602679\ttotal: 3.67s\tremaining: 1.78s\n",
      "673:\tlearn: 0.0601415\ttotal: 3.68s\tremaining: 1.78s\n",
      "674:\tlearn: 0.0599318\ttotal: 3.68s\tremaining: 1.77s\n",
      "675:\tlearn: 0.0598271\ttotal: 3.68s\tremaining: 1.76s\n",
      "676:\tlearn: 0.0596949\ttotal: 3.68s\tremaining: 1.76s\n",
      "677:\tlearn: 0.0594865\ttotal: 3.69s\tremaining: 1.75s\n",
      "678:\tlearn: 0.0594089\ttotal: 3.69s\tremaining: 1.75s\n",
      "679:\tlearn: 0.0593399\ttotal: 3.71s\tremaining: 1.74s\n",
      "680:\tlearn: 0.0592222\ttotal: 3.71s\tremaining: 1.74s\n",
      "681:\tlearn: 0.0590896\ttotal: 3.72s\tremaining: 1.73s\n",
      "682:\tlearn: 0.0590074\ttotal: 3.72s\tremaining: 1.73s\n",
      "683:\tlearn: 0.0588528\ttotal: 3.72s\tremaining: 1.72s\n",
      "684:\tlearn: 0.0587340\ttotal: 3.73s\tremaining: 1.71s\n",
      "685:\tlearn: 0.0586399\ttotal: 3.73s\tremaining: 1.71s\n",
      "686:\tlearn: 0.0584949\ttotal: 3.73s\tremaining: 1.7s\n",
      "687:\tlearn: 0.0584190\ttotal: 3.73s\tremaining: 1.69s\n",
      "688:\tlearn: 0.0583186\ttotal: 3.73s\tremaining: 1.69s\n",
      "689:\tlearn: 0.0582680\ttotal: 3.74s\tremaining: 1.68s\n",
      "690:\tlearn: 0.0582612\ttotal: 3.75s\tremaining: 1.68s\n",
      "691:\tlearn: 0.0581961\ttotal: 3.75s\tremaining: 1.67s\n",
      "692:\tlearn: 0.0581050\ttotal: 3.75s\tremaining: 1.66s\n",
      "693:\tlearn: 0.0580416\ttotal: 3.76s\tremaining: 1.66s\n",
      "694:\tlearn: 0.0578690\ttotal: 3.76s\tremaining: 1.65s\n",
      "695:\tlearn: 0.0577392\ttotal: 3.76s\tremaining: 1.64s\n",
      "696:\tlearn: 0.0575946\ttotal: 3.76s\tremaining: 1.64s\n",
      "697:\tlearn: 0.0575665\ttotal: 3.77s\tremaining: 1.63s\n",
      "698:\tlearn: 0.0574782\ttotal: 3.77s\tremaining: 1.62s\n",
      "699:\tlearn: 0.0573922\ttotal: 3.79s\tremaining: 1.62s\n",
      "700:\tlearn: 0.0572602\ttotal: 3.79s\tremaining: 1.62s\n",
      "701:\tlearn: 0.0571461\ttotal: 3.8s\tremaining: 1.61s\n",
      "702:\tlearn: 0.0570906\ttotal: 3.8s\tremaining: 1.6s\n",
      "703:\tlearn: 0.0569877\ttotal: 3.8s\tremaining: 1.6s\n",
      "704:\tlearn: 0.0568784\ttotal: 3.81s\tremaining: 1.59s\n",
      "705:\tlearn: 0.0567856\ttotal: 3.81s\tremaining: 1.59s\n",
      "706:\tlearn: 0.0567112\ttotal: 3.81s\tremaining: 1.58s\n",
      "707:\tlearn: 0.0565891\ttotal: 3.82s\tremaining: 1.57s\n",
      "708:\tlearn: 0.0564567\ttotal: 3.82s\tremaining: 1.57s\n",
      "709:\tlearn: 0.0563733\ttotal: 3.82s\tremaining: 1.56s\n",
      "710:\tlearn: 0.0562901\ttotal: 3.83s\tremaining: 1.55s\n",
      "711:\tlearn: 0.0561542\ttotal: 3.83s\tremaining: 1.55s\n",
      "712:\tlearn: 0.0560138\ttotal: 3.83s\tremaining: 1.54s\n",
      "713:\tlearn: 0.0559362\ttotal: 3.85s\tremaining: 1.54s\n",
      "714:\tlearn: 0.0558268\ttotal: 3.87s\tremaining: 1.54s\n",
      "715:\tlearn: 0.0557338\ttotal: 3.88s\tremaining: 1.54s\n",
      "716:\tlearn: 0.0556194\ttotal: 3.88s\tremaining: 1.53s\n",
      "717:\tlearn: 0.0555319\ttotal: 3.88s\tremaining: 1.52s\n",
      "718:\tlearn: 0.0554845\ttotal: 3.9s\tremaining: 1.52s\n",
      "719:\tlearn: 0.0554162\ttotal: 3.91s\tremaining: 1.52s\n",
      "720:\tlearn: 0.0553552\ttotal: 3.92s\tremaining: 1.51s\n",
      "721:\tlearn: 0.0552084\ttotal: 3.93s\tremaining: 1.51s\n",
      "722:\tlearn: 0.0551340\ttotal: 3.93s\tremaining: 1.51s\n",
      "723:\tlearn: 0.0550099\ttotal: 3.94s\tremaining: 1.5s\n",
      "724:\tlearn: 0.0548524\ttotal: 3.94s\tremaining: 1.49s\n",
      "725:\tlearn: 0.0547571\ttotal: 3.94s\tremaining: 1.49s\n",
      "726:\tlearn: 0.0545901\ttotal: 3.94s\tremaining: 1.48s\n",
      "727:\tlearn: 0.0545317\ttotal: 3.94s\tremaining: 1.47s\n",
      "728:\tlearn: 0.0544476\ttotal: 3.96s\tremaining: 1.47s\n",
      "729:\tlearn: 0.0543742\ttotal: 3.96s\tremaining: 1.46s\n",
      "730:\tlearn: 0.0543032\ttotal: 3.96s\tremaining: 1.46s\n",
      "731:\tlearn: 0.0542282\ttotal: 3.97s\tremaining: 1.45s\n",
      "732:\tlearn: 0.0540562\ttotal: 3.98s\tremaining: 1.45s\n",
      "733:\tlearn: 0.0539336\ttotal: 3.99s\tremaining: 1.45s\n",
      "734:\tlearn: 0.0538523\ttotal: 4s\tremaining: 1.44s\n",
      "735:\tlearn: 0.0537896\ttotal: 4s\tremaining: 1.44s\n",
      "736:\tlearn: 0.0537092\ttotal: 4s\tremaining: 1.43s\n",
      "737:\tlearn: 0.0536351\ttotal: 4s\tremaining: 1.42s\n",
      "738:\tlearn: 0.0534859\ttotal: 4.01s\tremaining: 1.42s\n",
      "739:\tlearn: 0.0534401\ttotal: 4.01s\tremaining: 1.41s\n",
      "740:\tlearn: 0.0533388\ttotal: 4.02s\tremaining: 1.4s\n",
      "741:\tlearn: 0.0532664\ttotal: 4.02s\tremaining: 1.4s\n",
      "742:\tlearn: 0.0532144\ttotal: 4.04s\tremaining: 1.4s\n",
      "743:\tlearn: 0.0530717\ttotal: 4.07s\tremaining: 1.4s\n",
      "744:\tlearn: 0.0529108\ttotal: 4.09s\tremaining: 1.4s\n",
      "745:\tlearn: 0.0528323\ttotal: 4.09s\tremaining: 1.39s\n",
      "746:\tlearn: 0.0527825\ttotal: 4.09s\tremaining: 1.39s\n",
      "747:\tlearn: 0.0526809\ttotal: 4.09s\tremaining: 1.38s\n",
      "748:\tlearn: 0.0525682\ttotal: 4.09s\tremaining: 1.37s\n",
      "749:\tlearn: 0.0525081\ttotal: 4.1s\tremaining: 1.36s\n",
      "750:\tlearn: 0.0524516\ttotal: 4.13s\tremaining: 1.37s\n",
      "751:\tlearn: 0.0523727\ttotal: 4.13s\tremaining: 1.36s\n",
      "752:\tlearn: 0.0523238\ttotal: 4.15s\tremaining: 1.36s\n",
      "753:\tlearn: 0.0522078\ttotal: 4.15s\tremaining: 1.35s\n",
      "754:\tlearn: 0.0520974\ttotal: 4.15s\tremaining: 1.35s\n",
      "755:\tlearn: 0.0520666\ttotal: 4.16s\tremaining: 1.34s\n",
      "756:\tlearn: 0.0520251\ttotal: 4.16s\tremaining: 1.34s\n",
      "757:\tlearn: 0.0519382\ttotal: 4.17s\tremaining: 1.33s\n",
      "758:\tlearn: 0.0518386\ttotal: 4.17s\tremaining: 1.32s\n",
      "759:\tlearn: 0.0516836\ttotal: 4.17s\tremaining: 1.32s\n",
      "760:\tlearn: 0.0516094\ttotal: 4.18s\tremaining: 1.31s\n",
      "761:\tlearn: 0.0515088\ttotal: 4.18s\tremaining: 1.31s\n",
      "762:\tlearn: 0.0513890\ttotal: 4.18s\tremaining: 1.3s\n",
      "763:\tlearn: 0.0513362\ttotal: 4.19s\tremaining: 1.29s\n",
      "764:\tlearn: 0.0512415\ttotal: 4.19s\tremaining: 1.29s\n",
      "765:\tlearn: 0.0511525\ttotal: 4.2s\tremaining: 1.28s\n",
      "766:\tlearn: 0.0510656\ttotal: 4.2s\tremaining: 1.27s\n",
      "767:\tlearn: 0.0509785\ttotal: 4.2s\tremaining: 1.27s\n",
      "768:\tlearn: 0.0509178\ttotal: 4.21s\tremaining: 1.26s\n",
      "769:\tlearn: 0.0507606\ttotal: 4.21s\tremaining: 1.26s\n",
      "770:\tlearn: 0.0506350\ttotal: 4.22s\tremaining: 1.25s\n",
      "771:\tlearn: 0.0504997\ttotal: 4.22s\tremaining: 1.25s\n",
      "772:\tlearn: 0.0504080\ttotal: 4.23s\tremaining: 1.24s\n",
      "773:\tlearn: 0.0503183\ttotal: 4.23s\tremaining: 1.24s\n",
      "774:\tlearn: 0.0502116\ttotal: 4.25s\tremaining: 1.23s\n",
      "775:\tlearn: 0.0501694\ttotal: 4.25s\tremaining: 1.23s\n",
      "776:\tlearn: 0.0500827\ttotal: 4.25s\tremaining: 1.22s\n",
      "777:\tlearn: 0.0500048\ttotal: 4.26s\tremaining: 1.22s\n",
      "778:\tlearn: 0.0499009\ttotal: 4.26s\tremaining: 1.21s\n",
      "779:\tlearn: 0.0498620\ttotal: 4.27s\tremaining: 1.2s\n",
      "780:\tlearn: 0.0497996\ttotal: 4.27s\tremaining: 1.2s\n",
      "781:\tlearn: 0.0497401\ttotal: 4.28s\tremaining: 1.19s\n",
      "782:\tlearn: 0.0496766\ttotal: 4.28s\tremaining: 1.19s\n",
      "783:\tlearn: 0.0495838\ttotal: 4.29s\tremaining: 1.18s\n",
      "784:\tlearn: 0.0495108\ttotal: 4.29s\tremaining: 1.18s\n",
      "785:\tlearn: 0.0493861\ttotal: 4.29s\tremaining: 1.17s\n",
      "786:\tlearn: 0.0493025\ttotal: 4.3s\tremaining: 1.16s\n",
      "787:\tlearn: 0.0492218\ttotal: 4.3s\tremaining: 1.16s\n",
      "788:\tlearn: 0.0491583\ttotal: 4.31s\tremaining: 1.15s\n",
      "789:\tlearn: 0.0490364\ttotal: 4.31s\tremaining: 1.15s\n",
      "790:\tlearn: 0.0489607\ttotal: 4.31s\tremaining: 1.14s\n",
      "791:\tlearn: 0.0489114\ttotal: 4.32s\tremaining: 1.13s\n",
      "792:\tlearn: 0.0488611\ttotal: 4.32s\tremaining: 1.13s\n",
      "793:\tlearn: 0.0487735\ttotal: 4.33s\tremaining: 1.12s\n",
      "794:\tlearn: 0.0487140\ttotal: 4.33s\tremaining: 1.12s\n",
      "795:\tlearn: 0.0486301\ttotal: 4.33s\tremaining: 1.11s\n",
      "796:\tlearn: 0.0485689\ttotal: 4.34s\tremaining: 1.1s\n",
      "797:\tlearn: 0.0484843\ttotal: 4.34s\tremaining: 1.1s\n",
      "798:\tlearn: 0.0483400\ttotal: 4.35s\tremaining: 1.09s\n",
      "799:\tlearn: 0.0482034\ttotal: 4.36s\tremaining: 1.09s\n",
      "800:\tlearn: 0.0481339\ttotal: 4.36s\tremaining: 1.08s\n",
      "801:\tlearn: 0.0480927\ttotal: 4.37s\tremaining: 1.08s\n",
      "802:\tlearn: 0.0480208\ttotal: 4.37s\tremaining: 1.07s\n",
      "803:\tlearn: 0.0479423\ttotal: 4.38s\tremaining: 1.07s\n",
      "804:\tlearn: 0.0478591\ttotal: 4.38s\tremaining: 1.06s\n",
      "805:\tlearn: 0.0477914\ttotal: 4.38s\tremaining: 1.05s\n",
      "806:\tlearn: 0.0477313\ttotal: 4.38s\tremaining: 1.05s\n",
      "807:\tlearn: 0.0475567\ttotal: 4.39s\tremaining: 1.04s\n",
      "808:\tlearn: 0.0474529\ttotal: 4.39s\tremaining: 1.04s\n",
      "809:\tlearn: 0.0473641\ttotal: 4.4s\tremaining: 1.03s\n",
      "810:\tlearn: 0.0472634\ttotal: 4.4s\tremaining: 1.02s\n",
      "811:\tlearn: 0.0472291\ttotal: 4.4s\tremaining: 1.02s\n",
      "812:\tlearn: 0.0471882\ttotal: 4.41s\tremaining: 1.01s\n",
      "813:\tlearn: 0.0471050\ttotal: 4.41s\tremaining: 1.01s\n",
      "814:\tlearn: 0.0470805\ttotal: 4.42s\tremaining: 1s\n",
      "815:\tlearn: 0.0470434\ttotal: 4.42s\tremaining: 998ms\n",
      "816:\tlearn: 0.0469136\ttotal: 4.43s\tremaining: 992ms\n",
      "817:\tlearn: 0.0468504\ttotal: 4.43s\tremaining: 986ms\n",
      "818:\tlearn: 0.0467343\ttotal: 4.43s\tremaining: 980ms\n",
      "819:\tlearn: 0.0466075\ttotal: 4.44s\tremaining: 974ms\n",
      "820:\tlearn: 0.0465427\ttotal: 4.44s\tremaining: 968ms\n",
      "821:\tlearn: 0.0464618\ttotal: 4.45s\tremaining: 963ms\n",
      "822:\tlearn: 0.0463826\ttotal: 4.45s\tremaining: 957ms\n",
      "823:\tlearn: 0.0463141\ttotal: 4.45s\tremaining: 951ms\n",
      "824:\tlearn: 0.0462392\ttotal: 4.46s\tremaining: 946ms\n",
      "825:\tlearn: 0.0460553\ttotal: 4.47s\tremaining: 941ms\n",
      "826:\tlearn: 0.0460172\ttotal: 4.47s\tremaining: 935ms\n",
      "827:\tlearn: 0.0459074\ttotal: 4.47s\tremaining: 929ms\n",
      "828:\tlearn: 0.0457444\ttotal: 4.48s\tremaining: 924ms\n",
      "829:\tlearn: 0.0456861\ttotal: 4.48s\tremaining: 918ms\n",
      "830:\tlearn: 0.0455806\ttotal: 4.49s\tremaining: 912ms\n",
      "831:\tlearn: 0.0454977\ttotal: 4.49s\tremaining: 906ms\n",
      "832:\tlearn: 0.0453945\ttotal: 4.49s\tremaining: 901ms\n",
      "833:\tlearn: 0.0453528\ttotal: 4.5s\tremaining: 895ms\n",
      "834:\tlearn: 0.0453076\ttotal: 4.51s\tremaining: 891ms\n",
      "835:\tlearn: 0.0452100\ttotal: 4.51s\tremaining: 885ms\n",
      "836:\tlearn: 0.0451504\ttotal: 4.51s\tremaining: 879ms\n",
      "837:\tlearn: 0.0450843\ttotal: 4.52s\tremaining: 873ms\n",
      "838:\tlearn: 0.0450160\ttotal: 4.52s\tremaining: 868ms\n",
      "839:\tlearn: 0.0449647\ttotal: 4.52s\tremaining: 862ms\n",
      "840:\tlearn: 0.0448835\ttotal: 4.53s\tremaining: 856ms\n",
      "841:\tlearn: 0.0447854\ttotal: 4.53s\tremaining: 850ms\n",
      "842:\tlearn: 0.0447256\ttotal: 4.54s\tremaining: 845ms\n",
      "843:\tlearn: 0.0446803\ttotal: 4.54s\tremaining: 839ms\n",
      "844:\tlearn: 0.0446323\ttotal: 4.54s\tremaining: 833ms\n",
      "845:\tlearn: 0.0445836\ttotal: 4.55s\tremaining: 828ms\n",
      "846:\tlearn: 0.0445612\ttotal: 4.55s\tremaining: 822ms\n",
      "847:\tlearn: 0.0444456\ttotal: 4.56s\tremaining: 817ms\n",
      "848:\tlearn: 0.0443804\ttotal: 4.56s\tremaining: 811ms\n",
      "849:\tlearn: 0.0443380\ttotal: 4.57s\tremaining: 806ms\n",
      "850:\tlearn: 0.0442945\ttotal: 4.58s\tremaining: 802ms\n",
      "851:\tlearn: 0.0442173\ttotal: 4.59s\tremaining: 797ms\n",
      "852:\tlearn: 0.0441527\ttotal: 4.59s\tremaining: 791ms\n",
      "853:\tlearn: 0.0440990\ttotal: 4.59s\tremaining: 785ms\n",
      "854:\tlearn: 0.0439891\ttotal: 4.59s\tremaining: 779ms\n",
      "855:\tlearn: 0.0439313\ttotal: 4.6s\tremaining: 773ms\n",
      "856:\tlearn: 0.0438142\ttotal: 4.6s\tremaining: 768ms\n",
      "857:\tlearn: 0.0437425\ttotal: 4.6s\tremaining: 762ms\n",
      "858:\tlearn: 0.0437149\ttotal: 4.6s\tremaining: 756ms\n",
      "859:\tlearn: 0.0436568\ttotal: 4.61s\tremaining: 750ms\n",
      "860:\tlearn: 0.0436077\ttotal: 4.62s\tremaining: 746ms\n",
      "861:\tlearn: 0.0435688\ttotal: 4.62s\tremaining: 740ms\n",
      "862:\tlearn: 0.0434635\ttotal: 4.63s\tremaining: 734ms\n",
      "863:\tlearn: 0.0433985\ttotal: 4.63s\tremaining: 728ms\n",
      "864:\tlearn: 0.0433428\ttotal: 4.63s\tremaining: 722ms\n",
      "865:\tlearn: 0.0432732\ttotal: 4.63s\tremaining: 717ms\n",
      "866:\tlearn: 0.0431545\ttotal: 4.64s\tremaining: 713ms\n",
      "867:\tlearn: 0.0430898\ttotal: 4.66s\tremaining: 709ms\n",
      "868:\tlearn: 0.0429684\ttotal: 4.66s\tremaining: 703ms\n",
      "869:\tlearn: 0.0428657\ttotal: 4.68s\tremaining: 699ms\n",
      "870:\tlearn: 0.0428341\ttotal: 4.68s\tremaining: 694ms\n",
      "871:\tlearn: 0.0427412\ttotal: 4.69s\tremaining: 688ms\n",
      "872:\tlearn: 0.0426572\ttotal: 4.69s\tremaining: 682ms\n",
      "873:\tlearn: 0.0425632\ttotal: 4.7s\tremaining: 678ms\n",
      "874:\tlearn: 0.0424771\ttotal: 4.72s\tremaining: 674ms\n",
      "875:\tlearn: 0.0424279\ttotal: 4.72s\tremaining: 668ms\n",
      "876:\tlearn: 0.0423721\ttotal: 4.73s\tremaining: 664ms\n",
      "877:\tlearn: 0.0422927\ttotal: 4.74s\tremaining: 658ms\n",
      "878:\tlearn: 0.0422081\ttotal: 4.74s\tremaining: 652ms\n",
      "879:\tlearn: 0.0421631\ttotal: 4.74s\tremaining: 647ms\n",
      "880:\tlearn: 0.0420856\ttotal: 4.75s\tremaining: 641ms\n",
      "881:\tlearn: 0.0420159\ttotal: 4.75s\tremaining: 635ms\n",
      "882:\tlearn: 0.0419534\ttotal: 4.75s\tremaining: 629ms\n",
      "883:\tlearn: 0.0419299\ttotal: 4.75s\tremaining: 624ms\n",
      "884:\tlearn: 0.0418581\ttotal: 4.76s\tremaining: 618ms\n",
      "885:\tlearn: 0.0417914\ttotal: 4.78s\tremaining: 614ms\n",
      "886:\tlearn: 0.0417233\ttotal: 4.78s\tremaining: 609ms\n",
      "887:\tlearn: 0.0416635\ttotal: 4.78s\tremaining: 603ms\n",
      "888:\tlearn: 0.0416092\ttotal: 4.78s\tremaining: 597ms\n",
      "889:\tlearn: 0.0415744\ttotal: 4.78s\tremaining: 591ms\n",
      "890:\tlearn: 0.0414642\ttotal: 4.79s\tremaining: 585ms\n",
      "891:\tlearn: 0.0413534\ttotal: 4.79s\tremaining: 580ms\n",
      "892:\tlearn: 0.0412831\ttotal: 4.81s\tremaining: 576ms\n",
      "893:\tlearn: 0.0411821\ttotal: 4.83s\tremaining: 573ms\n",
      "894:\tlearn: 0.0411344\ttotal: 4.83s\tremaining: 567ms\n",
      "895:\tlearn: 0.0410780\ttotal: 4.84s\tremaining: 562ms\n",
      "896:\tlearn: 0.0410591\ttotal: 4.84s\tremaining: 556ms\n",
      "897:\tlearn: 0.0409595\ttotal: 4.84s\tremaining: 550ms\n",
      "898:\tlearn: 0.0408969\ttotal: 4.85s\tremaining: 545ms\n",
      "899:\tlearn: 0.0408283\ttotal: 4.87s\tremaining: 541ms\n",
      "900:\tlearn: 0.0408043\ttotal: 4.87s\tremaining: 535ms\n",
      "901:\tlearn: 0.0407650\ttotal: 4.87s\tremaining: 529ms\n",
      "902:\tlearn: 0.0406979\ttotal: 4.87s\tremaining: 523ms\n",
      "903:\tlearn: 0.0406158\ttotal: 4.88s\tremaining: 518ms\n",
      "904:\tlearn: 0.0405496\ttotal: 4.89s\tremaining: 514ms\n",
      "905:\tlearn: 0.0404981\ttotal: 4.9s\tremaining: 508ms\n",
      "906:\tlearn: 0.0404101\ttotal: 4.9s\tremaining: 502ms\n",
      "907:\tlearn: 0.0403537\ttotal: 4.91s\tremaining: 497ms\n",
      "908:\tlearn: 0.0403233\ttotal: 4.92s\tremaining: 493ms\n",
      "909:\tlearn: 0.0402765\ttotal: 4.93s\tremaining: 487ms\n",
      "910:\tlearn: 0.0401899\ttotal: 4.93s\tremaining: 481ms\n",
      "911:\tlearn: 0.0401516\ttotal: 4.93s\tremaining: 476ms\n",
      "912:\tlearn: 0.0401073\ttotal: 4.93s\tremaining: 470ms\n",
      "913:\tlearn: 0.0400036\ttotal: 4.93s\tremaining: 464ms\n",
      "914:\tlearn: 0.0399603\ttotal: 4.94s\tremaining: 459ms\n",
      "915:\tlearn: 0.0399566\ttotal: 4.95s\tremaining: 454ms\n",
      "916:\tlearn: 0.0398965\ttotal: 4.96s\tremaining: 449ms\n",
      "917:\tlearn: 0.0398610\ttotal: 4.96s\tremaining: 443ms\n",
      "918:\tlearn: 0.0398002\ttotal: 4.96s\tremaining: 437ms\n",
      "919:\tlearn: 0.0397361\ttotal: 4.96s\tremaining: 432ms\n",
      "920:\tlearn: 0.0396586\ttotal: 4.97s\tremaining: 426ms\n",
      "921:\tlearn: 0.0396423\ttotal: 4.99s\tremaining: 422ms\n",
      "922:\tlearn: 0.0395439\ttotal: 4.99s\tremaining: 417ms\n",
      "923:\tlearn: 0.0394651\ttotal: 4.99s\tremaining: 411ms\n",
      "924:\tlearn: 0.0394455\ttotal: 5s\tremaining: 405ms\n",
      "925:\tlearn: 0.0393441\ttotal: 5s\tremaining: 400ms\n",
      "926:\tlearn: 0.0392757\ttotal: 5s\tremaining: 394ms\n",
      "927:\tlearn: 0.0392438\ttotal: 5s\tremaining: 388ms\n",
      "928:\tlearn: 0.0391830\ttotal: 5.01s\tremaining: 383ms\n",
      "929:\tlearn: 0.0390839\ttotal: 5.01s\tremaining: 377ms\n",
      "930:\tlearn: 0.0390473\ttotal: 5.01s\tremaining: 372ms\n",
      "931:\tlearn: 0.0389806\ttotal: 5.02s\tremaining: 366ms\n",
      "932:\tlearn: 0.0389238\ttotal: 5.03s\tremaining: 362ms\n",
      "933:\tlearn: 0.0388614\ttotal: 5.04s\tremaining: 356ms\n",
      "934:\tlearn: 0.0388036\ttotal: 5.06s\tremaining: 352ms\n",
      "935:\tlearn: 0.0387741\ttotal: 5.06s\tremaining: 346ms\n",
      "936:\tlearn: 0.0387477\ttotal: 5.07s\tremaining: 341ms\n",
      "937:\tlearn: 0.0386902\ttotal: 5.07s\tremaining: 335ms\n",
      "938:\tlearn: 0.0386101\ttotal: 5.07s\tremaining: 330ms\n",
      "939:\tlearn: 0.0385884\ttotal: 5.08s\tremaining: 324ms\n",
      "940:\tlearn: 0.0385166\ttotal: 5.08s\tremaining: 319ms\n",
      "941:\tlearn: 0.0384736\ttotal: 5.08s\tremaining: 313ms\n",
      "942:\tlearn: 0.0384368\ttotal: 5.09s\tremaining: 308ms\n",
      "943:\tlearn: 0.0384265\ttotal: 5.09s\tremaining: 302ms\n",
      "944:\tlearn: 0.0383847\ttotal: 5.1s\tremaining: 297ms\n",
      "945:\tlearn: 0.0383386\ttotal: 5.1s\tremaining: 291ms\n",
      "946:\tlearn: 0.0383017\ttotal: 5.1s\tremaining: 286ms\n",
      "947:\tlearn: 0.0382388\ttotal: 5.1s\tremaining: 280ms\n",
      "948:\tlearn: 0.0381917\ttotal: 5.11s\tremaining: 274ms\n",
      "949:\tlearn: 0.0380822\ttotal: 5.11s\tremaining: 269ms\n",
      "950:\tlearn: 0.0380396\ttotal: 5.13s\tremaining: 264ms\n",
      "951:\tlearn: 0.0379948\ttotal: 5.13s\tremaining: 259ms\n",
      "952:\tlearn: 0.0379427\ttotal: 5.13s\tremaining: 253ms\n",
      "953:\tlearn: 0.0379357\ttotal: 5.14s\tremaining: 248ms\n",
      "954:\tlearn: 0.0378672\ttotal: 5.14s\tremaining: 242ms\n",
      "955:\tlearn: 0.0378227\ttotal: 5.14s\tremaining: 237ms\n",
      "956:\tlearn: 0.0377448\ttotal: 5.15s\tremaining: 232ms\n",
      "957:\tlearn: 0.0377210\ttotal: 5.16s\tremaining: 226ms\n",
      "958:\tlearn: 0.0376771\ttotal: 5.16s\tremaining: 221ms\n",
      "959:\tlearn: 0.0376394\ttotal: 5.16s\tremaining: 215ms\n",
      "960:\tlearn: 0.0375432\ttotal: 5.16s\tremaining: 210ms\n",
      "961:\tlearn: 0.0375056\ttotal: 5.17s\tremaining: 204ms\n",
      "962:\tlearn: 0.0374244\ttotal: 5.17s\tremaining: 199ms\n",
      "963:\tlearn: 0.0373847\ttotal: 5.17s\tremaining: 193ms\n",
      "964:\tlearn: 0.0373778\ttotal: 5.18s\tremaining: 188ms\n",
      "965:\tlearn: 0.0373459\ttotal: 5.18s\tremaining: 183ms\n",
      "966:\tlearn: 0.0372674\ttotal: 5.19s\tremaining: 177ms\n",
      "967:\tlearn: 0.0372189\ttotal: 5.19s\tremaining: 172ms\n",
      "968:\tlearn: 0.0372087\ttotal: 5.19s\tremaining: 166ms\n",
      "969:\tlearn: 0.0371674\ttotal: 5.2s\tremaining: 161ms\n",
      "970:\tlearn: 0.0371254\ttotal: 5.2s\tremaining: 155ms\n",
      "971:\tlearn: 0.0370333\ttotal: 5.21s\tremaining: 150ms\n",
      "972:\tlearn: 0.0370022\ttotal: 5.21s\tremaining: 145ms\n",
      "973:\tlearn: 0.0369982\ttotal: 5.21s\tremaining: 139ms\n",
      "974:\tlearn: 0.0369107\ttotal: 5.21s\tremaining: 134ms\n",
      "975:\tlearn: 0.0368421\ttotal: 5.21s\tremaining: 128ms\n",
      "976:\tlearn: 0.0367825\ttotal: 5.22s\tremaining: 123ms\n",
      "977:\tlearn: 0.0367415\ttotal: 5.22s\tremaining: 117ms\n",
      "978:\tlearn: 0.0366783\ttotal: 5.22s\tremaining: 112ms\n",
      "979:\tlearn: 0.0365946\ttotal: 5.23s\tremaining: 107ms\n",
      "980:\tlearn: 0.0365481\ttotal: 5.23s\tremaining: 101ms\n",
      "981:\tlearn: 0.0364777\ttotal: 5.24s\tremaining: 96ms\n",
      "982:\tlearn: 0.0364412\ttotal: 5.24s\tremaining: 90.6ms\n",
      "983:\tlearn: 0.0363569\ttotal: 5.24s\tremaining: 85.3ms\n",
      "984:\tlearn: 0.0362825\ttotal: 5.24s\tremaining: 79.9ms\n",
      "985:\tlearn: 0.0361722\ttotal: 5.25s\tremaining: 74.5ms\n",
      "986:\tlearn: 0.0361516\ttotal: 5.25s\tremaining: 69.2ms\n",
      "987:\tlearn: 0.0361256\ttotal: 5.26s\tremaining: 63.9ms\n",
      "988:\tlearn: 0.0360437\ttotal: 5.26s\tremaining: 58.5ms\n",
      "989:\tlearn: 0.0360046\ttotal: 5.26s\tremaining: 53.2ms\n",
      "990:\tlearn: 0.0359285\ttotal: 5.27s\tremaining: 47.8ms\n",
      "991:\tlearn: 0.0358896\ttotal: 5.27s\tremaining: 42.5ms\n",
      "992:\tlearn: 0.0358637\ttotal: 5.27s\tremaining: 37.2ms\n",
      "993:\tlearn: 0.0357962\ttotal: 5.28s\tremaining: 31.9ms\n",
      "994:\tlearn: 0.0357655\ttotal: 5.29s\tremaining: 26.6ms\n",
      "995:\tlearn: 0.0356829\ttotal: 5.29s\tremaining: 21.3ms\n",
      "996:\tlearn: 0.0356448\ttotal: 5.3s\tremaining: 15.9ms\n",
      "997:\tlearn: 0.0355964\ttotal: 5.3s\tremaining: 10.6ms\n",
      "998:\tlearn: 0.0355397\ttotal: 5.3s\tremaining: 5.3ms\n",
      "999:\tlearn: 0.0354587\ttotal: 5.3s\tremaining: 0us\n"
     ]
    }
   ],
   "source": [
    "model4.fit(X_train,y_train)\n",
    "y_pred4 = model4.predict(X_test)"
   ]
  },
  {
   "cell_type": "code",
   "execution_count": 54,
   "id": "aab74732",
   "metadata": {
    "execution": {
     "iopub.execute_input": "2022-01-27T10:37:07.176675Z",
     "iopub.status.busy": "2022-01-27T10:37:07.175823Z",
     "iopub.status.idle": "2022-01-27T10:37:07.178996Z",
     "shell.execute_reply": "2022-01-27T10:37:07.179416Z",
     "shell.execute_reply.started": "2022-01-27T10:14:03.702998Z"
    },
    "executionInfo": {
     "elapsed": 1154,
     "status": "ok",
     "timestamp": 1602075852195,
     "user": {
      "displayName": "Pianalytix Vrec",
      "photoUrl": "",
      "userId": "08286299111597749388"
     },
     "user_tz": -330
    },
    "id": "g9uiEs4t1dH8",
    "outputId": "2822376f-68e7-4708-953d-8f88fca80c6d",
    "papermill": {
     "duration": 0.098961,
     "end_time": "2022-01-27T10:37:07.179704",
     "exception": false,
     "start_time": "2022-01-27T10:37:07.080743",
     "status": "completed"
    },
    "tags": []
   },
   "outputs": [
    {
     "name": "stdout",
     "output_type": "stream",
     "text": [
      "0.9902597402597403\n"
     ]
    }
   ],
   "source": [
    "print(accuracy_score(y_test,y_pred4))"
   ]
  }
 ],
 "metadata": {
  "kernelspec": {
   "display_name": "Python 3",
   "language": "python",
   "name": "python3"
  },
  "language_info": {
   "codemirror_mode": {
    "name": "ipython",
    "version": 3
   },
   "file_extension": ".py",
   "mimetype": "text/x-python",
   "name": "python",
   "nbconvert_exporter": "python",
   "pygments_lexer": "ipython3",
   "version": "3.9.2"
  },
  "papermill": {
   "default_parameters": {},
   "duration": 409.588494,
   "end_time": "2022-01-27T10:37:08.181480",
   "environment_variables": {},
   "exception": null,
   "input_path": "__notebook__.ipynb",
   "output_path": "__notebook__.ipynb",
   "parameters": {},
   "start_time": "2022-01-27T10:30:18.592986",
   "version": "2.3.3"
  }
 },
 "nbformat": 4,
 "nbformat_minor": 5
}
